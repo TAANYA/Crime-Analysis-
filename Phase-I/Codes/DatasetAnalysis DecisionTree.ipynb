{
 "cells": [
  {
   "cell_type": "markdown",
   "metadata": {},
   "source": [
    "# DataSet Analysis "
   ]
  },
  {
   "cell_type": "markdown",
   "metadata": {},
   "source": [
    "#### Importing the dataset"
   ]
  },
  {
   "cell_type": "code",
   "execution_count": 1,
   "metadata": {
    "collapsed": true
   },
   "outputs": [],
   "source": [
    "import pandas as pd \n",
    "import random "
   ]
  },
  {
   "cell_type": "code",
   "execution_count": 2,
   "metadata": {
    "collapsed": true
   },
   "outputs": [],
   "source": [
    "#considering only first 2 Lakhs entry \n",
    "\"\"\"\n",
    "n = 7000000 #number of records in file\n",
    "s = 200000 #desired sample size\n",
    "skip = sorted(random.sample(range(n),n-s))\n",
    "\"\"\"\n",
    "data = pd.read_csv(\"Crimes_-_2001_to_present.csv\",nrows = 1000000)"
   ]
  },
  {
   "cell_type": "markdown",
   "metadata": {},
   "source": [
    "#### _checking the available data_"
   ]
  },
  {
   "cell_type": "code",
   "execution_count": 3,
   "metadata": {},
   "outputs": [
    {
     "data": {
      "text/plain": [
       "(1000000, 22)"
      ]
     },
     "execution_count": 3,
     "metadata": {},
     "output_type": "execute_result"
    }
   ],
   "source": [
    "data.shape"
   ]
  },
  {
   "cell_type": "markdown",
   "metadata": {},
   "source": [
    "#### _column values of the data available_"
   ]
  },
  {
   "cell_type": "code",
   "execution_count": 4,
   "metadata": {},
   "outputs": [
    {
     "data": {
      "text/plain": [
       "array(['ID', 'Case Number', 'Date', 'Block', 'IUCR', 'Primary Type',\n",
       "       'Description', 'Location Description', 'Arrest', 'Domestic',\n",
       "       'Beat', 'District', 'Ward', 'Community Area', 'FBI Code',\n",
       "       'X Coordinate', 'Y Coordinate', 'Year', 'Updated On', 'Latitude',\n",
       "       'Longitude', 'Location'], dtype=object)"
      ]
     },
     "execution_count": 4,
     "metadata": {},
     "output_type": "execute_result"
    }
   ],
   "source": [
    "data.columns.values "
   ]
  },
  {
   "cell_type": "code",
   "execution_count": 5,
   "metadata": {},
   "outputs": [
    {
     "data": {
      "text/html": [
       "<div>\n",
       "<style scoped>\n",
       "    .dataframe tbody tr th:only-of-type {\n",
       "        vertical-align: middle;\n",
       "    }\n",
       "\n",
       "    .dataframe tbody tr th {\n",
       "        vertical-align: top;\n",
       "    }\n",
       "\n",
       "    .dataframe thead th {\n",
       "        text-align: right;\n",
       "    }\n",
       "</style>\n",
       "<table border=\"1\" class=\"dataframe\">\n",
       "  <thead>\n",
       "    <tr style=\"text-align: right;\">\n",
       "      <th></th>\n",
       "      <th>ID</th>\n",
       "      <th>Case Number</th>\n",
       "      <th>Date</th>\n",
       "      <th>Block</th>\n",
       "      <th>IUCR</th>\n",
       "      <th>Primary Type</th>\n",
       "      <th>Description</th>\n",
       "      <th>Location Description</th>\n",
       "      <th>Arrest</th>\n",
       "      <th>Domestic</th>\n",
       "      <th>...</th>\n",
       "      <th>Ward</th>\n",
       "      <th>Community Area</th>\n",
       "      <th>FBI Code</th>\n",
       "      <th>X Coordinate</th>\n",
       "      <th>Y Coordinate</th>\n",
       "      <th>Year</th>\n",
       "      <th>Updated On</th>\n",
       "      <th>Latitude</th>\n",
       "      <th>Longitude</th>\n",
       "      <th>Location</th>\n",
       "    </tr>\n",
       "  </thead>\n",
       "  <tbody>\n",
       "    <tr>\n",
       "      <th>0</th>\n",
       "      <td>10000092</td>\n",
       "      <td>HY189866</td>\n",
       "      <td>03/18/2015 07:44:00 PM</td>\n",
       "      <td>047XX W OHIO ST</td>\n",
       "      <td>041A</td>\n",
       "      <td>BATTERY</td>\n",
       "      <td>AGGRAVATED: HANDGUN</td>\n",
       "      <td>STREET</td>\n",
       "      <td>False</td>\n",
       "      <td>False</td>\n",
       "      <td>...</td>\n",
       "      <td>28.0</td>\n",
       "      <td>25.0</td>\n",
       "      <td>04B</td>\n",
       "      <td>1144606.0</td>\n",
       "      <td>1903566.0</td>\n",
       "      <td>2015</td>\n",
       "      <td>02/10/2018 03:50:01 PM</td>\n",
       "      <td>41.891399</td>\n",
       "      <td>-87.744385</td>\n",
       "      <td>(41.891398861, -87.744384567)</td>\n",
       "    </tr>\n",
       "    <tr>\n",
       "      <th>1</th>\n",
       "      <td>10000094</td>\n",
       "      <td>HY190059</td>\n",
       "      <td>03/18/2015 11:00:00 PM</td>\n",
       "      <td>066XX S MARSHFIELD AVE</td>\n",
       "      <td>4625</td>\n",
       "      <td>OTHER OFFENSE</td>\n",
       "      <td>PAROLE VIOLATION</td>\n",
       "      <td>STREET</td>\n",
       "      <td>True</td>\n",
       "      <td>False</td>\n",
       "      <td>...</td>\n",
       "      <td>15.0</td>\n",
       "      <td>67.0</td>\n",
       "      <td>26</td>\n",
       "      <td>1166468.0</td>\n",
       "      <td>1860715.0</td>\n",
       "      <td>2015</td>\n",
       "      <td>02/10/2018 03:50:01 PM</td>\n",
       "      <td>41.773372</td>\n",
       "      <td>-87.665319</td>\n",
       "      <td>(41.773371528, -87.665319468)</td>\n",
       "    </tr>\n",
       "    <tr>\n",
       "      <th>2</th>\n",
       "      <td>10000095</td>\n",
       "      <td>HY190052</td>\n",
       "      <td>03/18/2015 10:45:00 PM</td>\n",
       "      <td>044XX S LAKE PARK AVE</td>\n",
       "      <td>0486</td>\n",
       "      <td>BATTERY</td>\n",
       "      <td>DOMESTIC BATTERY SIMPLE</td>\n",
       "      <td>APARTMENT</td>\n",
       "      <td>False</td>\n",
       "      <td>True</td>\n",
       "      <td>...</td>\n",
       "      <td>4.0</td>\n",
       "      <td>39.0</td>\n",
       "      <td>08B</td>\n",
       "      <td>1185075.0</td>\n",
       "      <td>1875622.0</td>\n",
       "      <td>2015</td>\n",
       "      <td>02/10/2018 03:50:01 PM</td>\n",
       "      <td>41.813861</td>\n",
       "      <td>-87.596643</td>\n",
       "      <td>(41.81386068, -87.596642837)</td>\n",
       "    </tr>\n",
       "    <tr>\n",
       "      <th>3</th>\n",
       "      <td>10000096</td>\n",
       "      <td>HY190054</td>\n",
       "      <td>03/18/2015 10:30:00 PM</td>\n",
       "      <td>051XX S MICHIGAN AVE</td>\n",
       "      <td>0460</td>\n",
       "      <td>BATTERY</td>\n",
       "      <td>SIMPLE</td>\n",
       "      <td>APARTMENT</td>\n",
       "      <td>False</td>\n",
       "      <td>False</td>\n",
       "      <td>...</td>\n",
       "      <td>3.0</td>\n",
       "      <td>40.0</td>\n",
       "      <td>08B</td>\n",
       "      <td>1178033.0</td>\n",
       "      <td>1870804.0</td>\n",
       "      <td>2015</td>\n",
       "      <td>02/10/2018 03:50:01 PM</td>\n",
       "      <td>41.800802</td>\n",
       "      <td>-87.622619</td>\n",
       "      <td>(41.800802415, -87.622619343)</td>\n",
       "    </tr>\n",
       "    <tr>\n",
       "      <th>4</th>\n",
       "      <td>10000097</td>\n",
       "      <td>HY189976</td>\n",
       "      <td>03/18/2015 09:00:00 PM</td>\n",
       "      <td>047XX W ADAMS ST</td>\n",
       "      <td>031A</td>\n",
       "      <td>ROBBERY</td>\n",
       "      <td>ARMED: HANDGUN</td>\n",
       "      <td>SIDEWALK</td>\n",
       "      <td>False</td>\n",
       "      <td>False</td>\n",
       "      <td>...</td>\n",
       "      <td>28.0</td>\n",
       "      <td>25.0</td>\n",
       "      <td>03</td>\n",
       "      <td>1144920.0</td>\n",
       "      <td>1898709.0</td>\n",
       "      <td>2015</td>\n",
       "      <td>02/10/2018 03:50:01 PM</td>\n",
       "      <td>41.878065</td>\n",
       "      <td>-87.743354</td>\n",
       "      <td>(41.878064761, -87.743354013)</td>\n",
       "    </tr>\n",
       "  </tbody>\n",
       "</table>\n",
       "<p>5 rows × 22 columns</p>\n",
       "</div>"
      ],
      "text/plain": [
       "         ID Case Number                    Date                   Block  IUCR  \\\n",
       "0  10000092    HY189866  03/18/2015 07:44:00 PM         047XX W OHIO ST  041A   \n",
       "1  10000094    HY190059  03/18/2015 11:00:00 PM  066XX S MARSHFIELD AVE  4625   \n",
       "2  10000095    HY190052  03/18/2015 10:45:00 PM   044XX S LAKE PARK AVE  0486   \n",
       "3  10000096    HY190054  03/18/2015 10:30:00 PM    051XX S MICHIGAN AVE  0460   \n",
       "4  10000097    HY189976  03/18/2015 09:00:00 PM        047XX W ADAMS ST  031A   \n",
       "\n",
       "    Primary Type              Description Location Description  Arrest  \\\n",
       "0        BATTERY      AGGRAVATED: HANDGUN               STREET   False   \n",
       "1  OTHER OFFENSE         PAROLE VIOLATION               STREET    True   \n",
       "2        BATTERY  DOMESTIC BATTERY SIMPLE            APARTMENT   False   \n",
       "3        BATTERY                   SIMPLE            APARTMENT   False   \n",
       "4        ROBBERY           ARMED: HANDGUN             SIDEWALK   False   \n",
       "\n",
       "   Domestic              ...                Ward  Community Area  FBI Code  \\\n",
       "0     False              ...                28.0            25.0       04B   \n",
       "1     False              ...                15.0            67.0        26   \n",
       "2      True              ...                 4.0            39.0       08B   \n",
       "3     False              ...                 3.0            40.0       08B   \n",
       "4     False              ...                28.0            25.0        03   \n",
       "\n",
       "   X Coordinate Y Coordinate  Year              Updated On   Latitude  \\\n",
       "0     1144606.0    1903566.0  2015  02/10/2018 03:50:01 PM  41.891399   \n",
       "1     1166468.0    1860715.0  2015  02/10/2018 03:50:01 PM  41.773372   \n",
       "2     1185075.0    1875622.0  2015  02/10/2018 03:50:01 PM  41.813861   \n",
       "3     1178033.0    1870804.0  2015  02/10/2018 03:50:01 PM  41.800802   \n",
       "4     1144920.0    1898709.0  2015  02/10/2018 03:50:01 PM  41.878065   \n",
       "\n",
       "   Longitude                       Location  \n",
       "0 -87.744385  (41.891398861, -87.744384567)  \n",
       "1 -87.665319  (41.773371528, -87.665319468)  \n",
       "2 -87.596643   (41.81386068, -87.596642837)  \n",
       "3 -87.622619  (41.800802415, -87.622619343)  \n",
       "4 -87.743354  (41.878064761, -87.743354013)  \n",
       "\n",
       "[5 rows x 22 columns]"
      ]
     },
     "execution_count": 5,
     "metadata": {},
     "output_type": "execute_result"
    }
   ],
   "source": [
    "data.head(5)"
   ]
  },
  {
   "cell_type": "code",
   "execution_count": 6,
   "metadata": {},
   "outputs": [
    {
     "name": "stdout",
     "output_type": "stream",
     "text": [
      "No of columns in data dataset: 22\n"
     ]
    }
   ],
   "source": [
    "print(\"No of columns in data dataset: \"+str(len(data.columns.values)))"
   ]
  },
  {
   "cell_type": "markdown",
   "metadata": {},
   "source": [
    "## Visualising the dataset "
   ]
  },
  {
   "cell_type": "markdown",
   "metadata": {},
   "source": [
    "### importing the required libraries "
   ]
  },
  {
   "cell_type": "code",
   "execution_count": 7,
   "metadata": {
    "collapsed": true
   },
   "outputs": [],
   "source": [
    "import matplotlib.pyplot as plt\n",
    "import seaborn as sns\n",
    "%matplotlib inline "
   ]
  },
  {
   "cell_type": "markdown",
   "metadata": {},
   "source": [
    "#### _getting the columns as a list _"
   ]
  },
  {
   "cell_type": "code",
   "execution_count": 8,
   "metadata": {},
   "outputs": [
    {
     "name": "stdout",
     "output_type": "stream",
     "text": [
      "['ID', 'Case Number', 'Date', 'Block', 'IUCR', 'Primary Type', 'Description', 'Location Description', 'Arrest', 'Domestic', 'Beat', 'District', 'Ward', 'Community Area', 'FBI Code', 'X Coordinate', 'Y Coordinate', 'Year', 'Updated On', 'Latitude', 'Longitude', 'Location']\n"
     ]
    }
   ],
   "source": [
    "columns = data.columns.get_values().tolist()\n",
    "print(columns)"
   ]
  },
  {
   "cell_type": "markdown",
   "metadata": {},
   "source": [
    "## Primary Type \n",
    "### _The primary description of the criminal offense._"
   ]
  },
  {
   "cell_type": "code",
   "execution_count": 9,
   "metadata": {},
   "outputs": [
    {
     "data": {
      "text/plain": [
       "[Text(0,0,'BATTERY'),\n",
       " Text(0,0,'OTHER OFFENSE'),\n",
       " Text(0,0,'ROBBERY'),\n",
       " Text(0,0,'NARCOTICS'),\n",
       " Text(0,0,'CRIMINAL DAMAGE'),\n",
       " Text(0,0,'WEAPONS VIOLATION'),\n",
       " Text(0,0,'THEFT'),\n",
       " Text(0,0,'BURGLARY'),\n",
       " Text(0,0,'MOTOR VEHICLE THEFT'),\n",
       " Text(0,0,'PUBLIC PEACE VIOLATION'),\n",
       " Text(0,0,'DECEPTIVE PRACTICE'),\n",
       " Text(0,0,'ASSAULT'),\n",
       " Text(0,0,'CRIMINAL TRESPASS'),\n",
       " Text(0,0,'CRIM SEXUAL ASSAULT'),\n",
       " Text(0,0,'INTERFERENCE WITH PUBLIC OFFICER'),\n",
       " Text(0,0,'ARSON'),\n",
       " Text(0,0,'LIQUOR LAW VIOLATION'),\n",
       " Text(0,0,'KIDNAPPING'),\n",
       " Text(0,0,'SEX OFFENSE'),\n",
       " Text(0,0,'OFFENSE INVOLVING CHILDREN'),\n",
       " Text(0,0,'PROSTITUTION'),\n",
       " Text(0,0,'HOMICIDE'),\n",
       " Text(0,0,'GAMBLING'),\n",
       " Text(0,0,'INTIMIDATION'),\n",
       " Text(0,0,'STALKING'),\n",
       " Text(0,0,'OBSCENITY'),\n",
       " Text(0,0,'PUBLIC INDECENCY'),\n",
       " Text(0,0,'HUMAN TRAFFICKING'),\n",
       " Text(0,0,'CONCEALED CARRY LICENSE VIOLATION'),\n",
       " Text(0,0,'OTHER NARCOTIC VIOLATION'),\n",
       " Text(0,0,'NON - CRIMINAL'),\n",
       " Text(0,0,'NON-CRIMINAL'),\n",
       " Text(0,0,'RITUALISM'),\n",
       " Text(0,0,'NON-CRIMINAL (SUBJECT SPECIFIED)')]"
      ]
     },
     "execution_count": 9,
     "metadata": {},
     "output_type": "execute_result"
    },
    {
     "data": {
      "image/png": "[encoded data removed]",
      "text/plain": [
       "<Figure size 432x288 with 1 Axes>"
      ]
     },
     "metadata": {
      "needs_background": "light"
     },
     "output_type": "display_data"
    }
   ],
   "source": [
    "plot = sns.countplot(x=columns[5], data=data)\n",
    "locs, labels = plt.xticks()\n",
    "plot.set_xticklabels(labels ,rotation=90)"
   ]
  },
  {
   "cell_type": "markdown",
   "metadata": {
    "collapsed": true
   },
   "source": [
    "## Arrest \n",
    "### _Indicates whether an arrest was made or not._"
   ]
  },
  {
   "cell_type": "code",
   "execution_count": 10,
   "metadata": {},
   "outputs": [
    {
     "data": {
      "image/png": "[encoded data removed]",
      "text/plain": [
       "<Figure size 432x288 with 1 Axes>"
      ]
     },
     "metadata": {
      "needs_background": "light"
     },
     "output_type": "display_data"
    }
   ],
   "source": [
    "plot = sns.countplot(x=columns[8], data=data)"
   ]
  },
  {
   "cell_type": "markdown",
   "metadata": {},
   "source": [
    "## District \n",
    "### _Indicates the police district where the incident occurred._"
   ]
  },
  {
   "cell_type": "code",
   "execution_count": 11,
   "metadata": {},
   "outputs": [
    {
     "data": {
      "text/plain": [
       "[Text(0,0,'1.0'),\n",
       " Text(0,0,'2.0'),\n",
       " Text(0,0,'3.0'),\n",
       " Text(0,0,'4.0'),\n",
       " Text(0,0,'5.0'),\n",
       " Text(0,0,'6.0'),\n",
       " Text(0,0,'7.0'),\n",
       " Text(0,0,'8.0'),\n",
       " Text(0,0,'9.0'),\n",
       " Text(0,0,'10.0'),\n",
       " Text(0,0,'11.0'),\n",
       " Text(0,0,'12.0'),\n",
       " Text(0,0,'14.0'),\n",
       " Text(0,0,'15.0'),\n",
       " Text(0,0,'16.0'),\n",
       " Text(0,0,'17.0'),\n",
       " Text(0,0,'18.0'),\n",
       " Text(0,0,'19.0'),\n",
       " Text(0,0,'20.0'),\n",
       " Text(0,0,'22.0'),\n",
       " Text(0,0,'24.0'),\n",
       " Text(0,0,'25.0'),\n",
       " Text(0,0,'31.0')]"
      ]
     },
     "execution_count": 11,
     "metadata": {},
     "output_type": "execute_result"
    },
    {
     "data": {
      "image/png": "[encoded data removed]",
      "text/plain": [
       "<Figure size 432x288 with 1 Axes>"
      ]
     },
     "metadata": {
      "needs_background": "light"
     },
     "output_type": "display_data"
    }
   ],
   "source": [
    "plot = sns.countplot(x=columns[11], data=data)\n",
    "locs, labels = plt.xticks()\n",
    "plot.set_xticklabels(labels ,rotation=90)"
   ]
  },
  {
   "cell_type": "markdown",
   "metadata": {},
   "source": [
    "## Domestic \n",
    "### _Indicates whether the incident was domestic-related as defined by the Domestic Violence Act._"
   ]
  },
  {
   "cell_type": "code",
   "execution_count": 12,
   "metadata": {},
   "outputs": [
    {
     "data": {
      "image/png": "[encoded data removed]",
      "text/plain": [
       "<Figure size 432x288 with 1 Axes>"
      ]
     },
     "metadata": {
      "needs_background": "light"
     },
     "output_type": "display_data"
    }
   ],
   "source": [
    "plot = sns.countplot(x=columns[9], data=data)"
   ]
  },
  {
   "cell_type": "markdown",
   "metadata": {},
   "source": [
    "## Location Description \n",
    "### _Description of the location where the incident occured._"
   ]
  },
  {
   "cell_type": "code",
   "execution_count": 13,
   "metadata": {},
   "outputs": [
    {
     "data": {
      "text/plain": [
       "[Text(0,0,'STREET'),\n",
       " Text(0,0,'APARTMENT'),\n",
       " Text(0,0,'SIDEWALK'),\n",
       " Text(0,0,'RESIDENCE PORCH/HALLWAY'),\n",
       " Text(0,0,'PARKING LOT/GARAGE(NON.RESID.)'),\n",
       " Text(0,0,'CTA GARAGE / OTHER PROPERTY'),\n",
       " Text(0,0,'DRIVEWAY - RESIDENTIAL'),\n",
       " Text(0,0,'GAS STATION'),\n",
       " Text(0,0,'OTHER'),\n",
       " Text(0,0,'GROCERY FOOD STORE'),\n",
       " Text(0,0,'ALLEY'),\n",
       " Text(0,0,'BAR OR TAVERN'),\n",
       " Text(0,0,'VEHICLE NON-COMMERCIAL'),\n",
       " Text(0,0,'RESIDENCE'),\n",
       " Text(0,0,'FACTORY/MANUFACTURING BUILDING'),\n",
       " Text(0,0,'CTA BUS STOP'),\n",
       " Text(0,0,'SCHOOL, PUBLIC, BUILDING'),\n",
       " Text(0,0,'DRUG STORE'),\n",
       " Text(0,0,'COMMERCIAL / BUSINESS OFFICE'),\n",
       " Text(0,0,'RESIDENCE-GARAGE'),\n",
       " Text(0,0,'SMALL RETAIL STORE'),\n",
       " Text(0,0,'NURSING HOME/RETIREMENT HOME'),\n",
       " Text(0,0,'VACANT LOT/LAND'),\n",
       " Text(0,0,'RESTAURANT'),\n",
       " Text(0,0,'HOSPITAL BUILDING/GROUNDS'),\n",
       " Text(0,0,'DEPARTMENT STORE'),\n",
       " Text(0,0,'CHURCH/SYNAGOGUE/PLACE OF WORSHIP'),\n",
       " Text(0,0,'SCHOOL, PUBLIC, GROUNDS'),\n",
       " Text(0,0,'HOTEL/MOTEL'),\n",
       " Text(0,0,'MEDICAL/DENTAL OFFICE'),\n",
       " Text(0,0,'SCHOOL, PRIVATE, BUILDING'),\n",
       " Text(0,0,'CTA BUS'),\n",
       " Text(0,0,'RESIDENTIAL YARD (FRONT/BACK)'),\n",
       " Text(0,0,'GOVERNMENT BUILDING/PROPERTY'),\n",
       " Text(0,0,'DAY CARE CENTER'),\n",
       " Text(0,0,'AIRPORT/AIRCRAFT'),\n",
       " Text(0,0,'CAR WASH'),\n",
       " Text(0,0,'BANK'),\n",
       " Text(0,0,'TAVERN/LIQUOR STORE'),\n",
       " Text(0,0,'COLLEGE/UNIVERSITY RESIDENCE HALL'),\n",
       " Text(0,0,'COLLEGE/UNIVERSITY GROUNDS'),\n",
       " Text(0,0,'TAXICAB'),\n",
       " Text(0,0,'AIRPORT TERMINAL UPPER LEVEL - SECURE AREA'),\n",
       " Text(0,0,'SCHOOL, PRIVATE, GROUNDS'),\n",
       " Text(0,0,'OTHER RAILROAD PROP / TRAIN DEPOT'),\n",
       " Text(0,0,'BARBERSHOP'),\n",
       " Text(0,0,'PARK PROPERTY'),\n",
       " Text(0,0,'CTA TRACKS - RIGHT OF WAY'),\n",
       " Text(0,0,'ATM (AUTOMATIC TELLER MACHINE)'),\n",
       " Text(0,0,'VEHICLE-COMMERCIAL'),\n",
       " Text(0,0,'ATHLETIC CLUB'),\n",
       " Text(0,0,'CONVENIENCE STORE'),\n",
       " Text(0,0,'CONSTRUCTION SITE'),\n",
       " Text(0,0,'CHA APARTMENT'),\n",
       " Text(0,0,'CHA PARKING LOT/GROUNDS'),\n",
       " Text(0,0,'CTA PLATFORM'),\n",
       " Text(0,0,'CLEANING STORE'),\n",
       " Text(0,0,'OTHER COMMERCIAL TRANSPORTATION'),\n",
       " Text(0,0,'AIRPORT TERMINAL LOWER LEVEL - SECURE AREA'),\n",
       " Text(0,0,'CTA STATION'),\n",
       " Text(0,0,'CURRENCY EXCHANGE'),\n",
       " Text(0,0,'WAREHOUSE'),\n",
       " Text(0,0,'CTA TRAIN'),\n",
       " Text(0,0,'POLICE FACILITY/VEH PARKING LOT'),\n",
       " Text(0,0,'AIRCRAFT'),\n",
       " Text(0,0,'AIRPORT TERMINAL MEZZANINE - NON-SECURE AREA'),\n",
       " Text(0,0,'AIRPORT VENDING ESTABLISHMENT'),\n",
       " Text(0,0,'AIRPORT BUILDING NON-TERMINAL - NON-SECURE AREA'),\n",
       " Text(0,0,'AIRPORT TERMINAL LOWER LEVEL - NON-SECURE AREA'),\n",
       " Text(0,0,'HOUSE'),\n",
       " Text(0,0,'SPORTS ARENA/STADIUM'),\n",
       " Text(0,0,'MOVIE HOUSE/THEATER'),\n",
       " Text(0,0,'AIRPORT TERMINAL UPPER LEVEL - NON-SECURE AREA'),\n",
       " Text(0,0,'LAKEFRONT/WATERFRONT/RIVERBANK'),\n",
       " Text(0,0,'AIRPORT EXTERIOR - NON-SECURE AREA'),\n",
       " Text(0,0,'CHA HALLWAY/STAIRWELL/ELEVATOR'),\n",
       " Text(0,0,'LIBRARY'),\n",
       " Text(0,0,'JAIL / LOCK-UP FACILITY'),\n",
       " Text(0,0,'AIRPORT BUILDING NON-TERMINAL - SECURE AREA'),\n",
       " Text(0,0,'GAS STATION DRIVE/PROP.'),\n",
       " Text(0,0,'ABANDONED BUILDING'),\n",
       " Text(0,0,'ANIMAL HOSPITAL'),\n",
       " Text(0,0,'APPLIANCE STORE'),\n",
       " Text(0,0,'POOL ROOM'),\n",
       " Text(0,0,'BOWLING ALLEY'),\n",
       " Text(0,0,'AIRPORT PARKING LOT'),\n",
       " Text(0,0,'FIRE STATION'),\n",
       " Text(0,0,'PAWN SHOP'),\n",
       " Text(0,0,'BOAT/WATERCRAFT'),\n",
       " Text(0,0,'BRIDGE'),\n",
       " Text(0,0,'PARKING LOT'),\n",
       " Text(0,0,'AUTO'),\n",
       " Text(0,0,'RETAIL STORE'),\n",
       " Text(0,0,'VEHICLE - DELIVERY TRUCK'),\n",
       " Text(0,0,'AIRPORT TRANSPORTATION SYSTEM (ATS)'),\n",
       " Text(0,0,'CEMETARY'),\n",
       " Text(0,0,'HIGHWAY/EXPRESSWAY'),\n",
       " Text(0,0,'FEDERAL BUILDING'),\n",
       " Text(0,0,'SAVINGS AND LOAN'),\n",
       " Text(0,0,'FOREST PRESERVE'),\n",
       " Text(0,0,'GARAGE'),\n",
       " Text(0,0,'PORCH'),\n",
       " Text(0,0,'NEWSSTAND'),\n",
       " Text(0,0,'AIRPORT EXTERIOR - SECURE AREA'),\n",
       " Text(0,0,'HALLWAY'),\n",
       " Text(0,0,'VEHICLE - OTHER RIDE SERVICE'),\n",
       " Text(0,0,'YARD'),\n",
       " Text(0,0,'CREDIT UNION'),\n",
       " Text(0,0,'VACANT LOT'),\n",
       " Text(0,0,'COIN OPERATED MACHINE'),\n",
       " Text(0,0,'BARBER SHOP/BEAUTY SALON'),\n",
       " Text(0,0,'CHA HALLWAY'),\n",
       " Text(0,0,'GANGWAY'),\n",
       " Text(0,0,'ROOMING HOUSE'),\n",
       " Text(0,0,'SCHOOL YARD'),\n",
       " Text(0,0,'TAVERN'),\n",
       " Text(0,0,'CTA PROPERTY'),\n",
       " Text(0,0,'CHA PARKING LOT'),\n",
       " Text(0,0,'STAIRWELL'),\n",
       " Text(0,0,'HOTEL'),\n",
       " Text(0,0,'AUTO / BOAT / RV DEALERSHIP'),\n",
       " Text(0,0,'DELIVERY TRUCK'),\n",
       " Text(0,0,'VEHICLE - OTHER RIDE SHARE SERVICE (E.G., UBER, LYFT)'),\n",
       " Text(0,0,'DRIVEWAY'),\n",
       " Text(0,0,'GARAGE/AUTO REPAIR'),\n",
       " Text(0,0,'CHA STAIRWELL'),\n",
       " Text(0,0,'BASEMENT'),\n",
       " Text(0,0,'TRUCK'),\n",
       " Text(0,0,'COACH HOUSE'),\n",
       " Text(0,0,'CLUB'),\n",
       " Text(0,0,'LOADING DOCK'),\n",
       " Text(0,0,'CHA ELEVATOR'),\n",
       " Text(0,0,'LAKE'),\n",
       " Text(0,0,'RAILROAD PROPERTY'),\n",
       " Text(0,0,'VESTIBULE'),\n",
       " Text(0,0,'CHA PLAY LOT'),\n",
       " Text(0,0,'CHA GROUNDS'),\n",
       " Text(0,0,'GOVERNMENT BUILDING'),\n",
       " Text(0,0,'HOSPITAL'),\n",
       " Text(0,0,'RIVER'),\n",
       " Text(0,0,'VEHICLE-COMMERCIAL - TROLLEY BUS'),\n",
       " Text(0,0,'VEHICLE-COMMERCIAL - ENTERTAINMENT/PARTY BUS'),\n",
       " Text(0,0,'LAGOON'),\n",
       " Text(0,0,'DUMPSTER'),\n",
       " Text(0,0,'HORSE STABLE'),\n",
       " Text(0,0,'FARM'),\n",
       " Text(0,0,'LIQUOR STORE')]"
      ]
     },
     "execution_count": 13,
     "metadata": {},
     "output_type": "execute_result"
    },
    {
     "data": {
      "image/png": "[encoded data removed]",
      "text/plain": [
       "<Figure size 432x288 with 1 Axes>"
      ]
     },
     "metadata": {
      "needs_background": "light"
     },
     "output_type": "display_data"
    }
   ],
   "source": [
    "plot = sns.countplot(x=columns[7], data=data)\n",
    "locs, labels = plt.xticks()\n",
    "plot.set_xticklabels(labels ,rotation=90)"
   ]
  },
  {
   "cell_type": "markdown",
   "metadata": {},
   "source": [
    "### _splitting date into three columns  of month , day & year_"
   ]
  },
  {
   "cell_type": "code",
   "execution_count": 14,
   "metadata": {
    "collapsed": true
   },
   "outputs": [],
   "source": [
    "# initialising an empty list \n",
    "month = []\n",
    "day = []\n",
    "year = []"
   ]
  },
  {
   "cell_type": "code",
   "execution_count": 15,
   "metadata": {
    "collapsed": true
   },
   "outputs": [],
   "source": [
    "# iterating over the date column to split up the date and store in the list\n",
    "for i in range(0 , len(data)):\n",
    "    month.append(int(data['Date'][i].split(\" \")[0].split(\"/\")[0]))\n",
    "    day.append(int(data['Date'][i].split(\" \")[0].split(\"/\")[1]))\n",
    "    year.append(int(data['Date'][i].split(\" \")[0].split(\"/\")[2]))"
   ]
  },
  {
   "cell_type": "markdown",
   "metadata": {},
   "source": [
    "#### _merging the obtained list of day , month & year into the dataset_"
   ]
  },
  {
   "cell_type": "code",
   "execution_count": 16,
   "metadata": {
    "collapsed": true
   },
   "outputs": [],
   "source": [
    "data = pd.concat([data,pd.DataFrame({'Month':month ,'Day':day , 'CrimeYear' : year})]  , axis=1)"
   ]
  },
  {
   "cell_type": "code",
   "execution_count": 17,
   "metadata": {},
   "outputs": [
    {
     "data": {
      "text/plain": [
       "(1000000, 25)"
      ]
     },
     "execution_count": 17,
     "metadata": {},
     "output_type": "execute_result"
    }
   ],
   "source": [
    "data.shape "
   ]
  },
  {
   "cell_type": "code",
   "execution_count": 18,
   "metadata": {},
   "outputs": [
    {
     "data": {
      "text/plain": [
       "array(['ID', 'Case Number', 'Date', 'Block', 'IUCR', 'Primary Type',\n",
       "       'Description', 'Location Description', 'Arrest', 'Domestic',\n",
       "       'Beat', 'District', 'Ward', 'Community Area', 'FBI Code',\n",
       "       'X Coordinate', 'Y Coordinate', 'Year', 'Updated On', 'Latitude',\n",
       "       'Longitude', 'Location', 'Month', 'Day', 'CrimeYear'], dtype=object)"
      ]
     },
     "execution_count": 18,
     "metadata": {},
     "output_type": "execute_result"
    }
   ],
   "source": [
    "data.columns.values"
   ]
  },
  {
   "cell_type": "code",
   "execution_count": 19,
   "metadata": {},
   "outputs": [
    {
     "data": {
      "text/plain": [
       "['ID',\n",
       " 'Case Number',\n",
       " 'Date',\n",
       " 'Block',\n",
       " 'IUCR',\n",
       " 'Primary Type',\n",
       " 'Description',\n",
       " 'Location Description',\n",
       " 'Arrest',\n",
       " 'Domestic',\n",
       " 'Beat',\n",
       " 'District',\n",
       " 'Ward',\n",
       " 'Community Area',\n",
       " 'FBI Code',\n",
       " 'X Coordinate',\n",
       " 'Y Coordinate',\n",
       " 'Year',\n",
       " 'Updated On',\n",
       " 'Latitude',\n",
       " 'Longitude',\n",
       " 'Location',\n",
       " 'Month',\n",
       " 'Day',\n",
       " 'CrimeYear']"
      ]
     },
     "execution_count": 19,
     "metadata": {},
     "output_type": "execute_result"
    }
   ],
   "source": [
    "columns = data.columns.get_values().tolist()\n",
    "columns "
   ]
  },
  {
   "cell_type": "markdown",
   "metadata": {},
   "source": [
    "## Year \n",
    "### _Year wise crime occurings recorded._"
   ]
  },
  {
   "cell_type": "code",
   "execution_count": 20,
   "metadata": {},
   "outputs": [
    {
     "data": {
      "text/plain": [
       "[Text(0,0,'1'),\n",
       " Text(0,0,'2'),\n",
       " Text(0,0,'3'),\n",
       " Text(0,0,'4'),\n",
       " Text(0,0,'5'),\n",
       " Text(0,0,'6'),\n",
       " Text(0,0,'7'),\n",
       " Text(0,0,'8'),\n",
       " Text(0,0,'9'),\n",
       " Text(0,0,'10'),\n",
       " Text(0,0,'11'),\n",
       " Text(0,0,'12')]"
      ]
     },
     "execution_count": 20,
     "metadata": {},
     "output_type": "execute_result"
    },
    {
     "data": {
      "image/png": "[encoded data removed]",
      "text/plain": [
       "<Figure size 432x288 with 1 Axes>"
      ]
     },
     "metadata": {
      "needs_background": "light"
     },
     "output_type": "display_data"
    }
   ],
   "source": [
    "plot = sns.countplot(x=columns[22], data=data)\n",
    "locs, labels = plt.xticks()\n",
    "plot.set_xticklabels(labels ,rotation=90)"
   ]
  },
  {
   "cell_type": "markdown",
   "metadata": {},
   "source": [
    "## Month \n",
    "### _Month wise crime occurings recorded._"
   ]
  },
  {
   "cell_type": "code",
   "execution_count": 21,
   "metadata": {},
   "outputs": [
    {
     "data": {
      "text/plain": [
       "[Text(0,0,'2001'),\n",
       " Text(0,0,'2002'),\n",
       " Text(0,0,'2003'),\n",
       " Text(0,0,'2004'),\n",
       " Text(0,0,'2005'),\n",
       " Text(0,0,'2006'),\n",
       " Text(0,0,'2007'),\n",
       " Text(0,0,'2008'),\n",
       " Text(0,0,'2009'),\n",
       " Text(0,0,'2010'),\n",
       " Text(0,0,'2011'),\n",
       " Text(0,0,'2012'),\n",
       " Text(0,0,'2013'),\n",
       " Text(0,0,'2014'),\n",
       " Text(0,0,'2015'),\n",
       " Text(0,0,'2016'),\n",
       " Text(0,0,'2017'),\n",
       " Text(0,0,'2018')]"
      ]
     },
     "execution_count": 21,
     "metadata": {},
     "output_type": "execute_result"
    },
    {
     "data": {
      "image/png": "[encoded data removed]",
      "text/plain": [
       "<Figure size 432x288 with 1 Axes>"
      ]
     },
     "metadata": {
      "needs_background": "light"
     },
     "output_type": "display_data"
    }
   ],
   "source": [
    "plot = sns.countplot(x=columns[24], data=data)\n",
    "locs, labels = plt.xticks()\n",
    "plot.set_xticklabels(labels ,rotation=90)"
   ]
  },
  {
   "cell_type": "markdown",
   "metadata": {},
   "source": [
    "## Day \n",
    "### _Day wise crime occurings recorded._"
   ]
  },
  {
   "cell_type": "code",
   "execution_count": 22,
   "metadata": {},
   "outputs": [
    {
     "data": {
      "text/plain": [
       "[Text(0,0,'1'),\n",
       " Text(0,0,'2'),\n",
       " Text(0,0,'3'),\n",
       " Text(0,0,'4'),\n",
       " Text(0,0,'5'),\n",
       " Text(0,0,'6'),\n",
       " Text(0,0,'7'),\n",
       " Text(0,0,'8'),\n",
       " Text(0,0,'9'),\n",
       " Text(0,0,'10'),\n",
       " Text(0,0,'11'),\n",
       " Text(0,0,'12'),\n",
       " Text(0,0,'13'),\n",
       " Text(0,0,'14'),\n",
       " Text(0,0,'15'),\n",
       " Text(0,0,'16'),\n",
       " Text(0,0,'17'),\n",
       " Text(0,0,'18'),\n",
       " Text(0,0,'19'),\n",
       " Text(0,0,'20'),\n",
       " Text(0,0,'21'),\n",
       " Text(0,0,'22'),\n",
       " Text(0,0,'23'),\n",
       " Text(0,0,'24'),\n",
       " Text(0,0,'25'),\n",
       " Text(0,0,'26'),\n",
       " Text(0,0,'27'),\n",
       " Text(0,0,'28'),\n",
       " Text(0,0,'29'),\n",
       " Text(0,0,'30'),\n",
       " Text(0,0,'31')]"
      ]
     },
     "execution_count": 22,
     "metadata": {},
     "output_type": "execute_result"
    },
    {
     "data": {
      "image/png": "[encoded data removed]",
      "text/plain": [
       "<Figure size 432x288 with 1 Axes>"
      ]
     },
     "metadata": {
      "needs_background": "light"
     },
     "output_type": "display_data"
    }
   ],
   "source": [
    "plot = sns.countplot(x=columns[23], data=data)\n",
    "locs, labels = plt.xticks()\n",
    "plot.set_xticklabels(labels ,rotation=90)"
   ]
  },
  {
   "cell_type": "markdown",
   "metadata": {},
   "source": [
    "# Preprocessing of the dataset"
   ]
  },
  {
   "cell_type": "markdown",
   "metadata": {},
   "source": [
    "### _removing unnessecary columns from the data set _"
   ]
  },
  {
   "cell_type": "code",
   "execution_count": 23,
   "metadata": {
    "collapsed": true
   },
   "outputs": [],
   "source": [
    "data.drop(['ID' ,'Case Number' ,'IUCR' ,'FBI Code' ,'X Coordinate', \n",
    "           'Y Coordinate' ,'Updated On' ,'Location', 'Beat' , 'Community Area' \n",
    "           ,'District' ,'Ward','Block' ] ,axis=1 ,inplace =True)"
   ]
  },
  {
   "cell_type": "markdown",
   "metadata": {},
   "source": [
    "#### _removing the unnecesssary date entries_"
   ]
  },
  {
   "cell_type": "code",
   "execution_count": 24,
   "metadata": {
    "collapsed": true
   },
   "outputs": [],
   "source": [
    "data.drop(['Date','CrimeYear'] ,axis = 1 ,inplace =True)"
   ]
  },
  {
   "cell_type": "code",
   "execution_count": 25,
   "metadata": {},
   "outputs": [
    {
     "data": {
      "text/plain": [
       "array(['Primary Type', 'Description', 'Location Description', 'Arrest',\n",
       "       'Domestic', 'Year', 'Latitude', 'Longitude', 'Month', 'Day'],\n",
       "      dtype=object)"
      ]
     },
     "execution_count": 25,
     "metadata": {},
     "output_type": "execute_result"
    }
   ],
   "source": [
    "data.columns.values"
   ]
  },
  {
   "cell_type": "code",
   "execution_count": 26,
   "metadata": {},
   "outputs": [
    {
     "data": {
      "text/plain": [
       "(1000000, 10)"
      ]
     },
     "execution_count": 26,
     "metadata": {},
     "output_type": "execute_result"
    }
   ],
   "source": [
    "data.shape"
   ]
  },
  {
   "cell_type": "code",
   "execution_count": 27,
   "metadata": {},
   "outputs": [
    {
     "data": {
      "text/html": [
       "<div>\n",
       "<style scoped>\n",
       "    .dataframe tbody tr th:only-of-type {\n",
       "        vertical-align: middle;\n",
       "    }\n",
       "\n",
       "    .dataframe tbody tr th {\n",
       "        vertical-align: top;\n",
       "    }\n",
       "\n",
       "    .dataframe thead th {\n",
       "        text-align: right;\n",
       "    }\n",
       "</style>\n",
       "<table border=\"1\" class=\"dataframe\">\n",
       "  <thead>\n",
       "    <tr style=\"text-align: right;\">\n",
       "      <th></th>\n",
       "      <th>Primary Type</th>\n",
       "      <th>Description</th>\n",
       "      <th>Location Description</th>\n",
       "      <th>Arrest</th>\n",
       "      <th>Domestic</th>\n",
       "      <th>Year</th>\n",
       "      <th>Latitude</th>\n",
       "      <th>Longitude</th>\n",
       "      <th>Month</th>\n",
       "      <th>Day</th>\n",
       "    </tr>\n",
       "  </thead>\n",
       "  <tbody>\n",
       "    <tr>\n",
       "      <th>0</th>\n",
       "      <td>BATTERY</td>\n",
       "      <td>AGGRAVATED: HANDGUN</td>\n",
       "      <td>STREET</td>\n",
       "      <td>False</td>\n",
       "      <td>False</td>\n",
       "      <td>2015</td>\n",
       "      <td>41.891399</td>\n",
       "      <td>-87.744385</td>\n",
       "      <td>3</td>\n",
       "      <td>18</td>\n",
       "    </tr>\n",
       "    <tr>\n",
       "      <th>1</th>\n",
       "      <td>OTHER OFFENSE</td>\n",
       "      <td>PAROLE VIOLATION</td>\n",
       "      <td>STREET</td>\n",
       "      <td>True</td>\n",
       "      <td>False</td>\n",
       "      <td>2015</td>\n",
       "      <td>41.773372</td>\n",
       "      <td>-87.665319</td>\n",
       "      <td>3</td>\n",
       "      <td>18</td>\n",
       "    </tr>\n",
       "    <tr>\n",
       "      <th>2</th>\n",
       "      <td>BATTERY</td>\n",
       "      <td>DOMESTIC BATTERY SIMPLE</td>\n",
       "      <td>APARTMENT</td>\n",
       "      <td>False</td>\n",
       "      <td>True</td>\n",
       "      <td>2015</td>\n",
       "      <td>41.813861</td>\n",
       "      <td>-87.596643</td>\n",
       "      <td>3</td>\n",
       "      <td>18</td>\n",
       "    </tr>\n",
       "    <tr>\n",
       "      <th>3</th>\n",
       "      <td>BATTERY</td>\n",
       "      <td>SIMPLE</td>\n",
       "      <td>APARTMENT</td>\n",
       "      <td>False</td>\n",
       "      <td>False</td>\n",
       "      <td>2015</td>\n",
       "      <td>41.800802</td>\n",
       "      <td>-87.622619</td>\n",
       "      <td>3</td>\n",
       "      <td>18</td>\n",
       "    </tr>\n",
       "    <tr>\n",
       "      <th>4</th>\n",
       "      <td>ROBBERY</td>\n",
       "      <td>ARMED: HANDGUN</td>\n",
       "      <td>SIDEWALK</td>\n",
       "      <td>False</td>\n",
       "      <td>False</td>\n",
       "      <td>2015</td>\n",
       "      <td>41.878065</td>\n",
       "      <td>-87.743354</td>\n",
       "      <td>3</td>\n",
       "      <td>18</td>\n",
       "    </tr>\n",
       "  </tbody>\n",
       "</table>\n",
       "</div>"
      ],
      "text/plain": [
       "    Primary Type              Description Location Description  Arrest  \\\n",
       "0        BATTERY      AGGRAVATED: HANDGUN               STREET   False   \n",
       "1  OTHER OFFENSE         PAROLE VIOLATION               STREET    True   \n",
       "2        BATTERY  DOMESTIC BATTERY SIMPLE            APARTMENT   False   \n",
       "3        BATTERY                   SIMPLE            APARTMENT   False   \n",
       "4        ROBBERY           ARMED: HANDGUN             SIDEWALK   False   \n",
       "\n",
       "   Domestic  Year   Latitude  Longitude  Month  Day  \n",
       "0     False  2015  41.891399 -87.744385      3   18  \n",
       "1     False  2015  41.773372 -87.665319      3   18  \n",
       "2      True  2015  41.813861 -87.596643      3   18  \n",
       "3     False  2015  41.800802 -87.622619      3   18  \n",
       "4     False  2015  41.878065 -87.743354      3   18  "
      ]
     },
     "execution_count": 27,
     "metadata": {},
     "output_type": "execute_result"
    }
   ],
   "source": [
    "data.head(5)"
   ]
  },
  {
   "cell_type": "code",
   "execution_count": 28,
   "metadata": {},
   "outputs": [
    {
     "name": "stdout",
     "output_type": "stream",
     "text": [
      "No of columns in data dataset: 10\n"
     ]
    }
   ],
   "source": [
    "print(\"No of columns in data dataset: \"+str(len(data.columns.values)))"
   ]
  },
  {
   "cell_type": "markdown",
   "metadata": {},
   "source": [
    "#### handling the null entries of the data set"
   ]
  },
  {
   "cell_type": "code",
   "execution_count": 29,
   "metadata": {},
   "outputs": [
    {
     "data": {
      "text/plain": [
       "Primary Type                0\n",
       "Description                 0\n",
       "Location Description     1679\n",
       "Arrest                      0\n",
       "Domestic                    0\n",
       "Year                        0\n",
       "Latitude                28329\n",
       "Longitude               28329\n",
       "Month                       0\n",
       "Day                         0\n",
       "dtype: int64"
      ]
     },
     "execution_count": 29,
     "metadata": {},
     "output_type": "execute_result"
    }
   ],
   "source": [
    "data.isnull().sum()"
   ]
  },
  {
   "cell_type": "markdown",
   "metadata": {},
   "source": [
    "##### drop null values"
   ]
  },
  {
   "cell_type": "code",
   "execution_count": 30,
   "metadata": {
    "collapsed": true
   },
   "outputs": [],
   "source": [
    "data = data.dropna(axis=0 ,subset=['Latitude' , 'Longitude'])"
   ]
  },
  {
   "cell_type": "markdown",
   "metadata": {},
   "source": [
    "##### drop remaining null values"
   ]
  },
  {
   "cell_type": "code",
   "execution_count": 31,
   "metadata": {
    "collapsed": true
   },
   "outputs": [],
   "source": [
    "data = data.dropna(axis=0 , subset= ['Location Description'])"
   ]
  },
  {
   "cell_type": "code",
   "execution_count": 32,
   "metadata": {},
   "outputs": [
    {
     "data": {
      "text/plain": [
       "Primary Type            0\n",
       "Description             0\n",
       "Location Description    0\n",
       "Arrest                  0\n",
       "Domestic                0\n",
       "Year                    0\n",
       "Latitude                0\n",
       "Longitude               0\n",
       "Month                   0\n",
       "Day                     0\n",
       "dtype: int64"
      ]
     },
     "execution_count": 32,
     "metadata": {},
     "output_type": "execute_result"
    }
   ],
   "source": [
    "data.isnull().sum()"
   ]
  },
  {
   "cell_type": "markdown",
   "metadata": {},
   "source": [
    "##### _shuffling data and reseting the index_"
   ]
  },
  {
   "cell_type": "code",
   "execution_count": 33,
   "metadata": {
    "collapsed": true
   },
   "outputs": [],
   "source": [
    "from sklearn.utils import shuffle\n",
    "data = shuffle(data)\n",
    "data=data.reset_index(drop=True)"
   ]
  },
  {
   "cell_type": "markdown",
   "metadata": {},
   "source": [
    "##### _extracting out the crime occured before 2017_"
   ]
  },
  {
   "cell_type": "code",
   "execution_count": 34,
   "metadata": {
    "collapsed": true
   },
   "outputs": [],
   "source": [
    "data2016 =data[data['Year']==2016]"
   ]
  },
  {
   "cell_type": "code",
   "execution_count": 35,
   "metadata": {
    "collapsed": true
   },
   "outputs": [],
   "source": [
    "data=data[data['Year']<2017]"
   ]
  },
  {
   "cell_type": "code",
   "execution_count": 36,
   "metadata": {},
   "outputs": [
    {
     "data": {
      "text/plain": [
       "(632864, 10)"
      ]
     },
     "execution_count": 36,
     "metadata": {},
     "output_type": "execute_result"
    }
   ],
   "source": [
    "data.shape"
   ]
  },
  {
   "cell_type": "code",
   "execution_count": 37,
   "metadata": {},
   "outputs": [
    {
     "data": {
      "text/plain": [
       "(238610, 10)"
      ]
     },
     "execution_count": 37,
     "metadata": {},
     "output_type": "execute_result"
    }
   ],
   "source": [
    "data2016.shape"
   ]
  },
  {
   "cell_type": "code",
   "execution_count": 38,
   "metadata": {
    "collapsed": true
   },
   "outputs": [],
   "source": [
    "#reseting the index \n",
    "data=data.reset_index(drop=True)\n",
    "data2016 = data2016.reset_index(drop=True)"
   ]
  },
  {
   "cell_type": "code",
   "execution_count": 39,
   "metadata": {},
   "outputs": [
    {
     "data": {
      "text/plain": [
       "array(['Primary Type', 'Description', 'Location Description', 'Arrest',\n",
       "       'Domestic', 'Year', 'Latitude', 'Longitude', 'Month', 'Day'],\n",
       "      dtype=object)"
      ]
     },
     "execution_count": 39,
     "metadata": {},
     "output_type": "execute_result"
    }
   ],
   "source": [
    "data.columns.values"
   ]
  },
  {
   "cell_type": "markdown",
   "metadata": {},
   "source": [
    "### _splitting the dataset into dependent and independent variable for Primary Type_"
   ]
  },
  {
   "cell_type": "code",
   "execution_count": 40,
   "metadata": {
    "collapsed": true
   },
   "outputs": [],
   "source": [
    "X = data.iloc[:, 1:].values\n",
    "y = data.iloc[:, 0].values"
   ]
  },
  {
   "cell_type": "code",
   "execution_count": 41,
   "metadata": {},
   "outputs": [
    {
     "data": {
      "text/plain": [
       "(632864, 9)"
      ]
     },
     "execution_count": 41,
     "metadata": {},
     "output_type": "execute_result"
    }
   ],
   "source": [
    "X.shape"
   ]
  },
  {
   "cell_type": "code",
   "execution_count": 42,
   "metadata": {},
   "outputs": [
    {
     "data": {
      "text/plain": [
       "(632864,)"
      ]
     },
     "execution_count": 42,
     "metadata": {},
     "output_type": "execute_result"
    }
   ],
   "source": [
    "y.shape"
   ]
  },
  {
   "cell_type": "markdown",
   "metadata": {},
   "source": [
    "#### _handling categorical data from the dataset _"
   ]
  },
  {
   "cell_type": "code",
   "execution_count": 43,
   "metadata": {
    "collapsed": true
   },
   "outputs": [],
   "source": [
    "from sklearn.preprocessing import LabelEncoder , OneHotEncoder"
   ]
  },
  {
   "cell_type": "code",
   "execution_count": 44,
   "metadata": {
    "collapsed": true
   },
   "outputs": [],
   "source": [
    "lableencoder_X0 = LabelEncoder()\n",
    "X[: , 0]= lableencoder_X0.fit_transform(X[: ,0])"
   ]
  },
  {
   "cell_type": "code",
   "execution_count": 45,
   "metadata": {
    "collapsed": true
   },
   "outputs": [],
   "source": [
    "lableencoder_X1 = LabelEncoder()\n",
    "X[: , 1]= lableencoder_X1.fit_transform(X[: ,1])"
   ]
  },
  {
   "cell_type": "code",
   "execution_count": 46,
   "metadata": {
    "collapsed": true
   },
   "outputs": [],
   "source": [
    "lableencoder_X2 = LabelEncoder()\n",
    "X[: , 2]= lableencoder_X2.fit_transform(X[: ,2])"
   ]
  },
  {
   "cell_type": "code",
   "execution_count": 47,
   "metadata": {
    "collapsed": true
   },
   "outputs": [],
   "source": [
    "lableencoder_X3 = LabelEncoder()\n",
    "X[: , 3]= lableencoder_X3.fit_transform(X[: ,3])"
   ]
  },
  {
   "cell_type": "code",
   "execution_count": 48,
   "metadata": {},
   "outputs": [
    {
     "data": {
      "text/plain": [
       "array([38, 105, 0, 1, 2015, 41.754876615, -87.55850608799999, 12, 23],\n",
       "      dtype=object)"
      ]
     },
     "execution_count": 48,
     "metadata": {},
     "output_type": "execute_result"
    }
   ],
   "source": [
    "X[0]"
   ]
  },
  {
   "cell_type": "code",
   "execution_count": 49,
   "metadata": {},
   "outputs": [
    {
     "name": "stderr",
     "output_type": "stream",
     "text": [
      "C:\\Users\\yashg\\Anaconda3\\lib\\site-packages\\sklearn\\preprocessing\\_encoders.py:363: FutureWarning: The handling of integer data will change in version 0.22. Currently, the categories are determined based on the range [0, max(values)], while in the future they will be determined based on the unique values.\n",
      "If you want the future behaviour and silence this warning, you can specify \"categories='auto'\".\n",
      "In case you used a LabelEncoder before this OneHotEncoder to convert the categories to integers, then you can now use the OneHotEncoder directly.\n",
      "  warnings.warn(msg, FutureWarning)\n",
      "C:\\Users\\yashg\\Anaconda3\\lib\\site-packages\\sklearn\\preprocessing\\_encoders.py:385: DeprecationWarning: The 'categorical_features' keyword is deprecated in version 0.20 and will be removed in 0.22. You can use the ColumnTransformer instead.\n",
      "  \"use the ColumnTransformer instead.\", DeprecationWarning)\n"
     ]
    }
   ],
   "source": [
    "onehotencoder = OneHotEncoder(categorical_features=[0,1 ,4,7,8])\n",
    "X= onehotencoder.fit_transform(X).toarray() "
   ]
  },
  {
   "cell_type": "code",
   "execution_count": 50,
   "metadata": {},
   "outputs": [
    {
     "data": {
      "text/plain": [
       "(632864, 544)"
      ]
     },
     "execution_count": 50,
     "metadata": {},
     "output_type": "execute_result"
    }
   ],
   "source": [
    "X.shape"
   ]
  },
  {
   "cell_type": "code",
   "execution_count": 51,
   "metadata": {
    "collapsed": true
   },
   "outputs": [],
   "source": [
    "lableencoder_y = LabelEncoder()\n",
    "y=lableencoder_y.fit_transform(y) "
   ]
  },
  {
   "cell_type": "markdown",
   "metadata": {},
   "source": [
    "####  _Splitting the dataset into the Training set and Test set_"
   ]
  },
  {
   "cell_type": "code",
   "execution_count": 53,
   "metadata": {
    "collapsed": true
   },
   "outputs": [],
   "source": [
    "from sklearn.model_selection import train_test_split\n",
    "X_train, X_test, y_train, y_test = train_test_split(X, y, test_size = 0.2, random_state = 0)"
   ]
  },
  {
   "cell_type": "markdown",
   "metadata": {},
   "source": [
    "#### _feature scaling _"
   ]
  },
  {
   "cell_type": "code",
   "execution_count": 54,
   "metadata": {
    "collapsed": true
   },
   "outputs": [],
   "source": [
    "from sklearn.preprocessing import StandardScaler\n",
    "\n",
    "sc_X = StandardScaler()\n",
    "X_train = sc_X.fit_transform(X_train)\n",
    "X_test = sc_X.transform(X_test)"
   ]
  },
  {
   "cell_type": "code",
   "execution_count": 55,
   "metadata": {},
   "outputs": [
    {
     "data": {
      "text/plain": [
       "(506291, 544)"
      ]
     },
     "execution_count": 55,
     "metadata": {},
     "output_type": "execute_result"
    }
   ],
   "source": [
    "X_train.shape"
   ]
  },
  {
   "cell_type": "markdown",
   "metadata": {},
   "source": [
    "### fitting traning set to Decision Tree Classification Model"
   ]
  },
  {
   "cell_type": "code",
   "execution_count": 56,
   "metadata": {},
   "outputs": [
    {
     "data": {
      "text/plain": [
       "DecisionTreeClassifier(class_weight=None, criterion='entropy', max_depth=None,\n",
       "            max_features=None, max_leaf_nodes=None,\n",
       "            min_impurity_decrease=0.0, min_impurity_split=None,\n",
       "            min_samples_leaf=1, min_samples_split=2,\n",
       "            min_weight_fraction_leaf=0.0, presort=False, random_state=0,\n",
       "            splitter='best')"
      ]
     },
     "execution_count": 56,
     "metadata": {},
     "output_type": "execute_result"
    }
   ],
   "source": [
    "from sklearn.tree import DecisionTreeClassifier\n",
    "classifier = DecisionTreeClassifier(criterion = 'entropy', random_state = 0)\n",
    "classifier.fit(X_train, y_train)"
   ]
  },
  {
   "cell_type": "markdown",
   "metadata": {},
   "source": [
    "#### _predicting the test set_"
   ]
  },
  {
   "cell_type": "code",
   "execution_count": 57,
   "metadata": {},
   "outputs": [
    {
     "data": {
      "text/plain": [
       "126573"
      ]
     },
     "execution_count": 57,
     "metadata": {},
     "output_type": "execute_result"
    }
   ],
   "source": [
    "y_pred = classifier.predict(X_test)\n",
    "y_pred.size"
   ]
  },
  {
   "cell_type": "code",
   "execution_count": 58,
   "metadata": {},
   "outputs": [
    {
     "name": "stdout",
     "output_type": "stream",
     "text": [
      "32 32\n",
      "1 2\n",
      "24 24\n",
      "3 3\n",
      "29 29\n",
      "24 24\n",
      "2 2\n",
      "6 6\n",
      "2 2\n",
      "5 5\n",
      "1 2\n",
      "32 32\n",
      "3 3\n",
      "32 32\n",
      "6 6\n",
      "3 3\n",
      "32 32\n",
      "7 7\n",
      "32 32\n",
      "24 24\n"
     ]
    }
   ],
   "source": [
    "for i in range(0,20):\n",
    "    print(str(y_pred[i])+\" \"+str(y_test[i]))"
   ]
  },
  {
   "cell_type": "markdown",
   "metadata": {},
   "source": [
    "#### evaluating the result via confusion matrix"
   ]
  },
  {
   "cell_type": "code",
   "execution_count": 59,
   "metadata": {
    "collapsed": true
   },
   "outputs": [],
   "source": [
    "from sklearn.metrics import confusion_matrix\n",
    "\n",
    "cm = confusion_matrix(y_test,y_pred)"
   ]
  },
  {
   "cell_type": "code",
   "execution_count": 60,
   "metadata": {},
   "outputs": [
    {
     "name": "stdout",
     "output_type": "stream",
     "text": [
      "Accuracy of decision tree classifier on test set: 0.92\n"
     ]
    }
   ],
   "source": [
    "print('Accuracy of decision tree classifier on test set: {:.2f}'.format(classifier.score(X_test, y_test)))"
   ]
  },
  {
   "cell_type": "markdown",
   "metadata": {},
   "source": [
    "###  K fold cross validation "
   ]
  },
  {
   "cell_type": "code",
   "execution_count": 61,
   "metadata": {},
   "outputs": [
    {
     "name": "stderr",
     "output_type": "stream",
     "text": [
      "C:\\Users\\yashg\\Anaconda3\\lib\\site-packages\\sklearn\\model_selection\\_split.py:626: Warning: The least populated class in y has only 7 members, which is too few. The minimum number of members in any class cannot be less than n_splits=10.\n",
      "  % (min_groups, self.n_splits)), Warning)\n"
     ]
    }
   ],
   "source": [
    "from sklearn.model_selection import cross_val_score\n",
    "\n",
    "accuracies = cross_val_score(estimator = classifier , X =X_train ,y=y_train ,cv=10)"
   ]
  },
  {
   "cell_type": "code",
   "execution_count": 62,
   "metadata": {},
   "outputs": [
    {
     "data": {
      "text/plain": [
       "array([0.92334577, 0.92316502, 0.92376965, 0.92360864, 0.92368312,\n",
       "       0.92332306, 0.92258765, 0.92477579, 0.9241164 , 0.92598886])"
      ]
     },
     "execution_count": 62,
     "metadata": {},
     "output_type": "execute_result"
    }
   ],
   "source": [
    "accuracies\n"
   ]
  },
  {
   "cell_type": "code",
   "execution_count": 64,
   "metadata": {},
   "outputs": [
    {
     "data": {
      "text/plain": [
       "0.9238363975503748"
      ]
     },
     "execution_count": 64,
     "metadata": {},
     "output_type": "execute_result"
    }
   ],
   "source": [
    "accuracies.mean()"
   ]
  },
  {
   "cell_type": "code",
   "execution_count": 65,
   "metadata": {},
   "outputs": [
    {
     "data": {
      "text/plain": [
       "0.0009048806359361886"
      ]
     },
     "execution_count": 65,
     "metadata": {},
     "output_type": "execute_result"
    }
   ],
   "source": [
    "accuracies.std()"
   ]
  },
  {
   "cell_type": "code",
   "execution_count": null,
   "metadata": {
    "collapsed": true
   },
   "outputs": [],
   "source": []
  }
 ],
 "metadata": {
  "kernelspec": {
   "display_name": "Python 3",
   "language": "python",
   "name": "python3"
  },
  "language_info": {
   "codemirror_mode": {
    "name": "ipython",
    "version": 3
   },
   "file_extension": ".py",
   "mimetype": "text/x-python",
   "name": "python",
   "nbconvert_exporter": "python",
   "pygments_lexer": "ipython3",
   "version": "3.5.4"
  }
 },
 "nbformat": 4,
 "nbformat_minor": 2
}
