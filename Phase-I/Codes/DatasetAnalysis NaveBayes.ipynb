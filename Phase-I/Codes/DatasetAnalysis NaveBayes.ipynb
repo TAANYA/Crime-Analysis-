{
 "cells": [
  {
   "cell_type": "markdown",
   "metadata": {},
   "source": [
    "# DataSet Analysis "
   ]
  },
  {
   "cell_type": "markdown",
   "metadata": {},
   "source": [
    "#### Importing the dataset"
   ]
  },
  {
   "cell_type": "code",
   "execution_count": 1,
   "metadata": {
    "collapsed": true
   },
   "outputs": [],
   "source": [
    "import pandas as pd \n",
    "import random "
   ]
  },
  {
   "cell_type": "code",
   "execution_count": 2,
   "metadata": {
    "collapsed": true
   },
   "outputs": [],
   "source": [
    "#considering only first 2 Lakhs entry \n",
    "\"\"\"\n",
    "n = 7000000 #number of records in file\n",
    "s = 200000 #desired sample size\n",
    "skip = sorted(random.sample(range(n),n-s))\n",
    "\"\"\"\n",
    "data = pd.read_csv(\"/home/tanya/Major_Project/Datasets/Crimes_-_2001_to_present.csv\",nrows = 200000)"
   ]
  },
  {
   "cell_type": "markdown",
   "metadata": {},
   "source": [
    "#### _checking the available data_"
   ]
  },
  {
   "cell_type": "code",
   "execution_count": 3,
   "metadata": {},
   "outputs": [
    {
     "data": {
      "text/plain": [
       "(500000, 22)"
      ]
     },
     "execution_count": 3,
     "metadata": {},
     "output_type": "execute_result"
    }
   ],
   "source": [
    "data.shape"
   ]
  },
  {
   "cell_type": "markdown",
   "metadata": {},
   "source": [
    "#### _column values of the data available_"
   ]
  },
  {
   "cell_type": "code",
   "execution_count": 4,
   "metadata": {},
   "outputs": [
    {
     "data": {
      "text/plain": [
       "array(['ID', 'Case Number', 'Date', 'Block', 'IUCR', 'Primary Type',\n",
       "       'Description', 'Location Description', 'Arrest', 'Domestic', 'Beat',\n",
       "       'District', 'Ward', 'Community Area', 'FBI Code', 'X Coordinate',\n",
       "       'Y Coordinate', 'Year', 'Updated On', 'Latitude', 'Longitude',\n",
       "       'Location'], dtype=object)"
      ]
     },
     "execution_count": 4,
     "metadata": {},
     "output_type": "execute_result"
    }
   ],
   "source": [
    "data.columns.values "
   ]
  },
  {
   "cell_type": "code",
   "execution_count": 5,
   "metadata": {},
   "outputs": [
    {
     "data": {
      "text/html": [
       "<div>\n",
       "<style>\n",
       "    .dataframe thead tr:only-child th {\n",
       "        text-align: right;\n",
       "    }\n",
       "\n",
       "    .dataframe thead th {\n",
       "        text-align: left;\n",
       "    }\n",
       "\n",
       "    .dataframe tbody tr th {\n",
       "        vertical-align: top;\n",
       "    }\n",
       "</style>\n",
       "<table border=\"1\" class=\"dataframe\">\n",
       "  <thead>\n",
       "    <tr style=\"text-align: right;\">\n",
       "      <th></th>\n",
       "      <th>ID</th>\n",
       "      <th>Case Number</th>\n",
       "      <th>Date</th>\n",
       "      <th>Block</th>\n",
       "      <th>IUCR</th>\n",
       "      <th>Primary Type</th>\n",
       "      <th>Description</th>\n",
       "      <th>Location Description</th>\n",
       "      <th>Arrest</th>\n",
       "      <th>Domestic</th>\n",
       "      <th>...</th>\n",
       "      <th>Ward</th>\n",
       "      <th>Community Area</th>\n",
       "      <th>FBI Code</th>\n",
       "      <th>X Coordinate</th>\n",
       "      <th>Y Coordinate</th>\n",
       "      <th>Year</th>\n",
       "      <th>Updated On</th>\n",
       "      <th>Latitude</th>\n",
       "      <th>Longitude</th>\n",
       "      <th>Location</th>\n",
       "    </tr>\n",
       "  </thead>\n",
       "  <tbody>\n",
       "    <tr>\n",
       "      <th>0</th>\n",
       "      <td>10000092</td>\n",
       "      <td>HY189866</td>\n",
       "      <td>03/18/2015 07:44:00 PM</td>\n",
       "      <td>047XX W OHIO ST</td>\n",
       "      <td>041A</td>\n",
       "      <td>BATTERY</td>\n",
       "      <td>AGGRAVATED: HANDGUN</td>\n",
       "      <td>STREET</td>\n",
       "      <td>False</td>\n",
       "      <td>False</td>\n",
       "      <td>...</td>\n",
       "      <td>28.0</td>\n",
       "      <td>25.0</td>\n",
       "      <td>04B</td>\n",
       "      <td>1144606.0</td>\n",
       "      <td>1903566.0</td>\n",
       "      <td>2015</td>\n",
       "      <td>02/10/2018 03:50:01 PM</td>\n",
       "      <td>41.891399</td>\n",
       "      <td>-87.744385</td>\n",
       "      <td>(41.891398861, -87.744384567)</td>\n",
       "    </tr>\n",
       "    <tr>\n",
       "      <th>1</th>\n",
       "      <td>10000094</td>\n",
       "      <td>HY190059</td>\n",
       "      <td>03/18/2015 11:00:00 PM</td>\n",
       "      <td>066XX S MARSHFIELD AVE</td>\n",
       "      <td>4625</td>\n",
       "      <td>OTHER OFFENSE</td>\n",
       "      <td>PAROLE VIOLATION</td>\n",
       "      <td>STREET</td>\n",
       "      <td>True</td>\n",
       "      <td>False</td>\n",
       "      <td>...</td>\n",
       "      <td>15.0</td>\n",
       "      <td>67.0</td>\n",
       "      <td>26</td>\n",
       "      <td>1166468.0</td>\n",
       "      <td>1860715.0</td>\n",
       "      <td>2015</td>\n",
       "      <td>02/10/2018 03:50:01 PM</td>\n",
       "      <td>41.773372</td>\n",
       "      <td>-87.665319</td>\n",
       "      <td>(41.773371528, -87.665319468)</td>\n",
       "    </tr>\n",
       "    <tr>\n",
       "      <th>2</th>\n",
       "      <td>10000095</td>\n",
       "      <td>HY190052</td>\n",
       "      <td>03/18/2015 10:45:00 PM</td>\n",
       "      <td>044XX S LAKE PARK AVE</td>\n",
       "      <td>0486</td>\n",
       "      <td>BATTERY</td>\n",
       "      <td>DOMESTIC BATTERY SIMPLE</td>\n",
       "      <td>APARTMENT</td>\n",
       "      <td>False</td>\n",
       "      <td>True</td>\n",
       "      <td>...</td>\n",
       "      <td>4.0</td>\n",
       "      <td>39.0</td>\n",
       "      <td>08B</td>\n",
       "      <td>1185075.0</td>\n",
       "      <td>1875622.0</td>\n",
       "      <td>2015</td>\n",
       "      <td>02/10/2018 03:50:01 PM</td>\n",
       "      <td>41.813861</td>\n",
       "      <td>-87.596643</td>\n",
       "      <td>(41.81386068, -87.596642837)</td>\n",
       "    </tr>\n",
       "    <tr>\n",
       "      <th>3</th>\n",
       "      <td>10000096</td>\n",
       "      <td>HY190054</td>\n",
       "      <td>03/18/2015 10:30:00 PM</td>\n",
       "      <td>051XX S MICHIGAN AVE</td>\n",
       "      <td>0460</td>\n",
       "      <td>BATTERY</td>\n",
       "      <td>SIMPLE</td>\n",
       "      <td>APARTMENT</td>\n",
       "      <td>False</td>\n",
       "      <td>False</td>\n",
       "      <td>...</td>\n",
       "      <td>3.0</td>\n",
       "      <td>40.0</td>\n",
       "      <td>08B</td>\n",
       "      <td>1178033.0</td>\n",
       "      <td>1870804.0</td>\n",
       "      <td>2015</td>\n",
       "      <td>02/10/2018 03:50:01 PM</td>\n",
       "      <td>41.800802</td>\n",
       "      <td>-87.622619</td>\n",
       "      <td>(41.800802415, -87.622619343)</td>\n",
       "    </tr>\n",
       "    <tr>\n",
       "      <th>4</th>\n",
       "      <td>10000097</td>\n",
       "      <td>HY189976</td>\n",
       "      <td>03/18/2015 09:00:00 PM</td>\n",
       "      <td>047XX W ADAMS ST</td>\n",
       "      <td>031A</td>\n",
       "      <td>ROBBERY</td>\n",
       "      <td>ARMED: HANDGUN</td>\n",
       "      <td>SIDEWALK</td>\n",
       "      <td>False</td>\n",
       "      <td>False</td>\n",
       "      <td>...</td>\n",
       "      <td>28.0</td>\n",
       "      <td>25.0</td>\n",
       "      <td>03</td>\n",
       "      <td>1144920.0</td>\n",
       "      <td>1898709.0</td>\n",
       "      <td>2015</td>\n",
       "      <td>02/10/2018 03:50:01 PM</td>\n",
       "      <td>41.878065</td>\n",
       "      <td>-87.743354</td>\n",
       "      <td>(41.878064761, -87.743354013)</td>\n",
       "    </tr>\n",
       "  </tbody>\n",
       "</table>\n",
       "<p>5 rows × 22 columns</p>\n",
       "</div>"
      ],
      "text/plain": [
       "         ID Case Number                    Date                   Block  IUCR  \\\n",
       "0  10000092    HY189866  03/18/2015 07:44:00 PM         047XX W OHIO ST  041A   \n",
       "1  10000094    HY190059  03/18/2015 11:00:00 PM  066XX S MARSHFIELD AVE  4625   \n",
       "2  10000095    HY190052  03/18/2015 10:45:00 PM   044XX S LAKE PARK AVE  0486   \n",
       "3  10000096    HY190054  03/18/2015 10:30:00 PM    051XX S MICHIGAN AVE  0460   \n",
       "4  10000097    HY189976  03/18/2015 09:00:00 PM        047XX W ADAMS ST  031A   \n",
       "\n",
       "    Primary Type              Description Location Description  Arrest  \\\n",
       "0        BATTERY      AGGRAVATED: HANDGUN               STREET   False   \n",
       "1  OTHER OFFENSE         PAROLE VIOLATION               STREET    True   \n",
       "2        BATTERY  DOMESTIC BATTERY SIMPLE            APARTMENT   False   \n",
       "3        BATTERY                   SIMPLE            APARTMENT   False   \n",
       "4        ROBBERY           ARMED: HANDGUN             SIDEWALK   False   \n",
       "\n",
       "   Domestic              ...                Ward  Community Area  FBI Code  \\\n",
       "0     False              ...                28.0            25.0       04B   \n",
       "1     False              ...                15.0            67.0        26   \n",
       "2      True              ...                 4.0            39.0       08B   \n",
       "3     False              ...                 3.0            40.0       08B   \n",
       "4     False              ...                28.0            25.0        03   \n",
       "\n",
       "   X Coordinate Y Coordinate  Year              Updated On   Latitude  \\\n",
       "0     1144606.0    1903566.0  2015  02/10/2018 03:50:01 PM  41.891399   \n",
       "1     1166468.0    1860715.0  2015  02/10/2018 03:50:01 PM  41.773372   \n",
       "2     1185075.0    1875622.0  2015  02/10/2018 03:50:01 PM  41.813861   \n",
       "3     1178033.0    1870804.0  2015  02/10/2018 03:50:01 PM  41.800802   \n",
       "4     1144920.0    1898709.0  2015  02/10/2018 03:50:01 PM  41.878065   \n",
       "\n",
       "   Longitude                       Location  \n",
       "0 -87.744385  (41.891398861, -87.744384567)  \n",
       "1 -87.665319  (41.773371528, -87.665319468)  \n",
       "2 -87.596643   (41.81386068, -87.596642837)  \n",
       "3 -87.622619  (41.800802415, -87.622619343)  \n",
       "4 -87.743354  (41.878064761, -87.743354013)  \n",
       "\n",
       "[5 rows x 22 columns]"
      ]
     },
     "execution_count": 5,
     "metadata": {},
     "output_type": "execute_result"
    }
   ],
   "source": [
    "data.head(5)"
   ]
  },
  {
   "cell_type": "code",
   "execution_count": 6,
   "metadata": {},
   "outputs": [
    {
     "name": "stdout",
     "output_type": "stream",
     "text": [
      "No of columns in data dataset: 22\n"
     ]
    }
   ],
   "source": [
    "print(\"No of columns in data dataset: \"+str(len(data.columns.values)))"
   ]
  },
  {
   "cell_type": "markdown",
   "metadata": {},
   "source": [
    "## Visualising the dataset "
   ]
  },
  {
   "cell_type": "markdown",
   "metadata": {},
   "source": [
    "### importing the required libraries "
   ]
  },
  {
   "cell_type": "code",
   "execution_count": 7,
   "metadata": {
    "collapsed": true
   },
   "outputs": [],
   "source": [
    "import matplotlib.pyplot as plt\n",
    "import seaborn as sns\n",
    "%matplotlib inline "
   ]
  },
  {
   "cell_type": "markdown",
   "metadata": {},
   "source": [
    "#### _getting the columns as a list _"
   ]
  },
  {
   "cell_type": "code",
   "execution_count": 8,
   "metadata": {},
   "outputs": [
    {
     "name": "stdout",
     "output_type": "stream",
     "text": [
      "['ID', 'Case Number', 'Date', 'Block', 'IUCR', 'Primary Type', 'Description', 'Location Description', 'Arrest', 'Domestic', 'Beat', 'District', 'Ward', 'Community Area', 'FBI Code', 'X Coordinate', 'Y Coordinate', 'Year', 'Updated On', 'Latitude', 'Longitude', 'Location']\n"
     ]
    }
   ],
   "source": [
    "columns = data.columns.get_values().tolist()\n",
    "print(columns)"
   ]
  },
  {
   "cell_type": "markdown",
   "metadata": {},
   "source": [
    "## Primary Type \n",
    "### _The primary description of the criminal offense._"
   ]
  },
  {
   "cell_type": "code",
   "execution_count": 9,
   "metadata": {},
   "outputs": [
    {
     "data": {
      "text/plain": [
       "[<matplotlib.text.Text at 0x7f09fcc3c2e8>,\n",
       " <matplotlib.text.Text at 0x7f09fffa8438>,\n",
       " <matplotlib.text.Text at 0x7f09fcb69e48>,\n",
       " <matplotlib.text.Text at 0x7f09fcb75860>,\n",
       " <matplotlib.text.Text at 0x7f09fcb7a278>,\n",
       " <matplotlib.text.Text at 0x7f09fcb7ac50>,\n",
       " <matplotlib.text.Text at 0x7f09fcb7f668>,\n",
       " <matplotlib.text.Text at 0x7f09fcb85080>,\n",
       " <matplotlib.text.Text at 0x7f09fcb85a58>,\n",
       " <matplotlib.text.Text at 0x7f09fcb8a470>,\n",
       " <matplotlib.text.Text at 0x7f09fcb8ae48>,\n",
       " <matplotlib.text.Text at 0x7f09fcb90860>,\n",
       " <matplotlib.text.Text at 0x7f09fcb94278>,\n",
       " <matplotlib.text.Text at 0x7f09fcb94c50>,\n",
       " <matplotlib.text.Text at 0x7f09fcb99668>,\n",
       " <matplotlib.text.Text at 0x7f09fcb9e080>,\n",
       " <matplotlib.text.Text at 0x7f09fcb9ea58>,\n",
       " <matplotlib.text.Text at 0x7f09fcba3470>,\n",
       " <matplotlib.text.Text at 0x7f09fcba3e48>,\n",
       " <matplotlib.text.Text at 0x7f09fcba8860>,\n",
       " <matplotlib.text.Text at 0x7f09fcb2c278>,\n",
       " <matplotlib.text.Text at 0x7f09fcb2cc50>,\n",
       " <matplotlib.text.Text at 0x7f09fcb30668>,\n",
       " <matplotlib.text.Text at 0x7f09fcb37080>,\n",
       " <matplotlib.text.Text at 0x7f09fcb37a58>,\n",
       " <matplotlib.text.Text at 0x7f09fcb3a470>,\n",
       " <matplotlib.text.Text at 0x7f09fcb3ae48>,\n",
       " <matplotlib.text.Text at 0x7f09fcb40860>,\n",
       " <matplotlib.text.Text at 0x7f09fcb46278>,\n",
       " <matplotlib.text.Text at 0x7f09fcb46c50>,\n",
       " <matplotlib.text.Text at 0x7f09fcb4a668>,\n",
       " <matplotlib.text.Text at 0x7f09fcb50080>,\n",
       " <matplotlib.text.Text at 0x7f09fcb50a58>,\n",
       " <matplotlib.text.Text at 0x7f09fcb55470>]"
      ]
     },
     "execution_count": 9,
     "metadata": {},
     "output_type": "execute_result"
    },
    {
     "data": {
      "image/png": "[encoded data removed]",
      "text/plain": [
       "<matplotlib.figure.Figure at 0x7f0a0048a240>"
      ]
     },
     "metadata": {},
     "output_type": "display_data"
    }
   ],
   "source": [
    "plot = sns.countplot(x=columns[5], data=data)\n",
    "locs, labels = plt.xticks()\n",
    "plot.set_xticklabels(labels ,rotation=90)"
   ]
  },
  {
   "cell_type": "markdown",
   "metadata": {
    "collapsed": true
   },
   "source": [
    "## Arrest \n",
    "### _Indicates whether an arrest was made or not._"
   ]
  },
  {
   "cell_type": "code",
   "execution_count": 10,
   "metadata": {},
   "outputs": [
    {
     "data": {
      "image/png": "[encoded data removed]",
      "text/plain": [
       "<matplotlib.figure.Figure at 0x7f0a117b59b0>"
      ]
     },
     "metadata": {},
     "output_type": "display_data"
    }
   ],
   "source": [
    "plot = sns.countplot(x=columns[8], data=data)"
   ]
  },
  {
   "cell_type": "markdown",
   "metadata": {},
   "source": [
    "## District \n",
    "### _Indicates the police district where the incident occurred._"
   ]
  },
  {
   "cell_type": "code",
   "execution_count": 11,
   "metadata": {},
   "outputs": [
    {
     "data": {
      "text/plain": [
       "[<matplotlib.text.Text at 0x7f09fca77978>,\n",
       " <matplotlib.text.Text at 0x7f09fcaa0390>,\n",
       " <matplotlib.text.Text at 0x7f09fcb30320>,\n",
       " <matplotlib.text.Text at 0x7f09fca10fd0>,\n",
       " <matplotlib.text.Text at 0x7f09fca1b9e8>,\n",
       " <matplotlib.text.Text at 0x7f09fca1f400>,\n",
       " <matplotlib.text.Text at 0x7f09fca1fdd8>,\n",
       " <matplotlib.text.Text at 0x7f09fca257f0>,\n",
       " <matplotlib.text.Text at 0x7f09fc9a9208>,\n",
       " <matplotlib.text.Text at 0x7f09fc9a9be0>,\n",
       " <matplotlib.text.Text at 0x7f09fc9ad5f8>,\n",
       " <matplotlib.text.Text at 0x7f09fc9adfd0>,\n",
       " <matplotlib.text.Text at 0x7f09fc9b39e8>,\n",
       " <matplotlib.text.Text at 0x7f09fc9b7400>,\n",
       " <matplotlib.text.Text at 0x7f09fc9b7dd8>,\n",
       " <matplotlib.text.Text at 0x7f09fc9be7f0>,\n",
       " <matplotlib.text.Text at 0x7f09fc9c2208>,\n",
       " <matplotlib.text.Text at 0x7f09fc9c2be0>,\n",
       " <matplotlib.text.Text at 0x7f09fc9c65f8>,\n",
       " <matplotlib.text.Text at 0x7f09fc9c6fd0>,\n",
       " <matplotlib.text.Text at 0x7f09fc9cc9e8>,\n",
       " <matplotlib.text.Text at 0x7f09fc9cf400>,\n",
       " <matplotlib.text.Text at 0x7f09fc9cfdd8>]"
      ]
     },
     "execution_count": 11,
     "metadata": {},
     "output_type": "execute_result"
    },
    {
     "data": {
      "image/png": "[encoded data removed]",
      "text/plain": [
       "<matplotlib.figure.Figure at 0x7f0a008ddac8>"
      ]
     },
     "metadata": {},
     "output_type": "display_data"
    }
   ],
   "source": [
    "plot = sns.countplot(x=columns[11], data=data)\n",
    "locs, labels = plt.xticks()\n",
    "plot.set_xticklabels(labels ,rotation=90)"
   ]
  },
  {
   "cell_type": "markdown",
   "metadata": {},
   "source": [
    "## Domestic \n",
    "### _Indicates whether the incident was domestic-related as defined by the Domestic Violence Act._"
   ]
  },
  {
   "cell_type": "code",
   "execution_count": 12,
   "metadata": {},
   "outputs": [
    {
     "data": {
      "image/png": "[encoded data removed]",
      "text/plain": [
       "<matplotlib.figure.Figure at 0x7f0a00203b38>"
      ]
     },
     "metadata": {},
     "output_type": "display_data"
    }
   ],
   "source": [
    "plot = sns.countplot(x=columns[9], data=data)"
   ]
  },
  {
   "cell_type": "markdown",
   "metadata": {},
   "source": [
    "## Location Description \n",
    "### _Description of the location where the incident occured._"
   ]
  },
  {
   "cell_type": "code",
   "execution_count": 13,
   "metadata": {},
   "outputs": [
    {
     "data": {
      "text/plain": [
       "[<matplotlib.text.Text at 0x7f09fcac7b00>,\n",
       " <matplotlib.text.Text at 0x7f09fcb28400>,\n",
       " <matplotlib.text.Text at 0x7f09fc77f358>,\n",
       " <matplotlib.text.Text at 0x7f09fc77fd30>,\n",
       " <matplotlib.text.Text at 0x7f09fc784748>,\n",
       " <matplotlib.text.Text at 0x7f09fc789160>,\n",
       " <matplotlib.text.Text at 0x7f09fc789b38>,\n",
       " <matplotlib.text.Text at 0x7f09fc78e550>,\n",
       " <matplotlib.text.Text at 0x7f09fc78ef28>,\n",
       " <matplotlib.text.Text at 0x7f09fc792940>,\n",
       " <matplotlib.text.Text at 0x7f09fc797358>,\n",
       " <matplotlib.text.Text at 0x7f09fc797d30>,\n",
       " <matplotlib.text.Text at 0x7f09fc79d748>,\n",
       " <matplotlib.text.Text at 0x7f09fc7a0160>,\n",
       " <matplotlib.text.Text at 0x7f09fc7a0b38>,\n",
       " <matplotlib.text.Text at 0x7f09fc7a5550>,\n",
       " <matplotlib.text.Text at 0x7f09fc7a5f28>,\n",
       " <matplotlib.text.Text at 0x7f09fc72a940>,\n",
       " <matplotlib.text.Text at 0x7f09fc731358>,\n",
       " <matplotlib.text.Text at 0x7f09fc731d30>,\n",
       " <matplotlib.text.Text at 0x7f09fc735748>,\n",
       " <matplotlib.text.Text at 0x7f09fc73a160>,\n",
       " <matplotlib.text.Text at 0x7f09fc73ab38>,\n",
       " <matplotlib.text.Text at 0x7f09fc73f550>,\n",
       " <matplotlib.text.Text at 0x7f09fc73ff28>,\n",
       " <matplotlib.text.Text at 0x7f09fc744940>,\n",
       " <matplotlib.text.Text at 0x7f09fc74a358>,\n",
       " <matplotlib.text.Text at 0x7f09fc74ad30>,\n",
       " <matplotlib.text.Text at 0x7f09fc74e748>,\n",
       " <matplotlib.text.Text at 0x7f09fc753160>,\n",
       " <matplotlib.text.Text at 0x7f09fc753b38>,\n",
       " <matplotlib.text.Text at 0x7f09fc759550>,\n",
       " <matplotlib.text.Text at 0x7f09fc759f28>,\n",
       " <matplotlib.text.Text at 0x7f09fc75e940>,\n",
       " <matplotlib.text.Text at 0x7f09fc763358>,\n",
       " <matplotlib.text.Text at 0x7f09fc763d30>,\n",
       " <matplotlib.text.Text at 0x7f09fc767748>,\n",
       " <matplotlib.text.Text at 0x7f09fc6ec160>,\n",
       " <matplotlib.text.Text at 0x7f09fc6ecb38>,\n",
       " <matplotlib.text.Text at 0x7f09fc6f1550>,\n",
       " <matplotlib.text.Text at 0x7f09fc6f1f28>,\n",
       " <matplotlib.text.Text at 0x7f09fc6f7940>,\n",
       " <matplotlib.text.Text at 0x7f09fc6fd358>,\n",
       " <matplotlib.text.Text at 0x7f09fc6fdd30>,\n",
       " <matplotlib.text.Text at 0x7f09fc701748>,\n",
       " <matplotlib.text.Text at 0x7f09fc705160>,\n",
       " <matplotlib.text.Text at 0x7f09fc705b38>,\n",
       " <matplotlib.text.Text at 0x7f09fc70a550>,\n",
       " <matplotlib.text.Text at 0x7f09fc70af28>,\n",
       " <matplotlib.text.Text at 0x7f09fc70e940>,\n",
       " <matplotlib.text.Text at 0x7f09fc715358>,\n",
       " <matplotlib.text.Text at 0x7f09fc715d30>,\n",
       " <matplotlib.text.Text at 0x7f09fc719748>,\n",
       " <matplotlib.text.Text at 0x7f09fc71f160>,\n",
       " <matplotlib.text.Text at 0x7f09fc71fb38>,\n",
       " <matplotlib.text.Text at 0x7f09fc724550>,\n",
       " <matplotlib.text.Text at 0x7f09fc724f28>,\n",
       " <matplotlib.text.Text at 0x7f09fc6a9940>,\n",
       " <matplotlib.text.Text at 0x7f09fc6ad358>,\n",
       " <matplotlib.text.Text at 0x7f09fc6add30>,\n",
       " <matplotlib.text.Text at 0x7f09fc6b4748>,\n",
       " <matplotlib.text.Text at 0x7f09fc6b8160>,\n",
       " <matplotlib.text.Text at 0x7f09fc6b8b38>,\n",
       " <matplotlib.text.Text at 0x7f09fc6bd550>,\n",
       " <matplotlib.text.Text at 0x7f09fc6bdf28>,\n",
       " <matplotlib.text.Text at 0x7f09fc6c2940>,\n",
       " <matplotlib.text.Text at 0x7f09fc6c7358>,\n",
       " <matplotlib.text.Text at 0x7f09fc6c7d30>,\n",
       " <matplotlib.text.Text at 0x7f09fc6cd748>,\n",
       " <matplotlib.text.Text at 0x7f09fc6d1160>,\n",
       " <matplotlib.text.Text at 0x7f09fc6d1b38>,\n",
       " <matplotlib.text.Text at 0x7f09fc6d6550>,\n",
       " <matplotlib.text.Text at 0x7f09fc6d6f28>,\n",
       " <matplotlib.text.Text at 0x7f09fc6dc940>,\n",
       " <matplotlib.text.Text at 0x7f09fc6e0358>,\n",
       " <matplotlib.text.Text at 0x7f09fc6e0d30>,\n",
       " <matplotlib.text.Text at 0x7f09fc6e5748>,\n",
       " <matplotlib.text.Text at 0x7f09fc66b160>,\n",
       " <matplotlib.text.Text at 0x7f09fc66bb38>,\n",
       " <matplotlib.text.Text at 0x7f09fc670550>,\n",
       " <matplotlib.text.Text at 0x7f09fc670f28>,\n",
       " <matplotlib.text.Text at 0x7f09fc677940>,\n",
       " <matplotlib.text.Text at 0x7f09fc679358>,\n",
       " <matplotlib.text.Text at 0x7f09fc679d30>,\n",
       " <matplotlib.text.Text at 0x7f09fc67e748>,\n",
       " <matplotlib.text.Text at 0x7f09fc683160>,\n",
       " <matplotlib.text.Text at 0x7f09fc683b38>,\n",
       " <matplotlib.text.Text at 0x7f09fc688550>,\n",
       " <matplotlib.text.Text at 0x7f09fc688f28>,\n",
       " <matplotlib.text.Text at 0x7f09fc68e940>,\n",
       " <matplotlib.text.Text at 0x7f09fc692358>,\n",
       " <matplotlib.text.Text at 0x7f09fc692d30>,\n",
       " <matplotlib.text.Text at 0x7f09fc697748>,\n",
       " <matplotlib.text.Text at 0x7f09fc69c160>,\n",
       " <matplotlib.text.Text at 0x7f09fc69cb38>,\n",
       " <matplotlib.text.Text at 0x7f09fc6a0550>,\n",
       " <matplotlib.text.Text at 0x7f09fc6a0f28>,\n",
       " <matplotlib.text.Text at 0x7f09fc6a7940>,\n",
       " <matplotlib.text.Text at 0x7f09fc62b358>,\n",
       " <matplotlib.text.Text at 0x7f09fc62bd30>,\n",
       " <matplotlib.text.Text at 0x7f09fc630748>,\n",
       " <matplotlib.text.Text at 0x7f09fc637160>,\n",
       " <matplotlib.text.Text at 0x7f09fc637b38>,\n",
       " <matplotlib.text.Text at 0x7f09fc63c550>,\n",
       " <matplotlib.text.Text at 0x7f09fc63cf28>,\n",
       " <matplotlib.text.Text at 0x7f09fc641940>,\n",
       " <matplotlib.text.Text at 0x7f09fc646358>,\n",
       " <matplotlib.text.Text at 0x7f09fc646d30>,\n",
       " <matplotlib.text.Text at 0x7f09fc64a748>,\n",
       " <matplotlib.text.Text at 0x7f09fc650160>,\n",
       " <matplotlib.text.Text at 0x7f09fc650b38>,\n",
       " <matplotlib.text.Text at 0x7f09fc654550>,\n",
       " <matplotlib.text.Text at 0x7f09fc654f28>,\n",
       " <matplotlib.text.Text at 0x7f09fc658940>,\n",
       " <matplotlib.text.Text at 0x7f09fc65e358>,\n",
       " <matplotlib.text.Text at 0x7f09fc65ed30>,\n",
       " <matplotlib.text.Text at 0x7f09fc663748>,\n",
       " <matplotlib.text.Text at 0x7f09fc668160>,\n",
       " <matplotlib.text.Text at 0x7f09fc668b38>,\n",
       " <matplotlib.text.Text at 0x7f09fc5ed550>,\n",
       " <matplotlib.text.Text at 0x7f09fc5edf28>,\n",
       " <matplotlib.text.Text at 0x7f09fc5f0940>]"
      ]
     },
     "execution_count": 13,
     "metadata": {},
     "output_type": "execute_result"
    },
    {
     "data": {
      "image/png": "[encoded data removed]",
      "text/plain": [
       "<matplotlib.figure.Figure at 0x7f0a136592b0>"
      ]
     },
     "metadata": {},
     "output_type": "display_data"
    }
   ],
   "source": [
    "plot = sns.countplot(x=columns[7], data=data)\n",
    "locs, labels = plt.xticks()\n",
    "plot.set_xticklabels(labels ,rotation=90)"
   ]
  },
  {
   "cell_type": "markdown",
   "metadata": {},
   "source": [
    "### _splitting date into three columns  of month , day & year_"
   ]
  },
  {
   "cell_type": "code",
   "execution_count": 14,
   "metadata": {
    "collapsed": true
   },
   "outputs": [],
   "source": [
    "# initialising an empty list \n",
    "month = []\n",
    "day = []\n",
    "year = []"
   ]
  },
  {
   "cell_type": "code",
   "execution_count": 15,
   "metadata": {
    "collapsed": true
   },
   "outputs": [],
   "source": [
    "# iterating over the date column to split up the date and store in the list\n",
    "for i in range(0 , len(data)):\n",
    "    month.append(int(data['Date'][i].split(\" \")[0].split(\"/\")[0]))\n",
    "    day.append(int(data['Date'][i].split(\" \")[0].split(\"/\")[1]))\n",
    "    year.append(int(data['Date'][i].split(\" \")[0].split(\"/\")[2]))"
   ]
  },
  {
   "cell_type": "markdown",
   "metadata": {},
   "source": [
    "#### _merging the obtained list of day , month & year into the dataset_"
   ]
  },
  {
   "cell_type": "code",
   "execution_count": 16,
   "metadata": {
    "collapsed": true
   },
   "outputs": [],
   "source": [
    "data = pd.concat([data,pd.DataFrame({'Month':month ,'Day':day , 'CrimeYear' : year})]  , axis=1)"
   ]
  },
  {
   "cell_type": "code",
   "execution_count": 17,
   "metadata": {},
   "outputs": [
    {
     "data": {
      "text/plain": [
       "(500000, 25)"
      ]
     },
     "execution_count": 17,
     "metadata": {},
     "output_type": "execute_result"
    }
   ],
   "source": [
    "data.shape "
   ]
  },
  {
   "cell_type": "code",
   "execution_count": 18,
   "metadata": {},
   "outputs": [
    {
     "data": {
      "text/plain": [
       "array(['ID', 'Case Number', 'Date', 'Block', 'IUCR', 'Primary Type',\n",
       "       'Description', 'Location Description', 'Arrest', 'Domestic', 'Beat',\n",
       "       'District', 'Ward', 'Community Area', 'FBI Code', 'X Coordinate',\n",
       "       'Y Coordinate', 'Year', 'Updated On', 'Latitude', 'Longitude',\n",
       "       'Location', 'CrimeYear', 'Day', 'Month'], dtype=object)"
      ]
     },
     "execution_count": 18,
     "metadata": {},
     "output_type": "execute_result"
    }
   ],
   "source": [
    "data.columns.values"
   ]
  },
  {
   "cell_type": "code",
   "execution_count": 19,
   "metadata": {},
   "outputs": [
    {
     "data": {
      "text/plain": [
       "['ID',\n",
       " 'Case Number',\n",
       " 'Date',\n",
       " 'Block',\n",
       " 'IUCR',\n",
       " 'Primary Type',\n",
       " 'Description',\n",
       " 'Location Description',\n",
       " 'Arrest',\n",
       " 'Domestic',\n",
       " 'Beat',\n",
       " 'District',\n",
       " 'Ward',\n",
       " 'Community Area',\n",
       " 'FBI Code',\n",
       " 'X Coordinate',\n",
       " 'Y Coordinate',\n",
       " 'Year',\n",
       " 'Updated On',\n",
       " 'Latitude',\n",
       " 'Longitude',\n",
       " 'Location',\n",
       " 'CrimeYear',\n",
       " 'Day',\n",
       " 'Month']"
      ]
     },
     "execution_count": 19,
     "metadata": {},
     "output_type": "execute_result"
    }
   ],
   "source": [
    "columns = data.columns.get_values().tolist()\n",
    "columns "
   ]
  },
  {
   "cell_type": "markdown",
   "metadata": {},
   "source": [
    "## Year \n",
    "### _Year wise crime occurings recorded._"
   ]
  },
  {
   "cell_type": "code",
   "execution_count": 20,
   "metadata": {},
   "outputs": [
    {
     "data": {
      "text/plain": [
       "[<matplotlib.text.Text at 0x7f09fc5c1cf8>,\n",
       " <matplotlib.text.Text at 0x7f09f9e52320>,\n",
       " <matplotlib.text.Text at 0x7f09f8370d68>,\n",
       " <matplotlib.text.Text at 0x7f09f82f6780>,\n",
       " <matplotlib.text.Text at 0x7f09f82fb198>,\n",
       " <matplotlib.text.Text at 0x7f09f82fbb70>,\n",
       " <matplotlib.text.Text at 0x7f09fc668ac8>,\n",
       " <matplotlib.text.Text at 0x7f09fc5a97f0>,\n",
       " <matplotlib.text.Text at 0x7f09fc93f978>,\n",
       " <matplotlib.text.Text at 0x7f09f8303470>,\n",
       " <matplotlib.text.Text at 0x7f09f8303d68>,\n",
       " <matplotlib.text.Text at 0x7f09f8306780>,\n",
       " <matplotlib.text.Text at 0x7f09f8309198>,\n",
       " <matplotlib.text.Text at 0x7f09f8309b70>,\n",
       " <matplotlib.text.Text at 0x7f09f830e588>,\n",
       " <matplotlib.text.Text at 0x7f09f830ef60>,\n",
       " <matplotlib.text.Text at 0x7f09f8314978>,\n",
       " <matplotlib.text.Text at 0x7f09f8318390>]"
      ]
     },
     "execution_count": 20,
     "metadata": {},
     "output_type": "execute_result"
    },
    {
     "data": {
      "image/png": "[encoded data removed]",
      "text/plain": [
       "<matplotlib.figure.Figure at 0x7f09fc84a390>"
      ]
     },
     "metadata": {},
     "output_type": "display_data"
    }
   ],
   "source": [
    "plot = sns.countplot(x=columns[22], data=data)\n",
    "locs, labels = plt.xticks()\n",
    "plot.set_xticklabels(labels ,rotation=90)"
   ]
  },
  {
   "cell_type": "markdown",
   "metadata": {},
   "source": [
    "## Month \n",
    "### _Month wise crime occurings recorded._"
   ]
  },
  {
   "cell_type": "code",
   "execution_count": 21,
   "metadata": {},
   "outputs": [
    {
     "data": {
      "text/plain": [
       "[<matplotlib.text.Text at 0x7f09f82c8f98>,\n",
       " <matplotlib.text.Text at 0x7f09f82cb160>,\n",
       " <matplotlib.text.Text at 0x7f09f82a3128>,\n",
       " <matplotlib.text.Text at 0x7f09f82a3b00>,\n",
       " <matplotlib.text.Text at 0x7f09f82a7518>,\n",
       " <matplotlib.text.Text at 0x7f09f82a7ef0>,\n",
       " <matplotlib.text.Text at 0x7f09f82ad908>,\n",
       " <matplotlib.text.Text at 0x7f09f82b1320>,\n",
       " <matplotlib.text.Text at 0x7f09f82b1cf8>,\n",
       " <matplotlib.text.Text at 0x7f09f8238710>,\n",
       " <matplotlib.text.Text at 0x7f09f823e128>,\n",
       " <matplotlib.text.Text at 0x7f09f823eb00>]"
      ]
     },
     "execution_count": 21,
     "metadata": {},
     "output_type": "execute_result"
    },
    {
     "data": {
      "image/png": "[encoded data removed]",
      "text/plain": [
       "<matplotlib.figure.Figure at 0x7f09fc880940>"
      ]
     },
     "metadata": {},
     "output_type": "display_data"
    }
   ],
   "source": [
    "plot = sns.countplot(x=columns[24], data=data)\n",
    "locs, labels = plt.xticks()\n",
    "plot.set_xticklabels(labels ,rotation=90)"
   ]
  },
  {
   "cell_type": "markdown",
   "metadata": {},
   "source": [
    "## Day \n",
    "### _Day wise crime occurings recorded._"
   ]
  },
  {
   "cell_type": "code",
   "execution_count": 22,
   "metadata": {},
   "outputs": [
    {
     "data": {
      "text/plain": [
       "[<matplotlib.text.Text at 0x7f09f824d780>,\n",
       " <matplotlib.text.Text at 0x7f09fc6834a8>,\n",
       " <matplotlib.text.Text at 0x7f09fc93ff60>,\n",
       " <matplotlib.text.Text at 0x7f09fc935c88>,\n",
       " <matplotlib.text.Text at 0x7f09fc957048>,\n",
       " <matplotlib.text.Text at 0x7f09fc9f59b0>,\n",
       " <matplotlib.text.Text at 0x7f09fca1f470>,\n",
       " <matplotlib.text.Text at 0x7f09fc9875f8>,\n",
       " <matplotlib.text.Text at 0x7f09fc987f28>,\n",
       " <matplotlib.text.Text at 0x7f09fc94dc50>,\n",
       " <matplotlib.text.Text at 0x7f09fc929a58>,\n",
       " <matplotlib.text.Text at 0x7f09fc92e1d0>,\n",
       " <matplotlib.text.Text at 0x7f09fc92ec18>,\n",
       " <matplotlib.text.Text at 0x7f09fca6dc18>,\n",
       " <matplotlib.text.Text at 0x7f09f8253080>,\n",
       " <matplotlib.text.Text at 0x7f09f8253a90>,\n",
       " <matplotlib.text.Text at 0x7f09f825c4a8>,\n",
       " <matplotlib.text.Text at 0x7f09f825ce80>,\n",
       " <matplotlib.text.Text at 0x7f09f8261898>,\n",
       " <matplotlib.text.Text at 0x7f09f82642b0>,\n",
       " <matplotlib.text.Text at 0x7f09f8264c88>,\n",
       " <matplotlib.text.Text at 0x7f09f82696a0>,\n",
       " <matplotlib.text.Text at 0x7f09f826e0b8>,\n",
       " <matplotlib.text.Text at 0x7f09f826ea90>,\n",
       " <matplotlib.text.Text at 0x7f09f81f24a8>,\n",
       " <matplotlib.text.Text at 0x7f09f81f2e80>,\n",
       " <matplotlib.text.Text at 0x7f09f81f9898>,\n",
       " <matplotlib.text.Text at 0x7f09f81fd2b0>,\n",
       " <matplotlib.text.Text at 0x7f09f81fdc88>,\n",
       " <matplotlib.text.Text at 0x7f09f82036a0>,\n",
       " <matplotlib.text.Text at 0x7f09f82080b8>]"
      ]
     },
     "execution_count": 22,
     "metadata": {},
     "output_type": "execute_result"
    },
    {
     "data": {
      "image/png": "[encoded data removed]",
      "text/plain": [
       "<matplotlib.figure.Figure at 0x7f09fc880a90>"
      ]
     },
     "metadata": {},
     "output_type": "display_data"
    }
   ],
   "source": [
    "plot = sns.countplot(x=columns[23], data=data)\n",
    "locs, labels = plt.xticks()\n",
    "plot.set_xticklabels(labels ,rotation=90)"
   ]
  },
  {
   "cell_type": "markdown",
   "metadata": {},
   "source": [
    "# Preprocessing of the dataset"
   ]
  },
  {
   "cell_type": "markdown",
   "metadata": {},
   "source": [
    "### _removing unnessecary columns from the data set _"
   ]
  },
  {
   "cell_type": "code",
   "execution_count": 23,
   "metadata": {
    "collapsed": true
   },
   "outputs": [],
   "source": [
    "data.drop(['ID' ,'Case Number' ,'IUCR' ,'FBI Code' ,'X Coordinate', \n",
    "           'Y Coordinate' ,'Updated On' ,'Location', 'Beat' , 'Community Area' \n",
    "           ,'District' ,'Ward','Block' ] ,axis=1 ,inplace =True)"
   ]
  },
  {
   "cell_type": "markdown",
   "metadata": {},
   "source": [
    "#### _removing the unnecesssary date entries_"
   ]
  },
  {
   "cell_type": "code",
   "execution_count": 24,
   "metadata": {
    "collapsed": true
   },
   "outputs": [],
   "source": [
    "data.drop(['Date','CrimeYear'] ,axis = 1 ,inplace =True)"
   ]
  },
  {
   "cell_type": "code",
   "execution_count": 25,
   "metadata": {},
   "outputs": [
    {
     "data": {
      "text/plain": [
       "array(['Primary Type', 'Description', 'Location Description', 'Arrest',\n",
       "       'Domestic', 'Year', 'Latitude', 'Longitude', 'Day', 'Month'], dtype=object)"
      ]
     },
     "execution_count": 25,
     "metadata": {},
     "output_type": "execute_result"
    }
   ],
   "source": [
    "data.columns.values"
   ]
  },
  {
   "cell_type": "code",
   "execution_count": 26,
   "metadata": {},
   "outputs": [
    {
     "data": {
      "text/plain": [
       "(500000, 10)"
      ]
     },
     "execution_count": 26,
     "metadata": {},
     "output_type": "execute_result"
    }
   ],
   "source": [
    "data.shape"
   ]
  },
  {
   "cell_type": "code",
   "execution_count": 27,
   "metadata": {},
   "outputs": [
    {
     "data": {
      "text/html": [
       "<div>\n",
       "<style>\n",
       "    .dataframe thead tr:only-child th {\n",
       "        text-align: right;\n",
       "    }\n",
       "\n",
       "    .dataframe thead th {\n",
       "        text-align: left;\n",
       "    }\n",
       "\n",
       "    .dataframe tbody tr th {\n",
       "        vertical-align: top;\n",
       "    }\n",
       "</style>\n",
       "<table border=\"1\" class=\"dataframe\">\n",
       "  <thead>\n",
       "    <tr style=\"text-align: right;\">\n",
       "      <th></th>\n",
       "      <th>Primary Type</th>\n",
       "      <th>Description</th>\n",
       "      <th>Location Description</th>\n",
       "      <th>Arrest</th>\n",
       "      <th>Domestic</th>\n",
       "      <th>Year</th>\n",
       "      <th>Latitude</th>\n",
       "      <th>Longitude</th>\n",
       "      <th>Day</th>\n",
       "      <th>Month</th>\n",
       "    </tr>\n",
       "  </thead>\n",
       "  <tbody>\n",
       "    <tr>\n",
       "      <th>0</th>\n",
       "      <td>BATTERY</td>\n",
       "      <td>AGGRAVATED: HANDGUN</td>\n",
       "      <td>STREET</td>\n",
       "      <td>False</td>\n",
       "      <td>False</td>\n",
       "      <td>2015</td>\n",
       "      <td>41.891399</td>\n",
       "      <td>-87.744385</td>\n",
       "      <td>18</td>\n",
       "      <td>3</td>\n",
       "    </tr>\n",
       "    <tr>\n",
       "      <th>1</th>\n",
       "      <td>OTHER OFFENSE</td>\n",
       "      <td>PAROLE VIOLATION</td>\n",
       "      <td>STREET</td>\n",
       "      <td>True</td>\n",
       "      <td>False</td>\n",
       "      <td>2015</td>\n",
       "      <td>41.773372</td>\n",
       "      <td>-87.665319</td>\n",
       "      <td>18</td>\n",
       "      <td>3</td>\n",
       "    </tr>\n",
       "    <tr>\n",
       "      <th>2</th>\n",
       "      <td>BATTERY</td>\n",
       "      <td>DOMESTIC BATTERY SIMPLE</td>\n",
       "      <td>APARTMENT</td>\n",
       "      <td>False</td>\n",
       "      <td>True</td>\n",
       "      <td>2015</td>\n",
       "      <td>41.813861</td>\n",
       "      <td>-87.596643</td>\n",
       "      <td>18</td>\n",
       "      <td>3</td>\n",
       "    </tr>\n",
       "    <tr>\n",
       "      <th>3</th>\n",
       "      <td>BATTERY</td>\n",
       "      <td>SIMPLE</td>\n",
       "      <td>APARTMENT</td>\n",
       "      <td>False</td>\n",
       "      <td>False</td>\n",
       "      <td>2015</td>\n",
       "      <td>41.800802</td>\n",
       "      <td>-87.622619</td>\n",
       "      <td>18</td>\n",
       "      <td>3</td>\n",
       "    </tr>\n",
       "    <tr>\n",
       "      <th>4</th>\n",
       "      <td>ROBBERY</td>\n",
       "      <td>ARMED: HANDGUN</td>\n",
       "      <td>SIDEWALK</td>\n",
       "      <td>False</td>\n",
       "      <td>False</td>\n",
       "      <td>2015</td>\n",
       "      <td>41.878065</td>\n",
       "      <td>-87.743354</td>\n",
       "      <td>18</td>\n",
       "      <td>3</td>\n",
       "    </tr>\n",
       "  </tbody>\n",
       "</table>\n",
       "</div>"
      ],
      "text/plain": [
       "    Primary Type              Description Location Description  Arrest  \\\n",
       "0        BATTERY      AGGRAVATED: HANDGUN               STREET   False   \n",
       "1  OTHER OFFENSE         PAROLE VIOLATION               STREET    True   \n",
       "2        BATTERY  DOMESTIC BATTERY SIMPLE            APARTMENT   False   \n",
       "3        BATTERY                   SIMPLE            APARTMENT   False   \n",
       "4        ROBBERY           ARMED: HANDGUN             SIDEWALK   False   \n",
       "\n",
       "   Domestic  Year   Latitude  Longitude  Day  Month  \n",
       "0     False  2015  41.891399 -87.744385   18      3  \n",
       "1     False  2015  41.773372 -87.665319   18      3  \n",
       "2      True  2015  41.813861 -87.596643   18      3  \n",
       "3     False  2015  41.800802 -87.622619   18      3  \n",
       "4     False  2015  41.878065 -87.743354   18      3  "
      ]
     },
     "execution_count": 27,
     "metadata": {},
     "output_type": "execute_result"
    }
   ],
   "source": [
    "data.head(5)"
   ]
  },
  {
   "cell_type": "code",
   "execution_count": 28,
   "metadata": {},
   "outputs": [
    {
     "name": "stdout",
     "output_type": "stream",
     "text": [
      "No of columns in data dataset: 10\n"
     ]
    }
   ],
   "source": [
    "print(\"No of columns in data dataset: \"+str(len(data.columns.values)))"
   ]
  },
  {
   "cell_type": "markdown",
   "metadata": {},
   "source": [
    "#### handling the null entries of the data set"
   ]
  },
  {
   "cell_type": "code",
   "execution_count": 29,
   "metadata": {},
   "outputs": [
    {
     "data": {
      "text/plain": [
       "Primary Type               0\n",
       "Description                0\n",
       "Location Description     823\n",
       "Arrest                     0\n",
       "Domestic                   0\n",
       "Year                       0\n",
       "Latitude                2525\n",
       "Longitude               2525\n",
       "Day                        0\n",
       "Month                      0\n",
       "dtype: int64"
      ]
     },
     "execution_count": 29,
     "metadata": {},
     "output_type": "execute_result"
    }
   ],
   "source": [
    "data.isnull().sum()"
   ]
  },
  {
   "cell_type": "markdown",
   "metadata": {},
   "source": [
    "##### drop null values"
   ]
  },
  {
   "cell_type": "code",
   "execution_count": 30,
   "metadata": {
    "collapsed": true
   },
   "outputs": [],
   "source": [
    "data = data.dropna(axis=0 ,subset=['Latitude' , 'Longitude'])"
   ]
  },
  {
   "cell_type": "markdown",
   "metadata": {},
   "source": [
    "##### drop remaining null values"
   ]
  },
  {
   "cell_type": "code",
   "execution_count": 31,
   "metadata": {
    "collapsed": true
   },
   "outputs": [],
   "source": [
    "data = data.dropna(axis=0 , subset= ['Location Description'])"
   ]
  },
  {
   "cell_type": "code",
   "execution_count": 32,
   "metadata": {},
   "outputs": [
    {
     "data": {
      "text/plain": [
       "Primary Type            0\n",
       "Description             0\n",
       "Location Description    0\n",
       "Arrest                  0\n",
       "Domestic                0\n",
       "Year                    0\n",
       "Latitude                0\n",
       "Longitude               0\n",
       "Day                     0\n",
       "Month                   0\n",
       "dtype: int64"
      ]
     },
     "execution_count": 32,
     "metadata": {},
     "output_type": "execute_result"
    }
   ],
   "source": [
    "data.isnull().sum()"
   ]
  },
  {
   "cell_type": "markdown",
   "metadata": {},
   "source": [
    "##### _shuffling data and reseting the index_"
   ]
  },
  {
   "cell_type": "code",
   "execution_count": 33,
   "metadata": {
    "collapsed": true
   },
   "outputs": [],
   "source": [
    "from sklearn.utils import shuffle\n",
    "data = shuffle(data)\n",
    "data=data.reset_index(drop=True)"
   ]
  },
  {
   "cell_type": "markdown",
   "metadata": {},
   "source": [
    "##### _extracting out the crime occured before 2017_"
   ]
  },
  {
   "cell_type": "code",
   "execution_count": 34,
   "metadata": {
    "collapsed": true
   },
   "outputs": [],
   "source": [
    "data2016 =data[data['Year']==2016]"
   ]
  },
  {
   "cell_type": "code",
   "execution_count": 35,
   "metadata": {
    "collapsed": true
   },
   "outputs": [],
   "source": [
    "data=data[data['Year']<2017]"
   ]
  },
  {
   "cell_type": "code",
   "execution_count": 36,
   "metadata": {},
   "outputs": [
    {
     "data": {
      "text/plain": [
       "(433252, 10)"
      ]
     },
     "execution_count": 36,
     "metadata": {},
     "output_type": "execute_result"
    }
   ],
   "source": [
    "data.shape"
   ]
  },
  {
   "cell_type": "code",
   "execution_count": 37,
   "metadata": {},
   "outputs": [
    {
     "data": {
      "text/plain": [
       "(237143, 10)"
      ]
     },
     "execution_count": 37,
     "metadata": {},
     "output_type": "execute_result"
    }
   ],
   "source": [
    "data2016.shape"
   ]
  },
  {
   "cell_type": "code",
   "execution_count": 38,
   "metadata": {
    "collapsed": true
   },
   "outputs": [],
   "source": [
    "#reseting the index \n",
    "data=data.reset_index(drop=True)\n",
    "data2016 = data2016.reset_index(drop=True)"
   ]
  },
  {
   "cell_type": "code",
   "execution_count": 39,
   "metadata": {},
   "outputs": [
    {
     "data": {
      "text/plain": [
       "array(['Primary Type', 'Description', 'Location Description', 'Arrest',\n",
       "       'Domestic', 'Year', 'Latitude', 'Longitude', 'Day', 'Month'], dtype=object)"
      ]
     },
     "execution_count": 39,
     "metadata": {},
     "output_type": "execute_result"
    }
   ],
   "source": [
    "data.columns.values"
   ]
  },
  {
   "cell_type": "markdown",
   "metadata": {},
   "source": [
    "### _splitting the dataset into dependent and independent variable for Primary Type_"
   ]
  },
  {
   "cell_type": "code",
   "execution_count": 40,
   "metadata": {
    "collapsed": true
   },
   "outputs": [],
   "source": [
    "X = data.iloc[:, 1:].values\n",
    "y = data.iloc[:, 0].values"
   ]
  },
  {
   "cell_type": "code",
   "execution_count": 41,
   "metadata": {},
   "outputs": [
    {
     "data": {
      "text/plain": [
       "(433252, 9)"
      ]
     },
     "execution_count": 41,
     "metadata": {},
     "output_type": "execute_result"
    }
   ],
   "source": [
    "X.shape"
   ]
  },
  {
   "cell_type": "code",
   "execution_count": 42,
   "metadata": {},
   "outputs": [
    {
     "data": {
      "text/plain": [
       "(433252,)"
      ]
     },
     "execution_count": 42,
     "metadata": {},
     "output_type": "execute_result"
    }
   ],
   "source": [
    "y.shape"
   ]
  },
  {
   "cell_type": "markdown",
   "metadata": {},
   "source": [
    "#### _handling categorical data from the dataset _"
   ]
  },
  {
   "cell_type": "code",
   "execution_count": 43,
   "metadata": {
    "collapsed": true
   },
   "outputs": [],
   "source": [
    "from sklearn.preprocessing import LabelEncoder , OneHotEncoder"
   ]
  },
  {
   "cell_type": "code",
   "execution_count": 44,
   "metadata": {
    "collapsed": true
   },
   "outputs": [],
   "source": [
    "lableencoder_X0 = LabelEncoder()\n",
    "X[: , 0]= lableencoder_X0.fit_transform(X[: ,0])"
   ]
  },
  {
   "cell_type": "code",
   "execution_count": 45,
   "metadata": {
    "collapsed": true
   },
   "outputs": [],
   "source": [
    "lableencoder_X1 = LabelEncoder()\n",
    "X[: , 1]= lableencoder_X1.fit_transform(X[: ,1])"
   ]
  },
  {
   "cell_type": "code",
   "execution_count": 46,
   "metadata": {
    "collapsed": true
   },
   "outputs": [],
   "source": [
    "lableencoder_X2 = LabelEncoder()\n",
    "X[: , 2]= lableencoder_X2.fit_transform(X[: ,2])"
   ]
  },
  {
   "cell_type": "code",
   "execution_count": 47,
   "metadata": {
    "collapsed": true
   },
   "outputs": [],
   "source": [
    "lableencoder_X3 = LabelEncoder()\n",
    "X[: , 3]= lableencoder_X3.fit_transform(X[: ,3])"
   ]
  },
  {
   "cell_type": "code",
   "execution_count": 48,
   "metadata": {},
   "outputs": [
    {
     "data": {
      "text/plain": [
       "array([291, 108, 0, 0, 2016, 41.9854496, -87.771921176, 11, 11], dtype=object)"
      ]
     },
     "execution_count": 48,
     "metadata": {},
     "output_type": "execute_result"
    }
   ],
   "source": [
    "X[0]"
   ]
  },
  {
   "cell_type": "code",
   "execution_count": 49,
   "metadata": {
    "collapsed": true
   },
   "outputs": [],
   "source": [
    "onehotencoder = OneHotEncoder(categorical_features=[0,1 ,4,7,8])\n",
    "X= onehotencoder.fit_transform(X).toarray() "
   ]
  },
  {
   "cell_type": "code",
   "execution_count": 50,
   "metadata": {},
   "outputs": [
    {
     "data": {
      "text/plain": [
       "(433252, 498)"
      ]
     },
     "execution_count": 50,
     "metadata": {},
     "output_type": "execute_result"
    }
   ],
   "source": [
    "X.shape"
   ]
  },
  {
   "cell_type": "code",
   "execution_count": 51,
   "metadata": {
    "collapsed": true
   },
   "outputs": [],
   "source": [
    "lableencoder_y = LabelEncoder()\n",
    "y=lableencoder_y.fit_transform(y) "
   ]
  },
  {
   "cell_type": "markdown",
   "metadata": {},
   "source": [
    "####  _Splitting the dataset into the Training set and Test set_"
   ]
  },
  {
   "cell_type": "code",
   "execution_count": 52,
   "metadata": {},
   "outputs": [
    {
     "name": "stderr",
     "output_type": "stream",
     "text": [
      "/home/tanya/anaconda3/lib/python3.5/site-packages/sklearn/cross_validation.py:41: DeprecationWarning: This module was deprecated in version 0.18 in favor of the model_selection module into which all the refactored classes and functions are moved. Also note that the interface of the new CV iterators are different from that of this module. This module will be removed in 0.20.\n",
      "  \"This module will be removed in 0.20.\", DeprecationWarning)\n"
     ]
    }
   ],
   "source": [
    "from sklearn.cross_validation import train_test_split\n",
    "X_train, X_test, y_train, y_test = train_test_split(X, y, test_size = 0.2, random_state = 0)"
   ]
  },
  {
   "cell_type": "markdown",
   "metadata": {},
   "source": [
    "#### _feature scaling _"
   ]
  },
  {
   "cell_type": "code",
   "execution_count": 53,
   "metadata": {
    "collapsed": true
   },
   "outputs": [],
   "source": [
    "from sklearn.preprocessing import StandardScaler\n",
    "\n",
    "sc_X = StandardScaler()\n",
    "X_train = sc_X.fit_transform(X_train)\n",
    "X_test = sc_X.transform(X_test)"
   ]
  },
  {
   "cell_type": "code",
   "execution_count": 54,
   "metadata": {},
   "outputs": [
    {
     "data": {
      "text/plain": [
       "(346601, 498)"
      ]
     },
     "execution_count": 54,
     "metadata": {},
     "output_type": "execute_result"
    }
   ],
   "source": [
    "X_train.shape"
   ]
  },
  {
   "cell_type": "markdown",
   "metadata": {},
   "source": [
    "### fitting traning set to Naive Bayes Classification Model"
   ]
  },
  {
   "cell_type": "code",
   "execution_count": null,
   "metadata": {},
   "outputs": [
    {
     "data": {
      "text/plain": [
       "GaussianNB(priors=None)"
      ]
     },
     "execution_count": 55,
     "metadata": {},
     "output_type": "execute_result"
    }
   ],
   "source": [
    "from sklearn.naive_bayes import GaussianNB\n",
    "\n",
    "classifier = GaussianNB()\n",
    "classifier.fit(X_train, y_train)"
   ]
  },
  {
   "cell_type": "markdown",
   "metadata": {},
   "source": [
    "#### _predicting the test set_"
   ]
  },
  {
   "cell_type": "code",
   "execution_count": null,
   "metadata": {
    "collapsed": true
   },
   "outputs": [],
   "source": [
    "y_pred = classifier.predict(X_test)\n",
    "y_pred.size"
   ]
  },
  {
   "cell_type": "code",
   "execution_count": null,
   "metadata": {
    "collapsed": true
   },
   "outputs": [],
   "source": [
    "for i in range(0,20):\n",
    "    print(str(y_pred[i])+\" \"+str(y_test[i]))"
   ]
  },
  {
   "cell_type": "markdown",
   "metadata": {},
   "source": [
    "#### evaluating the result via confusion matrix"
   ]
  },
  {
   "cell_type": "code",
   "execution_count": null,
   "metadata": {
    "collapsed": true
   },
   "outputs": [],
   "source": [
    "from sklearn.metrics import confusion_matrix\n",
    "\n",
    "cm = confusion_matrix(y_test,y_pred)"
   ]
  },
  {
   "cell_type": "code",
   "execution_count": null,
   "metadata": {
    "collapsed": true
   },
   "outputs": [],
   "source": [
    "print('Accuracy of Naive Bayes classifier on test set: {:.2f}'.format(classifier.score(X_test, y_test)))"
   ]
  },
  {
   "cell_type": "code",
   "execution_count": null,
   "metadata": {
    "collapsed": true
   },
   "outputs": [],
   "source": []
  }
 ],
 "metadata": {
  "kernelspec": {
   "display_name": "Python 3",
   "language": "python",
   "name": "python3"
  },
  "language_info": {
   "codemirror_mode": {
    "name": "ipython",
    "version": 3
   },
   "file_extension": ".py",
   "mimetype": "text/x-python",
   "name": "python",
   "nbconvert_exporter": "python",
   "pygments_lexer": "ipython3",
   "version": "3.5.4"
  }
 },
 "nbformat": 4,
 "nbformat_minor": 2
}
