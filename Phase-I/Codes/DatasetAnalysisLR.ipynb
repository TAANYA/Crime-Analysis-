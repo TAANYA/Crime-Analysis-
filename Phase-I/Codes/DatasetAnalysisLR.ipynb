{
 "cells": [
  {
   "cell_type": "markdown",
   "metadata": {},
   "source": [
    "# DataSet Analysis "
   ]
  },
  {
   "cell_type": "markdown",
   "metadata": {},
   "source": [
    "#### Importing the dataset"
   ]
  },
  {
   "cell_type": "code",
   "execution_count": 1,
   "metadata": {
    "collapsed": true
   },
   "outputs": [],
   "source": [
    "import pandas as pd \n",
    "import random "
   ]
  },
  {
   "cell_type": "code",
   "execution_count": 2,
   "metadata": {
    "collapsed": true
   },
   "outputs": [],
   "source": [
    "#considering only first 2 Lakhs entry \n",
    "\"\"\"\n",
    "n = 7000000 #number of records in file\n",
    "s = 200000 #desired sample size\n",
    "skip = sorted(random.sample(range(n),n-s))\n",
    "\"\"\"\n",
    "data = pd.read_csv(\"/home/tanya/Major_Project/Datasets/Crimes_-_2001_to_present.csv\",nrows = 200000)"
   ]
  },
  {
   "cell_type": "markdown",
   "metadata": {},
   "source": [
    "#### _checking the available data_"
   ]
  },
  {
   "cell_type": "code",
   "execution_count": 3,
   "metadata": {},
   "outputs": [
    {
     "data": {
      "text/plain": [
       "(200000, 22)"
      ]
     },
     "execution_count": 3,
     "metadata": {},
     "output_type": "execute_result"
    }
   ],
   "source": [
    "data.shape"
   ]
  },
  {
   "cell_type": "markdown",
   "metadata": {},
   "source": [
    "#### _column values of the data available_"
   ]
  },
  {
   "cell_type": "code",
   "execution_count": 4,
   "metadata": {},
   "outputs": [
    {
     "data": {
      "text/plain": [
       "array(['ID', 'Case Number', 'Date', 'Block', 'IUCR', 'Primary Type',\n",
       "       'Description', 'Location Description', 'Arrest', 'Domestic', 'Beat',\n",
       "       'District', 'Ward', 'Community Area', 'FBI Code', 'X Coordinate',\n",
       "       'Y Coordinate', 'Year', 'Updated On', 'Latitude', 'Longitude',\n",
       "       'Location'], dtype=object)"
      ]
     },
     "execution_count": 4,
     "metadata": {},
     "output_type": "execute_result"
    }
   ],
   "source": [
    "data.columns.values "
   ]
  },
  {
   "cell_type": "code",
   "execution_count": 5,
   "metadata": {},
   "outputs": [
    {
     "data": {
      "text/html": [
       "<div>\n",
       "<style>\n",
       "    .dataframe thead tr:only-child th {\n",
       "        text-align: right;\n",
       "    }\n",
       "\n",
       "    .dataframe thead th {\n",
       "        text-align: left;\n",
       "    }\n",
       "\n",
       "    .dataframe tbody tr th {\n",
       "        vertical-align: top;\n",
       "    }\n",
       "</style>\n",
       "<table border=\"1\" class=\"dataframe\">\n",
       "  <thead>\n",
       "    <tr style=\"text-align: right;\">\n",
       "      <th></th>\n",
       "      <th>ID</th>\n",
       "      <th>Case Number</th>\n",
       "      <th>Date</th>\n",
       "      <th>Block</th>\n",
       "      <th>IUCR</th>\n",
       "      <th>Primary Type</th>\n",
       "      <th>Description</th>\n",
       "      <th>Location Description</th>\n",
       "      <th>Arrest</th>\n",
       "      <th>Domestic</th>\n",
       "      <th>...</th>\n",
       "      <th>Ward</th>\n",
       "      <th>Community Area</th>\n",
       "      <th>FBI Code</th>\n",
       "      <th>X Coordinate</th>\n",
       "      <th>Y Coordinate</th>\n",
       "      <th>Year</th>\n",
       "      <th>Updated On</th>\n",
       "      <th>Latitude</th>\n",
       "      <th>Longitude</th>\n",
       "      <th>Location</th>\n",
       "    </tr>\n",
       "  </thead>\n",
       "  <tbody>\n",
       "    <tr>\n",
       "      <th>0</th>\n",
       "      <td>10000092</td>\n",
       "      <td>HY189866</td>\n",
       "      <td>03/18/2015 07:44:00 PM</td>\n",
       "      <td>047XX W OHIO ST</td>\n",
       "      <td>041A</td>\n",
       "      <td>BATTERY</td>\n",
       "      <td>AGGRAVATED: HANDGUN</td>\n",
       "      <td>STREET</td>\n",
       "      <td>False</td>\n",
       "      <td>False</td>\n",
       "      <td>...</td>\n",
       "      <td>28.0</td>\n",
       "      <td>25.0</td>\n",
       "      <td>04B</td>\n",
       "      <td>1144606.0</td>\n",
       "      <td>1903566.0</td>\n",
       "      <td>2015</td>\n",
       "      <td>02/10/2018 03:50:01 PM</td>\n",
       "      <td>41.891399</td>\n",
       "      <td>-87.744385</td>\n",
       "      <td>(41.891398861, -87.744384567)</td>\n",
       "    </tr>\n",
       "    <tr>\n",
       "      <th>1</th>\n",
       "      <td>10000094</td>\n",
       "      <td>HY190059</td>\n",
       "      <td>03/18/2015 11:00:00 PM</td>\n",
       "      <td>066XX S MARSHFIELD AVE</td>\n",
       "      <td>4625</td>\n",
       "      <td>OTHER OFFENSE</td>\n",
       "      <td>PAROLE VIOLATION</td>\n",
       "      <td>STREET</td>\n",
       "      <td>True</td>\n",
       "      <td>False</td>\n",
       "      <td>...</td>\n",
       "      <td>15.0</td>\n",
       "      <td>67.0</td>\n",
       "      <td>26</td>\n",
       "      <td>1166468.0</td>\n",
       "      <td>1860715.0</td>\n",
       "      <td>2015</td>\n",
       "      <td>02/10/2018 03:50:01 PM</td>\n",
       "      <td>41.773372</td>\n",
       "      <td>-87.665319</td>\n",
       "      <td>(41.773371528, -87.665319468)</td>\n",
       "    </tr>\n",
       "    <tr>\n",
       "      <th>2</th>\n",
       "      <td>10000095</td>\n",
       "      <td>HY190052</td>\n",
       "      <td>03/18/2015 10:45:00 PM</td>\n",
       "      <td>044XX S LAKE PARK AVE</td>\n",
       "      <td>0486</td>\n",
       "      <td>BATTERY</td>\n",
       "      <td>DOMESTIC BATTERY SIMPLE</td>\n",
       "      <td>APARTMENT</td>\n",
       "      <td>False</td>\n",
       "      <td>True</td>\n",
       "      <td>...</td>\n",
       "      <td>4.0</td>\n",
       "      <td>39.0</td>\n",
       "      <td>08B</td>\n",
       "      <td>1185075.0</td>\n",
       "      <td>1875622.0</td>\n",
       "      <td>2015</td>\n",
       "      <td>02/10/2018 03:50:01 PM</td>\n",
       "      <td>41.813861</td>\n",
       "      <td>-87.596643</td>\n",
       "      <td>(41.81386068, -87.596642837)</td>\n",
       "    </tr>\n",
       "    <tr>\n",
       "      <th>3</th>\n",
       "      <td>10000096</td>\n",
       "      <td>HY190054</td>\n",
       "      <td>03/18/2015 10:30:00 PM</td>\n",
       "      <td>051XX S MICHIGAN AVE</td>\n",
       "      <td>0460</td>\n",
       "      <td>BATTERY</td>\n",
       "      <td>SIMPLE</td>\n",
       "      <td>APARTMENT</td>\n",
       "      <td>False</td>\n",
       "      <td>False</td>\n",
       "      <td>...</td>\n",
       "      <td>3.0</td>\n",
       "      <td>40.0</td>\n",
       "      <td>08B</td>\n",
       "      <td>1178033.0</td>\n",
       "      <td>1870804.0</td>\n",
       "      <td>2015</td>\n",
       "      <td>02/10/2018 03:50:01 PM</td>\n",
       "      <td>41.800802</td>\n",
       "      <td>-87.622619</td>\n",
       "      <td>(41.800802415, -87.622619343)</td>\n",
       "    </tr>\n",
       "    <tr>\n",
       "      <th>4</th>\n",
       "      <td>10000097</td>\n",
       "      <td>HY189976</td>\n",
       "      <td>03/18/2015 09:00:00 PM</td>\n",
       "      <td>047XX W ADAMS ST</td>\n",
       "      <td>031A</td>\n",
       "      <td>ROBBERY</td>\n",
       "      <td>ARMED: HANDGUN</td>\n",
       "      <td>SIDEWALK</td>\n",
       "      <td>False</td>\n",
       "      <td>False</td>\n",
       "      <td>...</td>\n",
       "      <td>28.0</td>\n",
       "      <td>25.0</td>\n",
       "      <td>03</td>\n",
       "      <td>1144920.0</td>\n",
       "      <td>1898709.0</td>\n",
       "      <td>2015</td>\n",
       "      <td>02/10/2018 03:50:01 PM</td>\n",
       "      <td>41.878065</td>\n",
       "      <td>-87.743354</td>\n",
       "      <td>(41.878064761, -87.743354013)</td>\n",
       "    </tr>\n",
       "  </tbody>\n",
       "</table>\n",
       "<p>5 rows × 22 columns</p>\n",
       "</div>"
      ],
      "text/plain": [
       "         ID Case Number                    Date                   Block  IUCR  \\\n",
       "0  10000092    HY189866  03/18/2015 07:44:00 PM         047XX W OHIO ST  041A   \n",
       "1  10000094    HY190059  03/18/2015 11:00:00 PM  066XX S MARSHFIELD AVE  4625   \n",
       "2  10000095    HY190052  03/18/2015 10:45:00 PM   044XX S LAKE PARK AVE  0486   \n",
       "3  10000096    HY190054  03/18/2015 10:30:00 PM    051XX S MICHIGAN AVE  0460   \n",
       "4  10000097    HY189976  03/18/2015 09:00:00 PM        047XX W ADAMS ST  031A   \n",
       "\n",
       "    Primary Type              Description Location Description  Arrest  \\\n",
       "0        BATTERY      AGGRAVATED: HANDGUN               STREET   False   \n",
       "1  OTHER OFFENSE         PAROLE VIOLATION               STREET    True   \n",
       "2        BATTERY  DOMESTIC BATTERY SIMPLE            APARTMENT   False   \n",
       "3        BATTERY                   SIMPLE            APARTMENT   False   \n",
       "4        ROBBERY           ARMED: HANDGUN             SIDEWALK   False   \n",
       "\n",
       "   Domestic              ...                Ward  Community Area  FBI Code  \\\n",
       "0     False              ...                28.0            25.0       04B   \n",
       "1     False              ...                15.0            67.0        26   \n",
       "2      True              ...                 4.0            39.0       08B   \n",
       "3     False              ...                 3.0            40.0       08B   \n",
       "4     False              ...                28.0            25.0        03   \n",
       "\n",
       "   X Coordinate Y Coordinate  Year              Updated On   Latitude  \\\n",
       "0     1144606.0    1903566.0  2015  02/10/2018 03:50:01 PM  41.891399   \n",
       "1     1166468.0    1860715.0  2015  02/10/2018 03:50:01 PM  41.773372   \n",
       "2     1185075.0    1875622.0  2015  02/10/2018 03:50:01 PM  41.813861   \n",
       "3     1178033.0    1870804.0  2015  02/10/2018 03:50:01 PM  41.800802   \n",
       "4     1144920.0    1898709.0  2015  02/10/2018 03:50:01 PM  41.878065   \n",
       "\n",
       "   Longitude                       Location  \n",
       "0 -87.744385  (41.891398861, -87.744384567)  \n",
       "1 -87.665319  (41.773371528, -87.665319468)  \n",
       "2 -87.596643   (41.81386068, -87.596642837)  \n",
       "3 -87.622619  (41.800802415, -87.622619343)  \n",
       "4 -87.743354  (41.878064761, -87.743354013)  \n",
       "\n",
       "[5 rows x 22 columns]"
      ]
     },
     "execution_count": 5,
     "metadata": {},
     "output_type": "execute_result"
    }
   ],
   "source": [
    "data.head(5)"
   ]
  },
  {
   "cell_type": "code",
   "execution_count": 6,
   "metadata": {},
   "outputs": [
    {
     "name": "stdout",
     "output_type": "stream",
     "text": [
      "No of columns in data dataset: 22\n"
     ]
    }
   ],
   "source": [
    "print(\"No of columns in data dataset: \"+str(len(data.columns.values)))"
   ]
  },
  {
   "cell_type": "markdown",
   "metadata": {},
   "source": [
    "## Visualising the dataset "
   ]
  },
  {
   "cell_type": "markdown",
   "metadata": {},
   "source": [
    "### importing the required libraries "
   ]
  },
  {
   "cell_type": "code",
   "execution_count": 7,
   "metadata": {
    "collapsed": true
   },
   "outputs": [],
   "source": [
    "import matplotlib.pyplot as plt\n",
    "import seaborn as sns\n",
    "%matplotlib inline "
   ]
  },
  {
   "cell_type": "markdown",
   "metadata": {},
   "source": [
    "#### _getting the columns as a list _"
   ]
  },
  {
   "cell_type": "code",
   "execution_count": 8,
   "metadata": {},
   "outputs": [
    {
     "name": "stdout",
     "output_type": "stream",
     "text": [
      "['ID', 'Case Number', 'Date', 'Block', 'IUCR', 'Primary Type', 'Description', 'Location Description', 'Arrest', 'Domestic', 'Beat', 'District', 'Ward', 'Community Area', 'FBI Code', 'X Coordinate', 'Y Coordinate', 'Year', 'Updated On', 'Latitude', 'Longitude', 'Location']\n"
     ]
    }
   ],
   "source": [
    "columns = data.columns.get_values().tolist()\n",
    "print(columns)"
   ]
  },
  {
   "cell_type": "markdown",
   "metadata": {},
   "source": [
    "## Primary Type \n",
    "### _The primary description of the criminal offense._"
   ]
  },
  {
   "cell_type": "code",
   "execution_count": 9,
   "metadata": {},
   "outputs": [
    {
     "data": {
      "text/plain": [
       "[<matplotlib.text.Text at 0x7f2b236ab128>,\n",
       " <matplotlib.text.Text at 0x7f2b26a190b8>,\n",
       " <matplotlib.text.Text at 0x7f2b236595c0>,\n",
       " <matplotlib.text.Text at 0x7f2b23659f98>,\n",
       " <matplotlib.text.Text at 0x7f2b235e29b0>,\n",
       " <matplotlib.text.Text at 0x7f2b235e73c8>,\n",
       " <matplotlib.text.Text at 0x7f2b235e7da0>,\n",
       " <matplotlib.text.Text at 0x7f2b235ed7b8>,\n",
       " <matplotlib.text.Text at 0x7f2b235f11d0>,\n",
       " <matplotlib.text.Text at 0x7f2b235f1ba8>,\n",
       " <matplotlib.text.Text at 0x7f2b235f85c0>,\n",
       " <matplotlib.text.Text at 0x7f2b235f8f98>,\n",
       " <matplotlib.text.Text at 0x7f2b235fd9b0>,\n",
       " <matplotlib.text.Text at 0x7f2b236023c8>,\n",
       " <matplotlib.text.Text at 0x7f2b23602da0>,\n",
       " <matplotlib.text.Text at 0x7f2b236087b8>,\n",
       " <matplotlib.text.Text at 0x7f2b2360a1d0>,\n",
       " <matplotlib.text.Text at 0x7f2b2360aba8>,\n",
       " <matplotlib.text.Text at 0x7f2b236105c0>,\n",
       " <matplotlib.text.Text at 0x7f2b23610f98>,\n",
       " <matplotlib.text.Text at 0x7f2b236159b0>,\n",
       " <matplotlib.text.Text at 0x7f2b2361a3c8>,\n",
       " <matplotlib.text.Text at 0x7f2b2361ada0>,\n",
       " <matplotlib.text.Text at 0x7f2b236207b8>,\n",
       " <matplotlib.text.Text at 0x7f2b235a31d0>,\n",
       " <matplotlib.text.Text at 0x7f2b235a3ba8>,\n",
       " <matplotlib.text.Text at 0x7f2b235a95c0>,\n",
       " <matplotlib.text.Text at 0x7f2b235a9f98>,\n",
       " <matplotlib.text.Text at 0x7f2b235ad9b0>,\n",
       " <matplotlib.text.Text at 0x7f2b235b13c8>,\n",
       " <matplotlib.text.Text at 0x7f2b235b1da0>,\n",
       " <matplotlib.text.Text at 0x7f2b235ba7b8>,\n",
       " <matplotlib.text.Text at 0x7f2b235bd1d0>]"
      ]
     },
     "execution_count": 9,
     "metadata": {},
     "output_type": "execute_result"
    },
    {
     "data": {
      "image/png": "[encoded data removed]",
      "text/plain": [
       "<matplotlib.figure.Figure at 0x7f2b5c389470>"
      ]
     },
     "metadata": {},
     "output_type": "display_data"
    }
   ],
   "source": [
    "plot = sns.countplot(x=columns[5], data=data)\n",
    "locs, labels = plt.xticks()\n",
    "plot.set_xticklabels(labels ,rotation=90)"
   ]
  },
  {
   "cell_type": "markdown",
   "metadata": {
    "collapsed": true
   },
   "source": [
    "## Arrest \n",
    "### _Indicates whether an arrest was made or not._"
   ]
  },
  {
   "cell_type": "code",
   "execution_count": 10,
   "metadata": {},
   "outputs": [
    {
     "data": {
      "image/png": "[encoded data removed]",
      "text/plain": [
       "<matplotlib.figure.Figure at 0x7f2b35408668>"
      ]
     },
     "metadata": {},
     "output_type": "display_data"
    }
   ],
   "source": [
    "plot = sns.countplot(x=columns[8], data=data)"
   ]
  },
  {
   "cell_type": "markdown",
   "metadata": {},
   "source": [
    "## District \n",
    "### _Indicates the police district where the incident occurred._"
   ]
  },
  {
   "cell_type": "code",
   "execution_count": 11,
   "metadata": {},
   "outputs": [
    {
     "data": {
      "text/plain": [
       "[<matplotlib.text.Text at 0x7f2b234fde48>,\n",
       " <matplotlib.text.Text at 0x7f2b23500668>,\n",
       " <matplotlib.text.Text at 0x7f2b23659278>,\n",
       " <matplotlib.text.Text at 0x7f2b23478be0>,\n",
       " <matplotlib.text.Text at 0x7f2b234815f8>,\n",
       " <matplotlib.text.Text at 0x7f2b23481fd0>,\n",
       " <matplotlib.text.Text at 0x7f2b234859e8>,\n",
       " <matplotlib.text.Text at 0x7f2b2348a400>,\n",
       " <matplotlib.text.Text at 0x7f2b2348add8>,\n",
       " <matplotlib.text.Text at 0x7f2b234907f0>,\n",
       " <matplotlib.text.Text at 0x7f2b23495208>,\n",
       " <matplotlib.text.Text at 0x7f2b23495be0>,\n",
       " <matplotlib.text.Text at 0x7f2b2349b5f8>,\n",
       " <matplotlib.text.Text at 0x7f2b2349bfd0>,\n",
       " <matplotlib.text.Text at 0x7f2b234a09e8>,\n",
       " <matplotlib.text.Text at 0x7f2b23425400>,\n",
       " <matplotlib.text.Text at 0x7f2b23425dd8>,\n",
       " <matplotlib.text.Text at 0x7f2b234297f0>,\n",
       " <matplotlib.text.Text at 0x7f2b2342e208>,\n",
       " <matplotlib.text.Text at 0x7f2b2342ebe0>,\n",
       " <matplotlib.text.Text at 0x7f2b234325f8>,\n",
       " <matplotlib.text.Text at 0x7f2b23432fd0>,\n",
       " <matplotlib.text.Text at 0x7f2b234389e8>]"
      ]
     },
     "execution_count": 11,
     "metadata": {},
     "output_type": "execute_result"
    },
    {
     "data": {
      "image/png": "[encoded data removed]",
      "text/plain": [
       "<matplotlib.figure.Figure at 0x7f2b354086a0>"
      ]
     },
     "metadata": {},
     "output_type": "display_data"
    }
   ],
   "source": [
    "plot = sns.countplot(x=columns[11], data=data)\n",
    "locs, labels = plt.xticks()\n",
    "plot.set_xticklabels(labels ,rotation=90)"
   ]
  },
  {
   "cell_type": "markdown",
   "metadata": {},
   "source": [
    "## Domestic \n",
    "### _Indicates whether the incident was domestic-related as defined by the Domestic Violence Act._"
   ]
  },
  {
   "cell_type": "code",
   "execution_count": 12,
   "metadata": {},
   "outputs": [
    {
     "data": {
      "image/png": "[encoded data removed]",
      "text/plain": [
       "<matplotlib.figure.Figure at 0x7f2b334d15c0>"
      ]
     },
     "metadata": {},
     "output_type": "display_data"
    }
   ],
   "source": [
    "plot = sns.countplot(x=columns[9], data=data)"
   ]
  },
  {
   "cell_type": "markdown",
   "metadata": {},
   "source": [
    "## Location Description \n",
    "### _Description of the location where the incident occured._"
   ]
  },
  {
   "cell_type": "code",
   "execution_count": 13,
   "metadata": {},
   "outputs": [
    {
     "data": {
      "text/plain": [
       "[<matplotlib.text.Text at 0x7f2b236020f0>,\n",
       " <matplotlib.text.Text at 0x7f2b23558a20>,\n",
       " <matplotlib.text.Text at 0x7f2b232604a8>,\n",
       " <matplotlib.text.Text at 0x7f2b23260e80>,\n",
       " <matplotlib.text.Text at 0x7f2b231e4898>,\n",
       " <matplotlib.text.Text at 0x7f2b231ea2b0>,\n",
       " <matplotlib.text.Text at 0x7f2b231eac88>,\n",
       " <matplotlib.text.Text at 0x7f2b231ee6a0>,\n",
       " <matplotlib.text.Text at 0x7f2b231f20b8>,\n",
       " <matplotlib.text.Text at 0x7f2b231f2a90>,\n",
       " <matplotlib.text.Text at 0x7f2b231f94a8>,\n",
       " <matplotlib.text.Text at 0x7f2b231f9e80>,\n",
       " <matplotlib.text.Text at 0x7f2b231fd898>,\n",
       " <matplotlib.text.Text at 0x7f2b232022b0>,\n",
       " <matplotlib.text.Text at 0x7f2b23202c88>,\n",
       " <matplotlib.text.Text at 0x7f2b232066a0>,\n",
       " <matplotlib.text.Text at 0x7f2b2320a0b8>,\n",
       " <matplotlib.text.Text at 0x7f2b2320aa90>,\n",
       " <matplotlib.text.Text at 0x7f2b232114a8>,\n",
       " <matplotlib.text.Text at 0x7f2b23211e80>,\n",
       " <matplotlib.text.Text at 0x7f2b23214898>,\n",
       " <matplotlib.text.Text at 0x7f2b2321b2b0>,\n",
       " <matplotlib.text.Text at 0x7f2b2321bc88>,\n",
       " <matplotlib.text.Text at 0x7f2b2321e6a0>,\n",
       " <matplotlib.text.Text at 0x7f2b231a30b8>,\n",
       " <matplotlib.text.Text at 0x7f2b231a3a90>,\n",
       " <matplotlib.text.Text at 0x7f2b231ab4a8>,\n",
       " <matplotlib.text.Text at 0x7f2b231abe80>,\n",
       " <matplotlib.text.Text at 0x7f2b231ae898>,\n",
       " <matplotlib.text.Text at 0x7f2b231b52b0>,\n",
       " <matplotlib.text.Text at 0x7f2b231b5c88>,\n",
       " <matplotlib.text.Text at 0x7f2b231ba6a0>,\n",
       " <matplotlib.text.Text at 0x7f2b231bd0b8>,\n",
       " <matplotlib.text.Text at 0x7f2b231bda90>,\n",
       " <matplotlib.text.Text at 0x7f2b231c44a8>,\n",
       " <matplotlib.text.Text at 0x7f2b231c4e80>,\n",
       " <matplotlib.text.Text at 0x7f2b231c8898>,\n",
       " <matplotlib.text.Text at 0x7f2b231cd2b0>,\n",
       " <matplotlib.text.Text at 0x7f2b231cdc88>,\n",
       " <matplotlib.text.Text at 0x7f2b231d36a0>,\n",
       " <matplotlib.text.Text at 0x7f2b231d70b8>,\n",
       " <matplotlib.text.Text at 0x7f2b231d7a90>,\n",
       " <matplotlib.text.Text at 0x7f2b231dc4a8>,\n",
       " <matplotlib.text.Text at 0x7f2b231dce80>,\n",
       " <matplotlib.text.Text at 0x7f2b231e0898>,\n",
       " <matplotlib.text.Text at 0x7f2b231642b0>,\n",
       " <matplotlib.text.Text at 0x7f2b23164c88>,\n",
       " <matplotlib.text.Text at 0x7f2b2316a6a0>,\n",
       " <matplotlib.text.Text at 0x7f2b231710b8>,\n",
       " <matplotlib.text.Text at 0x7f2b23171a90>,\n",
       " <matplotlib.text.Text at 0x7f2b231764a8>,\n",
       " <matplotlib.text.Text at 0x7f2b23176e80>,\n",
       " <matplotlib.text.Text at 0x7f2b2317a898>,\n",
       " <matplotlib.text.Text at 0x7f2b2317e2b0>,\n",
       " <matplotlib.text.Text at 0x7f2b2317ec88>,\n",
       " <matplotlib.text.Text at 0x7f2b231846a0>,\n",
       " <matplotlib.text.Text at 0x7f2b2318a0b8>,\n",
       " <matplotlib.text.Text at 0x7f2b2318aa90>,\n",
       " <matplotlib.text.Text at 0x7f2b2318e4a8>,\n",
       " <matplotlib.text.Text at 0x7f2b2318ee80>,\n",
       " <matplotlib.text.Text at 0x7f2b23194898>,\n",
       " <matplotlib.text.Text at 0x7f2b231982b0>,\n",
       " <matplotlib.text.Text at 0x7f2b23198c88>,\n",
       " <matplotlib.text.Text at 0x7f2b2319d6a0>,\n",
       " <matplotlib.text.Text at 0x7f2b231230b8>,\n",
       " <matplotlib.text.Text at 0x7f2b23123a90>,\n",
       " <matplotlib.text.Text at 0x7f2b231264a8>,\n",
       " <matplotlib.text.Text at 0x7f2b23126e80>,\n",
       " <matplotlib.text.Text at 0x7f2b2312e898>,\n",
       " <matplotlib.text.Text at 0x7f2b231322b0>,\n",
       " <matplotlib.text.Text at 0x7f2b23132c88>,\n",
       " <matplotlib.text.Text at 0x7f2b231376a0>,\n",
       " <matplotlib.text.Text at 0x7f2b2313c0b8>,\n",
       " <matplotlib.text.Text at 0x7f2b2313ca90>,\n",
       " <matplotlib.text.Text at 0x7f2b2313f4a8>,\n",
       " <matplotlib.text.Text at 0x7f2b2313fe80>,\n",
       " <matplotlib.text.Text at 0x7f2b23146898>,\n",
       " <matplotlib.text.Text at 0x7f2b2314a2b0>,\n",
       " <matplotlib.text.Text at 0x7f2b2314ac88>,\n",
       " <matplotlib.text.Text at 0x7f2b2314f6a0>,\n",
       " <matplotlib.text.Text at 0x7f2b231550b8>,\n",
       " <matplotlib.text.Text at 0x7f2b23155a90>,\n",
       " <matplotlib.text.Text at 0x7f2b231594a8>,\n",
       " <matplotlib.text.Text at 0x7f2b23159e80>,\n",
       " <matplotlib.text.Text at 0x7f2b2315e898>,\n",
       " <matplotlib.text.Text at 0x7f2b230e42b0>,\n",
       " <matplotlib.text.Text at 0x7f2b230e4c88>,\n",
       " <matplotlib.text.Text at 0x7f2b230e96a0>,\n",
       " <matplotlib.text.Text at 0x7f2b230ef0b8>,\n",
       " <matplotlib.text.Text at 0x7f2b230efa90>,\n",
       " <matplotlib.text.Text at 0x7f2b230f34a8>,\n",
       " <matplotlib.text.Text at 0x7f2b230f3e80>,\n",
       " <matplotlib.text.Text at 0x7f2b230f8898>,\n",
       " <matplotlib.text.Text at 0x7f2b230fc2b0>,\n",
       " <matplotlib.text.Text at 0x7f2b230fcc88>,\n",
       " <matplotlib.text.Text at 0x7f2b231026a0>,\n",
       " <matplotlib.text.Text at 0x7f2b231080b8>,\n",
       " <matplotlib.text.Text at 0x7f2b23108a90>,\n",
       " <matplotlib.text.Text at 0x7f2b2310d4a8>,\n",
       " <matplotlib.text.Text at 0x7f2b2310de80>,\n",
       " <matplotlib.text.Text at 0x7f2b23111898>,\n",
       " <matplotlib.text.Text at 0x7f2b231152b0>,\n",
       " <matplotlib.text.Text at 0x7f2b23115c88>,\n",
       " <matplotlib.text.Text at 0x7f2b2311c6a0>,\n",
       " <matplotlib.text.Text at 0x7f2b231210b8>,\n",
       " <matplotlib.text.Text at 0x7f2b23121a90>,\n",
       " <matplotlib.text.Text at 0x7f2b230a64a8>,\n",
       " <matplotlib.text.Text at 0x7f2b230a6e80>,\n",
       " <matplotlib.text.Text at 0x7f2b230aa898>,\n",
       " <matplotlib.text.Text at 0x7f2b230af2b0>,\n",
       " <matplotlib.text.Text at 0x7f2b230afc88>,\n",
       " <matplotlib.text.Text at 0x7f2b230b66a0>,\n",
       " <matplotlib.text.Text at 0x7f2b230b90b8>,\n",
       " <matplotlib.text.Text at 0x7f2b230b9a90>,\n",
       " <matplotlib.text.Text at 0x7f2b230bf4a8>,\n",
       " <matplotlib.text.Text at 0x7f2b230bfe80>,\n",
       " <matplotlib.text.Text at 0x7f2b230c3898>,\n",
       " <matplotlib.text.Text at 0x7f2b230c82b0>,\n",
       " <matplotlib.text.Text at 0x7f2b230c8c88>,\n",
       " <matplotlib.text.Text at 0x7f2b230cd6a0>]"
      ]
     },
     "execution_count": 13,
     "metadata": {},
     "output_type": "execute_result"
    },
    {
     "data": {
      "image/png": "[encoded data removed]",
      "text/plain": [
       "<matplotlib.figure.Figure at 0x7f2b2346b6d8>"
      ]
     },
     "metadata": {},
     "output_type": "display_data"
    }
   ],
   "source": [
    "plot = sns.countplot(x=columns[7], data=data)\n",
    "locs, labels = plt.xticks()\n",
    "plot.set_xticklabels(labels ,rotation=90)"
   ]
  },
  {
   "cell_type": "markdown",
   "metadata": {},
   "source": [
    "### _splitting date into three columns  of month , day & year_"
   ]
  },
  {
   "cell_type": "code",
   "execution_count": 14,
   "metadata": {
    "collapsed": true
   },
   "outputs": [],
   "source": [
    "# initialising an empty list \n",
    "month = []\n",
    "day = []\n",
    "year = []"
   ]
  },
  {
   "cell_type": "code",
   "execution_count": 15,
   "metadata": {
    "collapsed": true
   },
   "outputs": [],
   "source": [
    "# iterating over the date column to split up the date and store in the list\n",
    "for i in range(0 , len(data)):\n",
    "    month.append(int(data['Date'][i].split(\" \")[0].split(\"/\")[0]))\n",
    "    day.append(int(data['Date'][i].split(\" \")[0].split(\"/\")[1]))\n",
    "    year.append(int(data['Date'][i].split(\" \")[0].split(\"/\")[2]))"
   ]
  },
  {
   "cell_type": "markdown",
   "metadata": {},
   "source": [
    "#### _merging the obtained list of day , month & year into the dataset_"
   ]
  },
  {
   "cell_type": "code",
   "execution_count": 16,
   "metadata": {
    "collapsed": true
   },
   "outputs": [],
   "source": [
    "data = pd.concat([data,pd.DataFrame({'Month':month ,'Day':day , 'CrimeYear' : year})]  , axis=1)"
   ]
  },
  {
   "cell_type": "code",
   "execution_count": 17,
   "metadata": {},
   "outputs": [
    {
     "data": {
      "text/plain": [
       "(200000, 25)"
      ]
     },
     "execution_count": 17,
     "metadata": {},
     "output_type": "execute_result"
    }
   ],
   "source": [
    "data.shape "
   ]
  },
  {
   "cell_type": "code",
   "execution_count": 18,
   "metadata": {},
   "outputs": [
    {
     "data": {
      "text/plain": [
       "array(['ID', 'Case Number', 'Date', 'Block', 'IUCR', 'Primary Type',\n",
       "       'Description', 'Location Description', 'Arrest', 'Domestic', 'Beat',\n",
       "       'District', 'Ward', 'Community Area', 'FBI Code', 'X Coordinate',\n",
       "       'Y Coordinate', 'Year', 'Updated On', 'Latitude', 'Longitude',\n",
       "       'Location', 'CrimeYear', 'Day', 'Month'], dtype=object)"
      ]
     },
     "execution_count": 18,
     "metadata": {},
     "output_type": "execute_result"
    }
   ],
   "source": [
    "data.columns.values"
   ]
  },
  {
   "cell_type": "code",
   "execution_count": 19,
   "metadata": {},
   "outputs": [
    {
     "data": {
      "text/plain": [
       "['ID',\n",
       " 'Case Number',\n",
       " 'Date',\n",
       " 'Block',\n",
       " 'IUCR',\n",
       " 'Primary Type',\n",
       " 'Description',\n",
       " 'Location Description',\n",
       " 'Arrest',\n",
       " 'Domestic',\n",
       " 'Beat',\n",
       " 'District',\n",
       " 'Ward',\n",
       " 'Community Area',\n",
       " 'FBI Code',\n",
       " 'X Coordinate',\n",
       " 'Y Coordinate',\n",
       " 'Year',\n",
       " 'Updated On',\n",
       " 'Latitude',\n",
       " 'Longitude',\n",
       " 'Location',\n",
       " 'CrimeYear',\n",
       " 'Day',\n",
       " 'Month']"
      ]
     },
     "execution_count": 19,
     "metadata": {},
     "output_type": "execute_result"
    }
   ],
   "source": [
    "columns = data.columns.get_values().tolist()\n",
    "columns "
   ]
  },
  {
   "cell_type": "markdown",
   "metadata": {},
   "source": [
    "## Year \n",
    "### _Year wise crime occurings recorded._"
   ]
  },
  {
   "cell_type": "code",
   "execution_count": 20,
   "metadata": {},
   "outputs": [
    {
     "data": {
      "text/plain": [
       "[<matplotlib.text.Text at 0x7f2b2309f208>,\n",
       " <matplotlib.text.Text at 0x7f2b23097f60>,\n",
       " <matplotlib.text.Text at 0x7f2b211ad908>,\n",
       " <matplotlib.text.Text at 0x7f2b211b3320>,\n",
       " <matplotlib.text.Text at 0x7f2b211b3cf8>,\n",
       " <matplotlib.text.Text at 0x7f2b211b9710>,\n",
       " <matplotlib.text.Text at 0x7f2b211bd128>,\n",
       " <matplotlib.text.Text at 0x7f2b211bdb00>,\n",
       " <matplotlib.text.Text at 0x7f2b23025400>,\n",
       " <matplotlib.text.Text at 0x7f2b23097d68>,\n",
       " <matplotlib.text.Text at 0x7f2b23287b38>,\n",
       " <matplotlib.text.Text at 0x7f2b211c1550>,\n",
       " <matplotlib.text.Text at 0x7f2b211c1d68>,\n",
       " <matplotlib.text.Text at 0x7f2b211c6710>,\n",
       " <matplotlib.text.Text at 0x7f2b211ca128>,\n",
       " <matplotlib.text.Text at 0x7f2b211cab00>]"
      ]
     },
     "execution_count": 20,
     "metadata": {},
     "output_type": "execute_result"
    },
    {
     "data": {
      "image/png": "[encoded data removed]",
      "text/plain": [
       "<matplotlib.figure.Figure at 0x7f2b231089b0>"
      ]
     },
     "metadata": {},
     "output_type": "display_data"
    }
   ],
   "source": [
    "plot = sns.countplot(x=columns[22], data=data)\n",
    "locs, labels = plt.xticks()\n",
    "plot.set_xticklabels(labels ,rotation=90)"
   ]
  },
  {
   "cell_type": "markdown",
   "metadata": {},
   "source": [
    "## Month \n",
    "### _Month wise crime occurings recorded._"
   ]
  },
  {
   "cell_type": "code",
   "execution_count": 21,
   "metadata": {},
   "outputs": [
    {
     "data": {
      "text/plain": [
       "[<matplotlib.text.Text at 0x7f2b232d1e80>,\n",
       " <matplotlib.text.Text at 0x7f2b2118b160>,\n",
       " <matplotlib.text.Text at 0x7f2b210e40f0>,\n",
       " <matplotlib.text.Text at 0x7f2b210e4ac8>,\n",
       " <matplotlib.text.Text at 0x7f2b210e84e0>,\n",
       " <matplotlib.text.Text at 0x7f2b210e8eb8>,\n",
       " <matplotlib.text.Text at 0x7f2b210ed8d0>,\n",
       " <matplotlib.text.Text at 0x7f2b210f12e8>,\n",
       " <matplotlib.text.Text at 0x7f2b210f1cc0>,\n",
       " <matplotlib.text.Text at 0x7f2b210f66d8>,\n",
       " <matplotlib.text.Text at 0x7f2b210fc0f0>,\n",
       " <matplotlib.text.Text at 0x7f2b210fcac8>]"
      ]
     },
     "execution_count": 21,
     "metadata": {},
     "output_type": "execute_result"
    },
    {
     "data": {
      "image/png": "[encoded data removed]",
      "text/plain": [
       "<matplotlib.figure.Figure at 0x7f2b23620a58>"
      ]
     },
     "metadata": {},
     "output_type": "display_data"
    }
   ],
   "source": [
    "plot = sns.countplot(x=columns[24], data=data)\n",
    "locs, labels = plt.xticks()\n",
    "plot.set_xticklabels(labels ,rotation=90)"
   ]
  },
  {
   "cell_type": "markdown",
   "metadata": {},
   "source": [
    "## Day \n",
    "### _Day wise crime occurings recorded._"
   ]
  },
  {
   "cell_type": "code",
   "execution_count": 22,
   "metadata": {},
   "outputs": [
    {
     "data": {
      "text/plain": [
       "[<matplotlib.text.Text at 0x7f2b211b9c18>,\n",
       " <matplotlib.text.Text at 0x7f2b2315e240>,\n",
       " <matplotlib.text.Text at 0x7f2b233f44e0>,\n",
       " <matplotlib.text.Text at 0x7f2b23425c88>,\n",
       " <matplotlib.text.Text at 0x7f2b23481c50>,\n",
       " <matplotlib.text.Text at 0x7f2b23478a20>,\n",
       " <matplotlib.text.Text at 0x7f2b2358ff98>,\n",
       " <matplotlib.text.Text at 0x7f2b23490630>,\n",
       " <matplotlib.text.Text at 0x7f2b233ec438>,\n",
       " <matplotlib.text.Text at 0x7f2b233ecb00>,\n",
       " <matplotlib.text.Text at 0x7f2b233e5e48>,\n",
       " <matplotlib.text.Text at 0x7f2b2340d588>,\n",
       " <matplotlib.text.Text at 0x7f2b233b5c50>,\n",
       " <matplotlib.text.Text at 0x7f2b233a8c88>,\n",
       " <matplotlib.text.Text at 0x7f2b2357ca20>,\n",
       " <matplotlib.text.Text at 0x7f2b234157b8>,\n",
       " <matplotlib.text.Text at 0x7f2b233f0eb8>,\n",
       " <matplotlib.text.Text at 0x7f2b233f06d8>,\n",
       " <matplotlib.text.Text at 0x7f2b26c50da0>,\n",
       " <matplotlib.text.Text at 0x7f2b2110d550>,\n",
       " <matplotlib.text.Text at 0x7f2b2110df28>,\n",
       " <matplotlib.text.Text at 0x7f2b2111e940>,\n",
       " <matplotlib.text.Text at 0x7f2b210a1358>,\n",
       " <matplotlib.text.Text at 0x7f2b210a1d30>,\n",
       " <matplotlib.text.Text at 0x7f2b210a7748>,\n",
       " <matplotlib.text.Text at 0x7f2b210ad160>,\n",
       " <matplotlib.text.Text at 0x7f2b210adb38>,\n",
       " <matplotlib.text.Text at 0x7f2b210b1550>,\n",
       " <matplotlib.text.Text at 0x7f2b210b1f28>,\n",
       " <matplotlib.text.Text at 0x7f2b210b6940>,\n",
       " <matplotlib.text.Text at 0x7f2b210bc358>]"
      ]
     },
     "execution_count": 22,
     "metadata": {},
     "output_type": "execute_result"
    },
    {
     "data": {
      "image/png": "[encoded data removed]",
      "text/plain": [
       "<matplotlib.figure.Figure at 0x7f2b2331e2e8>"
      ]
     },
     "metadata": {},
     "output_type": "display_data"
    }
   ],
   "source": [
    "plot = sns.countplot(x=columns[23], data=data)\n",
    "locs, labels = plt.xticks()\n",
    "plot.set_xticklabels(labels ,rotation=90)"
   ]
  },
  {
   "cell_type": "markdown",
   "metadata": {},
   "source": [
    "# Preprocessing of the dataset"
   ]
  },
  {
   "cell_type": "markdown",
   "metadata": {},
   "source": [
    "### _removing unnessecary columns from the data set _"
   ]
  },
  {
   "cell_type": "code",
   "execution_count": 23,
   "metadata": {
    "collapsed": true
   },
   "outputs": [],
   "source": [
    "data.drop(['ID' ,'Case Number' ,'IUCR' ,'FBI Code' ,'X Coordinate', \n",
    "           'Y Coordinate' ,'Updated On' ,'Location', 'Beat' , 'Community Area' \n",
    "           ,'District' ,'Ward','Block' ] ,axis=1 ,inplace =True)"
   ]
  },
  {
   "cell_type": "markdown",
   "metadata": {},
   "source": [
    "#### _removing the unnecesssary date entries_"
   ]
  },
  {
   "cell_type": "code",
   "execution_count": 24,
   "metadata": {
    "collapsed": true
   },
   "outputs": [],
   "source": [
    "data.drop(['Date','CrimeYear'] ,axis = 1 ,inplace =True)"
   ]
  },
  {
   "cell_type": "code",
   "execution_count": 25,
   "metadata": {},
   "outputs": [
    {
     "data": {
      "text/plain": [
       "array(['Primary Type', 'Description', 'Location Description', 'Arrest',\n",
       "       'Domestic', 'Year', 'Latitude', 'Longitude', 'Day', 'Month'], dtype=object)"
      ]
     },
     "execution_count": 25,
     "metadata": {},
     "output_type": "execute_result"
    }
   ],
   "source": [
    "data.columns.values"
   ]
  },
  {
   "cell_type": "code",
   "execution_count": 26,
   "metadata": {},
   "outputs": [
    {
     "data": {
      "text/plain": [
       "(200000, 10)"
      ]
     },
     "execution_count": 26,
     "metadata": {},
     "output_type": "execute_result"
    }
   ],
   "source": [
    "data.shape"
   ]
  },
  {
   "cell_type": "code",
   "execution_count": 27,
   "metadata": {},
   "outputs": [
    {
     "data": {
      "text/html": [
       "<div>\n",
       "<style>\n",
       "    .dataframe thead tr:only-child th {\n",
       "        text-align: right;\n",
       "    }\n",
       "\n",
       "    .dataframe thead th {\n",
       "        text-align: left;\n",
       "    }\n",
       "\n",
       "    .dataframe tbody tr th {\n",
       "        vertical-align: top;\n",
       "    }\n",
       "</style>\n",
       "<table border=\"1\" class=\"dataframe\">\n",
       "  <thead>\n",
       "    <tr style=\"text-align: right;\">\n",
       "      <th></th>\n",
       "      <th>Primary Type</th>\n",
       "      <th>Description</th>\n",
       "      <th>Location Description</th>\n",
       "      <th>Arrest</th>\n",
       "      <th>Domestic</th>\n",
       "      <th>Year</th>\n",
       "      <th>Latitude</th>\n",
       "      <th>Longitude</th>\n",
       "      <th>Day</th>\n",
       "      <th>Month</th>\n",
       "    </tr>\n",
       "  </thead>\n",
       "  <tbody>\n",
       "    <tr>\n",
       "      <th>0</th>\n",
       "      <td>BATTERY</td>\n",
       "      <td>AGGRAVATED: HANDGUN</td>\n",
       "      <td>STREET</td>\n",
       "      <td>False</td>\n",
       "      <td>False</td>\n",
       "      <td>2015</td>\n",
       "      <td>41.891399</td>\n",
       "      <td>-87.744385</td>\n",
       "      <td>18</td>\n",
       "      <td>3</td>\n",
       "    </tr>\n",
       "    <tr>\n",
       "      <th>1</th>\n",
       "      <td>OTHER OFFENSE</td>\n",
       "      <td>PAROLE VIOLATION</td>\n",
       "      <td>STREET</td>\n",
       "      <td>True</td>\n",
       "      <td>False</td>\n",
       "      <td>2015</td>\n",
       "      <td>41.773372</td>\n",
       "      <td>-87.665319</td>\n",
       "      <td>18</td>\n",
       "      <td>3</td>\n",
       "    </tr>\n",
       "    <tr>\n",
       "      <th>2</th>\n",
       "      <td>BATTERY</td>\n",
       "      <td>DOMESTIC BATTERY SIMPLE</td>\n",
       "      <td>APARTMENT</td>\n",
       "      <td>False</td>\n",
       "      <td>True</td>\n",
       "      <td>2015</td>\n",
       "      <td>41.813861</td>\n",
       "      <td>-87.596643</td>\n",
       "      <td>18</td>\n",
       "      <td>3</td>\n",
       "    </tr>\n",
       "    <tr>\n",
       "      <th>3</th>\n",
       "      <td>BATTERY</td>\n",
       "      <td>SIMPLE</td>\n",
       "      <td>APARTMENT</td>\n",
       "      <td>False</td>\n",
       "      <td>False</td>\n",
       "      <td>2015</td>\n",
       "      <td>41.800802</td>\n",
       "      <td>-87.622619</td>\n",
       "      <td>18</td>\n",
       "      <td>3</td>\n",
       "    </tr>\n",
       "    <tr>\n",
       "      <th>4</th>\n",
       "      <td>ROBBERY</td>\n",
       "      <td>ARMED: HANDGUN</td>\n",
       "      <td>SIDEWALK</td>\n",
       "      <td>False</td>\n",
       "      <td>False</td>\n",
       "      <td>2015</td>\n",
       "      <td>41.878065</td>\n",
       "      <td>-87.743354</td>\n",
       "      <td>18</td>\n",
       "      <td>3</td>\n",
       "    </tr>\n",
       "  </tbody>\n",
       "</table>\n",
       "</div>"
      ],
      "text/plain": [
       "    Primary Type              Description Location Description  Arrest  \\\n",
       "0        BATTERY      AGGRAVATED: HANDGUN               STREET   False   \n",
       "1  OTHER OFFENSE         PAROLE VIOLATION               STREET    True   \n",
       "2        BATTERY  DOMESTIC BATTERY SIMPLE            APARTMENT   False   \n",
       "3        BATTERY                   SIMPLE            APARTMENT   False   \n",
       "4        ROBBERY           ARMED: HANDGUN             SIDEWALK   False   \n",
       "\n",
       "   Domestic  Year   Latitude  Longitude  Day  Month  \n",
       "0     False  2015  41.891399 -87.744385   18      3  \n",
       "1     False  2015  41.773372 -87.665319   18      3  \n",
       "2      True  2015  41.813861 -87.596643   18      3  \n",
       "3     False  2015  41.800802 -87.622619   18      3  \n",
       "4     False  2015  41.878065 -87.743354   18      3  "
      ]
     },
     "execution_count": 27,
     "metadata": {},
     "output_type": "execute_result"
    }
   ],
   "source": [
    "data.head(5)"
   ]
  },
  {
   "cell_type": "code",
   "execution_count": 28,
   "metadata": {},
   "outputs": [
    {
     "name": "stdout",
     "output_type": "stream",
     "text": [
      "No of columns in data dataset: 10\n"
     ]
    }
   ],
   "source": [
    "print(\"No of columns in data dataset: \"+str(len(data.columns.values)))"
   ]
  },
  {
   "cell_type": "markdown",
   "metadata": {},
   "source": [
    "#### handling the null entries of the data set"
   ]
  },
  {
   "cell_type": "code",
   "execution_count": 29,
   "metadata": {},
   "outputs": [
    {
     "data": {
      "text/plain": [
       "Primary Type               0\n",
       "Description                0\n",
       "Location Description     117\n",
       "Arrest                     0\n",
       "Domestic                   0\n",
       "Year                       0\n",
       "Latitude                1391\n",
       "Longitude               1391\n",
       "Day                        0\n",
       "Month                      0\n",
       "dtype: int64"
      ]
     },
     "execution_count": 29,
     "metadata": {},
     "output_type": "execute_result"
    }
   ],
   "source": [
    "data.isnull().sum()"
   ]
  },
  {
   "cell_type": "markdown",
   "metadata": {},
   "source": [
    "##### drop null values"
   ]
  },
  {
   "cell_type": "code",
   "execution_count": 30,
   "metadata": {
    "collapsed": true
   },
   "outputs": [],
   "source": [
    "data = data.dropna(axis=0 ,subset=['Latitude' , 'Longitude'])"
   ]
  },
  {
   "cell_type": "markdown",
   "metadata": {},
   "source": [
    "##### drop remaining null values"
   ]
  },
  {
   "cell_type": "code",
   "execution_count": 31,
   "metadata": {
    "collapsed": true
   },
   "outputs": [],
   "source": [
    "data = data.dropna(axis=0 , subset= ['Location Description'])"
   ]
  },
  {
   "cell_type": "code",
   "execution_count": 32,
   "metadata": {},
   "outputs": [
    {
     "data": {
      "text/plain": [
       "Primary Type            0\n",
       "Description             0\n",
       "Location Description    0\n",
       "Arrest                  0\n",
       "Domestic                0\n",
       "Year                    0\n",
       "Latitude                0\n",
       "Longitude               0\n",
       "Day                     0\n",
       "Month                   0\n",
       "dtype: int64"
      ]
     },
     "execution_count": 32,
     "metadata": {},
     "output_type": "execute_result"
    }
   ],
   "source": [
    "data.isnull().sum()"
   ]
  },
  {
   "cell_type": "markdown",
   "metadata": {},
   "source": [
    "##### _shuffling data and reseting the index_"
   ]
  },
  {
   "cell_type": "code",
   "execution_count": 33,
   "metadata": {
    "collapsed": true
   },
   "outputs": [],
   "source": [
    "from sklearn.utils import shuffle\n",
    "data = shuffle(data)\n",
    "data=data.reset_index(drop=True)"
   ]
  },
  {
   "cell_type": "markdown",
   "metadata": {},
   "source": [
    "##### _extracting out the crime occured before 2017_"
   ]
  },
  {
   "cell_type": "code",
   "execution_count": 34,
   "metadata": {
    "collapsed": true
   },
   "outputs": [],
   "source": [
    "data2016 =data[data['Year']==2016]"
   ]
  },
  {
   "cell_type": "code",
   "execution_count": 35,
   "metadata": {
    "collapsed": true
   },
   "outputs": [],
   "source": [
    "data=data[data['Year']<2017]"
   ]
  },
  {
   "cell_type": "code",
   "execution_count": 36,
   "metadata": {},
   "outputs": [
    {
     "data": {
      "text/plain": [
       "(198477, 10)"
      ]
     },
     "execution_count": 36,
     "metadata": {},
     "output_type": "execute_result"
    }
   ],
   "source": [
    "data.shape"
   ]
  },
  {
   "cell_type": "code",
   "execution_count": 37,
   "metadata": {},
   "outputs": [
    {
     "data": {
      "text/plain": [
       "(3030, 10)"
      ]
     },
     "execution_count": 37,
     "metadata": {},
     "output_type": "execute_result"
    }
   ],
   "source": [
    "data2016.shape"
   ]
  },
  {
   "cell_type": "code",
   "execution_count": 38,
   "metadata": {
    "collapsed": true
   },
   "outputs": [],
   "source": [
    "#reseting the index \n",
    "data=data.reset_index(drop=True)\n",
    "data2016 = data2016.reset_index(drop=True)"
   ]
  },
  {
   "cell_type": "code",
   "execution_count": 39,
   "metadata": {},
   "outputs": [
    {
     "data": {
      "text/plain": [
       "array(['Primary Type', 'Description', 'Location Description', 'Arrest',\n",
       "       'Domestic', 'Year', 'Latitude', 'Longitude', 'Day', 'Month'], dtype=object)"
      ]
     },
     "execution_count": 39,
     "metadata": {},
     "output_type": "execute_result"
    }
   ],
   "source": [
    "data.columns.values"
   ]
  },
  {
   "cell_type": "markdown",
   "metadata": {},
   "source": [
    "### _splitting the dataset into dependent and independent variable for Primary Type_"
   ]
  },
  {
   "cell_type": "code",
   "execution_count": 40,
   "metadata": {
    "collapsed": true
   },
   "outputs": [],
   "source": [
    "X = data.iloc[:, 1:].values\n",
    "y = data.iloc[:, 0].values"
   ]
  },
  {
   "cell_type": "code",
   "execution_count": 41,
   "metadata": {},
   "outputs": [
    {
     "data": {
      "text/plain": [
       "(198477, 9)"
      ]
     },
     "execution_count": 41,
     "metadata": {},
     "output_type": "execute_result"
    }
   ],
   "source": [
    "X.shape"
   ]
  },
  {
   "cell_type": "code",
   "execution_count": 42,
   "metadata": {},
   "outputs": [
    {
     "data": {
      "text/plain": [
       "(198477,)"
      ]
     },
     "execution_count": 42,
     "metadata": {},
     "output_type": "execute_result"
    }
   ],
   "source": [
    "y.shape"
   ]
  },
  {
   "cell_type": "markdown",
   "metadata": {},
   "source": [
    "#### _handling categorical data from the dataset _"
   ]
  },
  {
   "cell_type": "code",
   "execution_count": 43,
   "metadata": {
    "collapsed": true
   },
   "outputs": [],
   "source": [
    "from sklearn.preprocessing import LabelEncoder , OneHotEncoder"
   ]
  },
  {
   "cell_type": "code",
   "execution_count": 44,
   "metadata": {
    "collapsed": true
   },
   "outputs": [],
   "source": [
    "lableencoder_X0 = LabelEncoder()\n",
    "X[: , 0]= lableencoder_X0.fit_transform(X[: ,0])"
   ]
  },
  {
   "cell_type": "code",
   "execution_count": 45,
   "metadata": {
    "collapsed": true
   },
   "outputs": [],
   "source": [
    "lableencoder_X1 = LabelEncoder()\n",
    "X[: , 1]= lableencoder_X1.fit_transform(X[: ,1])"
   ]
  },
  {
   "cell_type": "code",
   "execution_count": 46,
   "metadata": {
    "collapsed": true
   },
   "outputs": [],
   "source": [
    "lableencoder_X2 = LabelEncoder()\n",
    "X[: , 2]= lableencoder_X2.fit_transform(X[: ,2])"
   ]
  },
  {
   "cell_type": "code",
   "execution_count": 47,
   "metadata": {
    "collapsed": true
   },
   "outputs": [],
   "source": [
    "lableencoder_X3 = LabelEncoder()\n",
    "X[: , 3]= lableencoder_X3.fit_transform(X[: ,3])"
   ]
  },
  {
   "cell_type": "code",
   "execution_count": 48,
   "metadata": {},
   "outputs": [
    {
     "data": {
      "text/plain": [
       "array([193, 17, 0, 0, 2015, 41.886370204, -87.62069119899999, 23, 4], dtype=object)"
      ]
     },
     "execution_count": 48,
     "metadata": {},
     "output_type": "execute_result"
    }
   ],
   "source": [
    "X[0]"
   ]
  },
  {
   "cell_type": "code",
   "execution_count": 49,
   "metadata": {
    "collapsed": true
   },
   "outputs": [],
   "source": [
    "onehotencoder = OneHotEncoder(categorical_features=[0,1 ,4,7,8])\n",
    "X= onehotencoder.fit_transform(X).toarray() "
   ]
  },
  {
   "cell_type": "code",
   "execution_count": 50,
   "metadata": {},
   "outputs": [
    {
     "data": {
      "text/plain": [
       "(198477, 475)"
      ]
     },
     "execution_count": 50,
     "metadata": {},
     "output_type": "execute_result"
    }
   ],
   "source": [
    "X.shape"
   ]
  },
  {
   "cell_type": "code",
   "execution_count": 51,
   "metadata": {
    "collapsed": true
   },
   "outputs": [],
   "source": [
    "lableencoder_y = LabelEncoder()\n",
    "y=lableencoder_y.fit_transform(y) "
   ]
  },
  {
   "cell_type": "markdown",
   "metadata": {},
   "source": [
    "####  _Splitting the dataset into the Training set and Test set_"
   ]
  },
  {
   "cell_type": "code",
   "execution_count": 52,
   "metadata": {},
   "outputs": [
    {
     "name": "stderr",
     "output_type": "stream",
     "text": [
      "/home/tanya/anaconda3/lib/python3.5/site-packages/sklearn/cross_validation.py:41: DeprecationWarning: This module was deprecated in version 0.18 in favor of the model_selection module into which all the refactored classes and functions are moved. Also note that the interface of the new CV iterators are different from that of this module. This module will be removed in 0.20.\n",
      "  \"This module will be removed in 0.20.\", DeprecationWarning)\n"
     ]
    }
   ],
   "source": [
    "from sklearn.cross_validation import train_test_split\n",
    "X_train, X_test, y_train, y_test = train_test_split(X, y, test_size = 0.2, random_state = 0)"
   ]
  },
  {
   "cell_type": "markdown",
   "metadata": {},
   "source": [
    "#### _feature scaling _"
   ]
  },
  {
   "cell_type": "code",
   "execution_count": 53,
   "metadata": {
    "collapsed": true
   },
   "outputs": [],
   "source": [
    "from sklearn.preprocessing import StandardScaler\n",
    "\n",
    "sc_X = StandardScaler()\n",
    "X_train = sc_X.fit_transform(X_train)\n",
    "X_test = sc_X.transform(X_test)"
   ]
  },
  {
   "cell_type": "code",
   "execution_count": 54,
   "metadata": {},
   "outputs": [
    {
     "data": {
      "text/plain": [
       "(158781, 475)"
      ]
     },
     "execution_count": 54,
     "metadata": {},
     "output_type": "execute_result"
    }
   ],
   "source": [
    "X_train.shape"
   ]
  },
  {
   "cell_type": "markdown",
   "metadata": {},
   "source": [
    "### fitting traning set to logistic Regression Classification Model"
   ]
  },
  {
   "cell_type": "code",
   "execution_count": 55,
   "metadata": {},
   "outputs": [
    {
     "data": {
      "text/plain": [
       "LogisticRegression(C=1.0, class_weight=None, dual=False, fit_intercept=True,\n",
       "          intercept_scaling=1, max_iter=100, multi_class='ovr', n_jobs=1,\n",
       "          penalty='l2', random_state=0, solver='liblinear', tol=0.0001,\n",
       "          verbose=0, warm_start=False)"
      ]
     },
     "execution_count": 55,
     "metadata": {},
     "output_type": "execute_result"
    }
   ],
   "source": [
    "from sklearn.linear_model import LogisticRegression\n",
    "\n",
    "classifier = LogisticRegression(random_state = 0)\n",
    "classifier.fit(X_train , y_train)"
   ]
  },
  {
   "cell_type": "raw",
   "metadata": {},
   "source": [
    "#### _predicting the test set_"
   ]
  },
  {
   "cell_type": "code",
   "execution_count": 57,
   "metadata": {},
   "outputs": [
    {
     "data": {
      "text/plain": [
       "39696"
      ]
     },
     "execution_count": 57,
     "metadata": {},
     "output_type": "execute_result"
    }
   ],
   "source": [
    "y_pred = classifier.predict(X_test)\n",
    "y_pred.size"
   ]
  },
  {
   "cell_type": "code",
   "execution_count": 58,
   "metadata": {},
   "outputs": [
    {
     "name": "stdout",
     "output_type": "stream",
     "text": [
      "26 26\n",
      "8 8\n",
      "23 23\n",
      "2 2\n",
      "2 2\n",
      "2 2\n",
      "17 17\n",
      "6 6\n",
      "23 23\n",
      "30 30\n",
      "30 30\n",
      "6 6\n",
      "6 6\n",
      "30 30\n",
      "18 18\n",
      "30 30\n",
      "2 2\n",
      "23 23\n",
      "16 16\n",
      "2 1\n"
     ]
    }
   ],
   "source": [
    "for i in range(0,20):\n",
    "    print(str(y_pred[i])+\" \"+str(y_test[i]))"
   ]
  },
  {
   "cell_type": "markdown",
   "metadata": {},
   "source": [
    "#### evaluating the result via confusion matrix"
   ]
  },
  {
   "cell_type": "code",
   "execution_count": 59,
   "metadata": {
    "collapsed": true
   },
   "outputs": [],
   "source": [
    "from sklearn.metrics import confusion_matrix\n",
    "\n",
    "cm = confusion_matrix(y_test,y_pred)"
   ]
  },
  {
   "cell_type": "code",
   "execution_count": 60,
   "metadata": {},
   "outputs": [
    {
     "name": "stdout",
     "output_type": "stream",
     "text": [
      "Accuracy of logistic regression classifier on test set: 0.95\n"
     ]
    }
   ],
   "source": [
    "print('Accuracy of logistic regression classifier on test set: {:.2f}'.format(classifier.score(X_test, y_test)))"
   ]
  },
  {
   "cell_type": "code",
   "execution_count": null,
   "metadata": {
    "collapsed": true
   },
   "outputs": [],
   "source": []
  }
 ],
 "metadata": {
  "kernelspec": {
   "display_name": "Python 3",
   "language": "python",
   "name": "python3"
  },
  "language_info": {
   "codemirror_mode": {
    "name": "ipython",
    "version": 3
   },
   "file_extension": ".py",
   "mimetype": "text/x-python",
   "name": "python",
   "nbconvert_exporter": "python",
   "pygments_lexer": "ipython3",
   "version": "3.5.4"
  }
 },
 "nbformat": 4,
 "nbformat_minor": 2
}
