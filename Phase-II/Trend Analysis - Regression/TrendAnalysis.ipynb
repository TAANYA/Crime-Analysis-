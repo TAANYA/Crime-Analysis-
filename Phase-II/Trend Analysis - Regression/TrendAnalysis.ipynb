{
 "cells": [
  {
   "cell_type": "markdown",
   "metadata": {},
   "source": [
    "# DataSet Analysis "
   ]
  },
  {
   "cell_type": "markdown",
   "metadata": {},
   "source": [
    "#### Importing the dataset"
   ]
  },
  {
   "cell_type": "code",
   "execution_count": 1,
   "metadata": {
    "collapsed": true
   },
   "outputs": [],
   "source": [
    "import pandas as pd \n",
    "import random "
   ]
  },
  {
   "cell_type": "code",
   "execution_count": 2,
   "metadata": {
    "collapsed": true
   },
   "outputs": [],
   "source": [
    "data = pd.read_csv(\"/home/p2/Desktop/major/Crimes_-_2001_to_present.csv\")"
   ]
  },
  {
   "cell_type": "markdown",
   "metadata": {},
   "source": [
    "#### _checking the available data_"
   ]
  },
  {
   "cell_type": "code",
   "execution_count": 3,
   "metadata": {},
   "outputs": [
    {
     "data": {
      "text/plain": [
       "(6714444, 22)"
      ]
     },
     "execution_count": 3,
     "metadata": {},
     "output_type": "execute_result"
    }
   ],
   "source": [
    "data.shape"
   ]
  },
  {
   "cell_type": "markdown",
   "metadata": {},
   "source": [
    "#### _column values of the data available_"
   ]
  },
  {
   "cell_type": "code",
   "execution_count": 4,
   "metadata": {},
   "outputs": [
    {
     "data": {
      "text/plain": [
       "array(['ID', 'Case Number', 'Date', 'Block', 'IUCR', 'Primary Type',\n",
       "       'Description', 'Location Description', 'Arrest', 'Domestic', 'Beat',\n",
       "       'District', 'Ward', 'Community Area', 'FBI Code', 'X Coordinate',\n",
       "       'Y Coordinate', 'Year', 'Updated On', 'Latitude', 'Longitude',\n",
       "       'Location'], dtype=object)"
      ]
     },
     "execution_count": 4,
     "metadata": {},
     "output_type": "execute_result"
    }
   ],
   "source": [
    "data.columns.values "
   ]
  },
  {
   "cell_type": "code",
   "execution_count": 5,
   "metadata": {},
   "outputs": [
    {
     "data": {
      "text/html": [
       "<div>\n",
       "<style>\n",
       "    .dataframe thead tr:only-child th {\n",
       "        text-align: right;\n",
       "    }\n",
       "\n",
       "    .dataframe thead th {\n",
       "        text-align: left;\n",
       "    }\n",
       "\n",
       "    .dataframe tbody tr th {\n",
       "        vertical-align: top;\n",
       "    }\n",
       "</style>\n",
       "<table border=\"1\" class=\"dataframe\">\n",
       "  <thead>\n",
       "    <tr style=\"text-align: right;\">\n",
       "      <th></th>\n",
       "      <th>ID</th>\n",
       "      <th>Case Number</th>\n",
       "      <th>Date</th>\n",
       "      <th>Block</th>\n",
       "      <th>IUCR</th>\n",
       "      <th>Primary Type</th>\n",
       "      <th>Description</th>\n",
       "      <th>Location Description</th>\n",
       "      <th>Arrest</th>\n",
       "      <th>Domestic</th>\n",
       "      <th>...</th>\n",
       "      <th>Ward</th>\n",
       "      <th>Community Area</th>\n",
       "      <th>FBI Code</th>\n",
       "      <th>X Coordinate</th>\n",
       "      <th>Y Coordinate</th>\n",
       "      <th>Year</th>\n",
       "      <th>Updated On</th>\n",
       "      <th>Latitude</th>\n",
       "      <th>Longitude</th>\n",
       "      <th>Location</th>\n",
       "    </tr>\n",
       "  </thead>\n",
       "  <tbody>\n",
       "    <tr>\n",
       "      <th>0</th>\n",
       "      <td>10000092</td>\n",
       "      <td>HY189866</td>\n",
       "      <td>03/18/2015 07:44:00 PM</td>\n",
       "      <td>047XX W OHIO ST</td>\n",
       "      <td>041A</td>\n",
       "      <td>BATTERY</td>\n",
       "      <td>AGGRAVATED: HANDGUN</td>\n",
       "      <td>STREET</td>\n",
       "      <td>False</td>\n",
       "      <td>False</td>\n",
       "      <td>...</td>\n",
       "      <td>28.0</td>\n",
       "      <td>25.0</td>\n",
       "      <td>04B</td>\n",
       "      <td>1144606.0</td>\n",
       "      <td>1903566.0</td>\n",
       "      <td>2015</td>\n",
       "      <td>02/10/2018 03:50:01 PM</td>\n",
       "      <td>41.891399</td>\n",
       "      <td>-87.744385</td>\n",
       "      <td>(41.891398861, -87.744384567)</td>\n",
       "    </tr>\n",
       "    <tr>\n",
       "      <th>1</th>\n",
       "      <td>10000094</td>\n",
       "      <td>HY190059</td>\n",
       "      <td>03/18/2015 11:00:00 PM</td>\n",
       "      <td>066XX S MARSHFIELD AVE</td>\n",
       "      <td>4625</td>\n",
       "      <td>OTHER OFFENSE</td>\n",
       "      <td>PAROLE VIOLATION</td>\n",
       "      <td>STREET</td>\n",
       "      <td>True</td>\n",
       "      <td>False</td>\n",
       "      <td>...</td>\n",
       "      <td>15.0</td>\n",
       "      <td>67.0</td>\n",
       "      <td>26</td>\n",
       "      <td>1166468.0</td>\n",
       "      <td>1860715.0</td>\n",
       "      <td>2015</td>\n",
       "      <td>02/10/2018 03:50:01 PM</td>\n",
       "      <td>41.773372</td>\n",
       "      <td>-87.665319</td>\n",
       "      <td>(41.773371528, -87.665319468)</td>\n",
       "    </tr>\n",
       "    <tr>\n",
       "      <th>2</th>\n",
       "      <td>10000095</td>\n",
       "      <td>HY190052</td>\n",
       "      <td>03/18/2015 10:45:00 PM</td>\n",
       "      <td>044XX S LAKE PARK AVE</td>\n",
       "      <td>0486</td>\n",
       "      <td>BATTERY</td>\n",
       "      <td>DOMESTIC BATTERY SIMPLE</td>\n",
       "      <td>APARTMENT</td>\n",
       "      <td>False</td>\n",
       "      <td>True</td>\n",
       "      <td>...</td>\n",
       "      <td>4.0</td>\n",
       "      <td>39.0</td>\n",
       "      <td>08B</td>\n",
       "      <td>1185075.0</td>\n",
       "      <td>1875622.0</td>\n",
       "      <td>2015</td>\n",
       "      <td>02/10/2018 03:50:01 PM</td>\n",
       "      <td>41.813861</td>\n",
       "      <td>-87.596643</td>\n",
       "      <td>(41.81386068, -87.596642837)</td>\n",
       "    </tr>\n",
       "    <tr>\n",
       "      <th>3</th>\n",
       "      <td>10000096</td>\n",
       "      <td>HY190054</td>\n",
       "      <td>03/18/2015 10:30:00 PM</td>\n",
       "      <td>051XX S MICHIGAN AVE</td>\n",
       "      <td>0460</td>\n",
       "      <td>BATTERY</td>\n",
       "      <td>SIMPLE</td>\n",
       "      <td>APARTMENT</td>\n",
       "      <td>False</td>\n",
       "      <td>False</td>\n",
       "      <td>...</td>\n",
       "      <td>3.0</td>\n",
       "      <td>40.0</td>\n",
       "      <td>08B</td>\n",
       "      <td>1178033.0</td>\n",
       "      <td>1870804.0</td>\n",
       "      <td>2015</td>\n",
       "      <td>02/10/2018 03:50:01 PM</td>\n",
       "      <td>41.800802</td>\n",
       "      <td>-87.622619</td>\n",
       "      <td>(41.800802415, -87.622619343)</td>\n",
       "    </tr>\n",
       "    <tr>\n",
       "      <th>4</th>\n",
       "      <td>10000097</td>\n",
       "      <td>HY189976</td>\n",
       "      <td>03/18/2015 09:00:00 PM</td>\n",
       "      <td>047XX W ADAMS ST</td>\n",
       "      <td>031A</td>\n",
       "      <td>ROBBERY</td>\n",
       "      <td>ARMED: HANDGUN</td>\n",
       "      <td>SIDEWALK</td>\n",
       "      <td>False</td>\n",
       "      <td>False</td>\n",
       "      <td>...</td>\n",
       "      <td>28.0</td>\n",
       "      <td>25.0</td>\n",
       "      <td>03</td>\n",
       "      <td>1144920.0</td>\n",
       "      <td>1898709.0</td>\n",
       "      <td>2015</td>\n",
       "      <td>02/10/2018 03:50:01 PM</td>\n",
       "      <td>41.878065</td>\n",
       "      <td>-87.743354</td>\n",
       "      <td>(41.878064761, -87.743354013)</td>\n",
       "    </tr>\n",
       "  </tbody>\n",
       "</table>\n",
       "<p>5 rows × 22 columns</p>\n",
       "</div>"
      ],
      "text/plain": [
       "         ID Case Number                    Date                   Block  IUCR  \\\n",
       "0  10000092    HY189866  03/18/2015 07:44:00 PM         047XX W OHIO ST  041A   \n",
       "1  10000094    HY190059  03/18/2015 11:00:00 PM  066XX S MARSHFIELD AVE  4625   \n",
       "2  10000095    HY190052  03/18/2015 10:45:00 PM   044XX S LAKE PARK AVE  0486   \n",
       "3  10000096    HY190054  03/18/2015 10:30:00 PM    051XX S MICHIGAN AVE  0460   \n",
       "4  10000097    HY189976  03/18/2015 09:00:00 PM        047XX W ADAMS ST  031A   \n",
       "\n",
       "    Primary Type              Description Location Description  Arrest  \\\n",
       "0        BATTERY      AGGRAVATED: HANDGUN               STREET   False   \n",
       "1  OTHER OFFENSE         PAROLE VIOLATION               STREET    True   \n",
       "2        BATTERY  DOMESTIC BATTERY SIMPLE            APARTMENT   False   \n",
       "3        BATTERY                   SIMPLE            APARTMENT   False   \n",
       "4        ROBBERY           ARMED: HANDGUN             SIDEWALK   False   \n",
       "\n",
       "   Domestic              ...                Ward  Community Area  FBI Code  \\\n",
       "0     False              ...                28.0            25.0       04B   \n",
       "1     False              ...                15.0            67.0        26   \n",
       "2      True              ...                 4.0            39.0       08B   \n",
       "3     False              ...                 3.0            40.0       08B   \n",
       "4     False              ...                28.0            25.0        03   \n",
       "\n",
       "   X Coordinate Y Coordinate  Year              Updated On   Latitude  \\\n",
       "0     1144606.0    1903566.0  2015  02/10/2018 03:50:01 PM  41.891399   \n",
       "1     1166468.0    1860715.0  2015  02/10/2018 03:50:01 PM  41.773372   \n",
       "2     1185075.0    1875622.0  2015  02/10/2018 03:50:01 PM  41.813861   \n",
       "3     1178033.0    1870804.0  2015  02/10/2018 03:50:01 PM  41.800802   \n",
       "4     1144920.0    1898709.0  2015  02/10/2018 03:50:01 PM  41.878065   \n",
       "\n",
       "   Longitude                       Location  \n",
       "0 -87.744385  (41.891398861, -87.744384567)  \n",
       "1 -87.665319  (41.773371528, -87.665319468)  \n",
       "2 -87.596643   (41.81386068, -87.596642837)  \n",
       "3 -87.622619  (41.800802415, -87.622619343)  \n",
       "4 -87.743354  (41.878064761, -87.743354013)  \n",
       "\n",
       "[5 rows x 22 columns]"
      ]
     },
     "execution_count": 5,
     "metadata": {},
     "output_type": "execute_result"
    }
   ],
   "source": [
    "data.head(5)"
   ]
  },
  {
   "cell_type": "code",
   "execution_count": 6,
   "metadata": {},
   "outputs": [
    {
     "name": "stdout",
     "output_type": "stream",
     "text": [
      "No of columns in data dataset: 22\n"
     ]
    }
   ],
   "source": [
    "print(\"No of columns in data dataset: \"+str(len(data.columns.values)))"
   ]
  },
  {
   "cell_type": "markdown",
   "metadata": {},
   "source": [
    "## Visualising the dataset "
   ]
  },
  {
   "cell_type": "markdown",
   "metadata": {},
   "source": [
    "### importing the required libraries "
   ]
  },
  {
   "cell_type": "code",
   "execution_count": 7,
   "metadata": {
    "collapsed": true
   },
   "outputs": [],
   "source": [
    "import matplotlib.pyplot as plt\n",
    "import seaborn as sns\n",
    "%matplotlib inline "
   ]
  },
  {
   "cell_type": "markdown",
   "metadata": {},
   "source": [
    "#### _getting the columns as a list _"
   ]
  },
  {
   "cell_type": "code",
   "execution_count": 8,
   "metadata": {},
   "outputs": [
    {
     "name": "stdout",
     "output_type": "stream",
     "text": [
      "['ID', 'Case Number', 'Date', 'Block', 'IUCR', 'Primary Type', 'Description', 'Location Description', 'Arrest', 'Domestic', 'Beat', 'District', 'Ward', 'Community Area', 'FBI Code', 'X Coordinate', 'Y Coordinate', 'Year', 'Updated On', 'Latitude', 'Longitude', 'Location']\n"
     ]
    }
   ],
   "source": [
    "columns = data.columns.get_values().tolist()\n",
    "print(columns)"
   ]
  },
  {
   "cell_type": "markdown",
   "metadata": {},
   "source": [
    "## Primary Type \n",
    "### _The primary description of the criminal offense._"
   ]
  },
  {
   "cell_type": "code",
   "execution_count": 9,
   "metadata": {},
   "outputs": [
    {
     "data": {
      "text/plain": [
       "[<matplotlib.text.Text at 0x7ff9644d4128>,\n",
       " <matplotlib.text.Text at 0x7ff964537668>,\n",
       " <matplotlib.text.Text at 0x7ff9644867b8>,\n",
       " <matplotlib.text.Text at 0x7ff9644111d0>,\n",
       " <matplotlib.text.Text at 0x7ff964411ba8>,\n",
       " <matplotlib.text.Text at 0x7ff9644165c0>,\n",
       " <matplotlib.text.Text at 0x7ff964416f98>,\n",
       " <matplotlib.text.Text at 0x7ff96441b9b0>,\n",
       " <matplotlib.text.Text at 0x7ff9644213c8>,\n",
       " <matplotlib.text.Text at 0x7ff964421da0>,\n",
       " <matplotlib.text.Text at 0x7ff9644277b8>,\n",
       " <matplotlib.text.Text at 0x7ff9644291d0>,\n",
       " <matplotlib.text.Text at 0x7ff964429ba8>,\n",
       " <matplotlib.text.Text at 0x7ff9644305c0>,\n",
       " <matplotlib.text.Text at 0x7ff964430f98>,\n",
       " <matplotlib.text.Text at 0x7ff9644369b0>,\n",
       " <matplotlib.text.Text at 0x7ff96443a3c8>,\n",
       " <matplotlib.text.Text at 0x7ff96443ada0>,\n",
       " <matplotlib.text.Text at 0x7ff96443f7b8>,\n",
       " <matplotlib.text.Text at 0x7ff9644421d0>,\n",
       " <matplotlib.text.Text at 0x7ff964442ba8>,\n",
       " <matplotlib.text.Text at 0x7ff9643ca5c0>,\n",
       " <matplotlib.text.Text at 0x7ff9643caf98>,\n",
       " <matplotlib.text.Text at 0x7ff9643ce9b0>,\n",
       " <matplotlib.text.Text at 0x7ff9643d23c8>,\n",
       " <matplotlib.text.Text at 0x7ff9643d2da0>,\n",
       " <matplotlib.text.Text at 0x7ff9643d77b8>,\n",
       " <matplotlib.text.Text at 0x7ff9643db1d0>,\n",
       " <matplotlib.text.Text at 0x7ff9643dbba8>,\n",
       " <matplotlib.text.Text at 0x7ff9643e35c0>,\n",
       " <matplotlib.text.Text at 0x7ff9643e3f98>,\n",
       " <matplotlib.text.Text at 0x7ff9643e89b0>,\n",
       " <matplotlib.text.Text at 0x7ff9643ec3c8>,\n",
       " <matplotlib.text.Text at 0x7ff9643ecda0>,\n",
       " <matplotlib.text.Text at 0x7ff9643f27b8>]"
      ]
     },
     "execution_count": 9,
     "metadata": {},
     "output_type": "execute_result"
    },
    {
     "data": {
      "image/png": "[encoded data removed]",
      "text/plain": [
       "<matplotlib.figure.Figure at 0x7ff96ce71668>"
      ]
     },
     "metadata": {},
     "output_type": "display_data"
    }
   ],
   "source": [
    "plot = sns.countplot(x=columns[5], data=data)\n",
    "locs, labels = plt.xticks()\n",
    "plot.set_xticklabels(labels ,rotation=90)"
   ]
  },
  {
   "cell_type": "markdown",
   "metadata": {
    "collapsed": true
   },
   "source": [
    "## Arrest \n",
    "### _Indicates whether an arrest was made or not._"
   ]
  },
  {
   "cell_type": "code",
   "execution_count": 10,
   "metadata": {},
   "outputs": [
    {
     "data": {
      "image/png": "[encoded data removed]",
      "text/plain": [
       "<matplotlib.figure.Figure at 0x7ff9f4499c88>"
      ]
     },
     "metadata": {},
     "output_type": "display_data"
    }
   ],
   "source": [
    "plot = sns.countplot(x=columns[8], data=data)"
   ]
  },
  {
   "cell_type": "markdown",
   "metadata": {},
   "source": [
    "## District \n",
    "### _Indicates the police district where the incident occurred._"
   ]
  },
  {
   "cell_type": "code",
   "execution_count": 11,
   "metadata": {},
   "outputs": [
    {
     "data": {
      "text/plain": [
       "[<matplotlib.text.Text at 0x7ff960b32208>,\n",
       " <matplotlib.text.Text at 0x7ff960b370f0>,\n",
       " <matplotlib.text.Text at 0x7ff960ab5080>,\n",
       " <matplotlib.text.Text at 0x7ff960ab5a58>,\n",
       " <matplotlib.text.Text at 0x7ff960ab9470>,\n",
       " <matplotlib.text.Text at 0x7ff960ab9e48>,\n",
       " <matplotlib.text.Text at 0x7ff960abd860>,\n",
       " <matplotlib.text.Text at 0x7ff960ac3278>,\n",
       " <matplotlib.text.Text at 0x7ff960ac3c50>,\n",
       " <matplotlib.text.Text at 0x7ff960ac6668>,\n",
       " <matplotlib.text.Text at 0x7ff960a4c080>,\n",
       " <matplotlib.text.Text at 0x7ff960a4ca58>,\n",
       " <matplotlib.text.Text at 0x7ff960a52470>,\n",
       " <matplotlib.text.Text at 0x7ff960a52e48>,\n",
       " <matplotlib.text.Text at 0x7ff960a56860>,\n",
       " <matplotlib.text.Text at 0x7ff960a5c278>,\n",
       " <matplotlib.text.Text at 0x7ff960a5cc50>,\n",
       " <matplotlib.text.Text at 0x7ff960a60668>,\n",
       " <matplotlib.text.Text at 0x7ff960a64080>,\n",
       " <matplotlib.text.Text at 0x7ff960a64a58>,\n",
       " <matplotlib.text.Text at 0x7ff960a69470>,\n",
       " <matplotlib.text.Text at 0x7ff960a69e48>,\n",
       " <matplotlib.text.Text at 0x7ff960a6f860>,\n",
       " <matplotlib.text.Text at 0x7ff960a73278>]"
      ]
     },
     "execution_count": 11,
     "metadata": {},
     "output_type": "execute_result"
    },
    {
     "data": {
      "image/png": "[encoded data removed]",
      "text/plain": [
       "<matplotlib.figure.Figure at 0x7ff9f44b1278>"
      ]
     },
     "metadata": {},
     "output_type": "display_data"
    }
   ],
   "source": [
    "plot = sns.countplot(x=columns[11], data=data)\n",
    "locs, labels = plt.xticks()\n",
    "plot.set_xticklabels(labels ,rotation=90)"
   ]
  },
  {
   "cell_type": "markdown",
   "metadata": {},
   "source": [
    "## Domestic \n",
    "### _Indicates whether the incident was domestic-related as defined by the Domestic Violence Act._"
   ]
  },
  {
   "cell_type": "code",
   "execution_count": 12,
   "metadata": {},
   "outputs": [
    {
     "data": {
      "image/png": "[encoded data removed]",
      "text/plain": [
       "<matplotlib.figure.Figure at 0x7ff9c4464e10>"
      ]
     },
     "metadata": {},
     "output_type": "display_data"
    }
   ],
   "source": [
    "plot = sns.countplot(x=columns[9], data=data)"
   ]
  },
  {
   "cell_type": "markdown",
   "metadata": {},
   "source": [
    "## Location Description \n",
    "### _Description of the location where the incident occured._"
   ]
  },
  {
   "cell_type": "code",
   "execution_count": 13,
   "metadata": {},
   "outputs": [
    {
     "data": {
      "text/plain": [
       "[<matplotlib.text.Text at 0x7ff9644ab240>,\n",
       " <matplotlib.text.Text at 0x7ff960b75eb8>,\n",
       " <matplotlib.text.Text at 0x7ff96077b1d0>,\n",
       " <matplotlib.text.Text at 0x7ff96077bba8>,\n",
       " <matplotlib.text.Text at 0x7ff9607805c0>,\n",
       " <matplotlib.text.Text at 0x7ff960780f98>,\n",
       " <matplotlib.text.Text at 0x7ff9607859b0>,\n",
       " <matplotlib.text.Text at 0x7ff96070b3c8>,\n",
       " <matplotlib.text.Text at 0x7ff96070bda0>,\n",
       " <matplotlib.text.Text at 0x7ff96070e7b8>,\n",
       " <matplotlib.text.Text at 0x7ff9607121d0>,\n",
       " <matplotlib.text.Text at 0x7ff960712ba8>,\n",
       " <matplotlib.text.Text at 0x7ff9607185c0>,\n",
       " <matplotlib.text.Text at 0x7ff960718f98>,\n",
       " <matplotlib.text.Text at 0x7ff96071c9b0>,\n",
       " <matplotlib.text.Text at 0x7ff9607223c8>,\n",
       " <matplotlib.text.Text at 0x7ff960722da0>,\n",
       " <matplotlib.text.Text at 0x7ff9607267b8>,\n",
       " <matplotlib.text.Text at 0x7ff96072b1d0>,\n",
       " <matplotlib.text.Text at 0x7ff96072bba8>,\n",
       " <matplotlib.text.Text at 0x7ff9607325c0>,\n",
       " <matplotlib.text.Text at 0x7ff960732f98>,\n",
       " <matplotlib.text.Text at 0x7ff9607359b0>,\n",
       " <matplotlib.text.Text at 0x7ff96073a3c8>,\n",
       " <matplotlib.text.Text at 0x7ff96073ada0>,\n",
       " <matplotlib.text.Text at 0x7ff9607407b8>,\n",
       " <matplotlib.text.Text at 0x7ff9607451d0>,\n",
       " <matplotlib.text.Text at 0x7ff960745ba8>,\n",
       " <matplotlib.text.Text at 0x7ff9606c95c0>,\n",
       " <matplotlib.text.Text at 0x7ff9606c9f98>,\n",
       " <matplotlib.text.Text at 0x7ff9606cf9b0>,\n",
       " <matplotlib.text.Text at 0x7ff9606d53c8>,\n",
       " <matplotlib.text.Text at 0x7ff9606d5da0>,\n",
       " <matplotlib.text.Text at 0x7ff9606da7b8>,\n",
       " <matplotlib.text.Text at 0x7ff9606de1d0>,\n",
       " <matplotlib.text.Text at 0x7ff9606deba8>,\n",
       " <matplotlib.text.Text at 0x7ff9606e25c0>,\n",
       " <matplotlib.text.Text at 0x7ff9606e2f98>,\n",
       " <matplotlib.text.Text at 0x7ff9606e79b0>,\n",
       " <matplotlib.text.Text at 0x7ff9606ee3c8>,\n",
       " <matplotlib.text.Text at 0x7ff9606eeda0>,\n",
       " <matplotlib.text.Text at 0x7ff9606f27b8>,\n",
       " <matplotlib.text.Text at 0x7ff9606f71d0>,\n",
       " <matplotlib.text.Text at 0x7ff9606f7ba8>,\n",
       " <matplotlib.text.Text at 0x7ff9606fb5c0>,\n",
       " <matplotlib.text.Text at 0x7ff9606fbf98>,\n",
       " <matplotlib.text.Text at 0x7ff9607039b0>,\n",
       " <matplotlib.text.Text at 0x7ff9607063c8>,\n",
       " <matplotlib.text.Text at 0x7ff960706da0>,\n",
       " <matplotlib.text.Text at 0x7ff96068b7b8>,\n",
       " <matplotlib.text.Text at 0x7ff96068f1d0>,\n",
       " <matplotlib.text.Text at 0x7ff96068fba8>,\n",
       " <matplotlib.text.Text at 0x7ff9606945c0>,\n",
       " <matplotlib.text.Text at 0x7ff960694f98>,\n",
       " <matplotlib.text.Text at 0x7ff96069c9b0>,\n",
       " <matplotlib.text.Text at 0x7ff96069f3c8>,\n",
       " <matplotlib.text.Text at 0x7ff96069fda0>,\n",
       " <matplotlib.text.Text at 0x7ff9606a37b8>,\n",
       " <matplotlib.text.Text at 0x7ff9606a91d0>,\n",
       " <matplotlib.text.Text at 0x7ff9606a9ba8>,\n",
       " <matplotlib.text.Text at 0x7ff9606ad5c0>,\n",
       " <matplotlib.text.Text at 0x7ff9606adf98>,\n",
       " <matplotlib.text.Text at 0x7ff9606b59b0>,\n",
       " <matplotlib.text.Text at 0x7ff9606b83c8>,\n",
       " <matplotlib.text.Text at 0x7ff9606b8da0>,\n",
       " <matplotlib.text.Text at 0x7ff9606bd7b8>,\n",
       " <matplotlib.text.Text at 0x7ff9606c41d0>,\n",
       " <matplotlib.text.Text at 0x7ff9606c4ba8>,\n",
       " <matplotlib.text.Text at 0x7ff9606485c0>,\n",
       " <matplotlib.text.Text at 0x7ff960648f98>,\n",
       " <matplotlib.text.Text at 0x7ff96064e9b0>,\n",
       " <matplotlib.text.Text at 0x7ff9606523c8>,\n",
       " <matplotlib.text.Text at 0x7ff960652da0>,\n",
       " <matplotlib.text.Text at 0x7ff9606577b8>,\n",
       " <matplotlib.text.Text at 0x7ff96065c1d0>,\n",
       " <matplotlib.text.Text at 0x7ff96065cba8>,\n",
       " <matplotlib.text.Text at 0x7ff9606605c0>,\n",
       " <matplotlib.text.Text at 0x7ff960660f98>,\n",
       " <matplotlib.text.Text at 0x7ff9606679b0>,\n",
       " <matplotlib.text.Text at 0x7ff96066b3c8>,\n",
       " <matplotlib.text.Text at 0x7ff96066bda0>,\n",
       " <matplotlib.text.Text at 0x7ff9606707b8>,\n",
       " <matplotlib.text.Text at 0x7ff9606741d0>,\n",
       " <matplotlib.text.Text at 0x7ff960674ba8>,\n",
       " <matplotlib.text.Text at 0x7ff9606785c0>,\n",
       " <matplotlib.text.Text at 0x7ff960678f98>,\n",
       " <matplotlib.text.Text at 0x7ff96067f9b0>,\n",
       " <matplotlib.text.Text at 0x7ff9606853c8>,\n",
       " <matplotlib.text.Text at 0x7ff960685da0>,\n",
       " <matplotlib.text.Text at 0x7ff9606097b8>,\n",
       " <matplotlib.text.Text at 0x7ff96060e1d0>,\n",
       " <matplotlib.text.Text at 0x7ff96060eba8>,\n",
       " <matplotlib.text.Text at 0x7ff9606155c0>,\n",
       " <matplotlib.text.Text at 0x7ff960615f98>,\n",
       " <matplotlib.text.Text at 0x7ff9606189b0>,\n",
       " <matplotlib.text.Text at 0x7ff96061d3c8>,\n",
       " <matplotlib.text.Text at 0x7ff96061dda0>,\n",
       " <matplotlib.text.Text at 0x7ff9606227b8>,\n",
       " <matplotlib.text.Text at 0x7ff9606261d0>,\n",
       " <matplotlib.text.Text at 0x7ff960626ba8>,\n",
       " <matplotlib.text.Text at 0x7ff96062d5c0>,\n",
       " <matplotlib.text.Text at 0x7ff96062df98>,\n",
       " <matplotlib.text.Text at 0x7ff9606319b0>,\n",
       " <matplotlib.text.Text at 0x7ff9606373c8>,\n",
       " <matplotlib.text.Text at 0x7ff960637da0>,\n",
       " <matplotlib.text.Text at 0x7ff96063c7b8>,\n",
       " <matplotlib.text.Text at 0x7ff96063f1d0>,\n",
       " <matplotlib.text.Text at 0x7ff96063fba8>,\n",
       " <matplotlib.text.Text at 0x7ff9605c75c0>,\n",
       " <matplotlib.text.Text at 0x7ff9605c7f98>,\n",
       " <matplotlib.text.Text at 0x7ff9605cb9b0>,\n",
       " <matplotlib.text.Text at 0x7ff9605d13c8>,\n",
       " <matplotlib.text.Text at 0x7ff9605d1da0>,\n",
       " <matplotlib.text.Text at 0x7ff9605d47b8>,\n",
       " <matplotlib.text.Text at 0x7ff9605d91d0>,\n",
       " <matplotlib.text.Text at 0x7ff9605d9ba8>,\n",
       " <matplotlib.text.Text at 0x7ff9605e05c0>,\n",
       " <matplotlib.text.Text at 0x7ff9605e0f98>,\n",
       " <matplotlib.text.Text at 0x7ff9605e49b0>,\n",
       " <matplotlib.text.Text at 0x7ff9605e83c8>,\n",
       " <matplotlib.text.Text at 0x7ff9605e8da0>,\n",
       " <matplotlib.text.Text at 0x7ff9605ed7b8>,\n",
       " <matplotlib.text.Text at 0x7ff9605f01d0>,\n",
       " <matplotlib.text.Text at 0x7ff9605f0ba8>,\n",
       " <matplotlib.text.Text at 0x7ff9605f85c0>,\n",
       " <matplotlib.text.Text at 0x7ff9605f8f98>,\n",
       " <matplotlib.text.Text at 0x7ff9605fd9b0>,\n",
       " <matplotlib.text.Text at 0x7ff9606013c8>,\n",
       " <matplotlib.text.Text at 0x7ff960601da0>,\n",
       " <matplotlib.text.Text at 0x7ff9605877b8>,\n",
       " <matplotlib.text.Text at 0x7ff96058c1d0>,\n",
       " <matplotlib.text.Text at 0x7ff96058cba8>,\n",
       " <matplotlib.text.Text at 0x7ff9605925c0>,\n",
       " <matplotlib.text.Text at 0x7ff960592f98>,\n",
       " <matplotlib.text.Text at 0x7ff9605979b0>,\n",
       " <matplotlib.text.Text at 0x7ff96059b3c8>,\n",
       " <matplotlib.text.Text at 0x7ff96059bda0>,\n",
       " <matplotlib.text.Text at 0x7ff9605a07b8>,\n",
       " <matplotlib.text.Text at 0x7ff9605a71d0>,\n",
       " <matplotlib.text.Text at 0x7ff9605a7ba8>,\n",
       " <matplotlib.text.Text at 0x7ff9605a95c0>,\n",
       " <matplotlib.text.Text at 0x7ff9605a9f98>,\n",
       " <matplotlib.text.Text at 0x7ff9605b19b0>,\n",
       " <matplotlib.text.Text at 0x7ff9605b43c8>,\n",
       " <matplotlib.text.Text at 0x7ff9605b4da0>,\n",
       " <matplotlib.text.Text at 0x7ff9605ba7b8>,\n",
       " <matplotlib.text.Text at 0x7ff9605bf1d0>,\n",
       " <matplotlib.text.Text at 0x7ff9605bfba8>,\n",
       " <matplotlib.text.Text at 0x7ff9605c25c0>,\n",
       " <matplotlib.text.Text at 0x7ff9605c2f98>,\n",
       " <matplotlib.text.Text at 0x7ff96054a9b0>,\n",
       " <matplotlib.text.Text at 0x7ff96054e3c8>,\n",
       " <matplotlib.text.Text at 0x7ff96054eda0>,\n",
       " <matplotlib.text.Text at 0x7ff9605547b8>,\n",
       " <matplotlib.text.Text at 0x7ff9605581d0>,\n",
       " <matplotlib.text.Text at 0x7ff960558ba8>,\n",
       " <matplotlib.text.Text at 0x7ff96055b5c0>,\n",
       " <matplotlib.text.Text at 0x7ff96055bf98>,\n",
       " <matplotlib.text.Text at 0x7ff9605629b0>,\n",
       " <matplotlib.text.Text at 0x7ff9605663c8>,\n",
       " <matplotlib.text.Text at 0x7ff960566da0>,\n",
       " <matplotlib.text.Text at 0x7ff96056c7b8>,\n",
       " <matplotlib.text.Text at 0x7ff9605721d0>,\n",
       " <matplotlib.text.Text at 0x7ff960572ba8>,\n",
       " <matplotlib.text.Text at 0x7ff9605765c0>,\n",
       " <matplotlib.text.Text at 0x7ff960576f98>,\n",
       " <matplotlib.text.Text at 0x7ff96057b9b0>,\n",
       " <matplotlib.text.Text at 0x7ff96057e3c8>,\n",
       " <matplotlib.text.Text at 0x7ff96057eda0>,\n",
       " <matplotlib.text.Text at 0x7ff9605847b8>,\n",
       " <matplotlib.text.Text at 0x7ff96050a1d0>,\n",
       " <matplotlib.text.Text at 0x7ff96050aba8>,\n",
       " <matplotlib.text.Text at 0x7ff96050f5c0>,\n",
       " <matplotlib.text.Text at 0x7ff96050ff98>,\n",
       " <matplotlib.text.Text at 0x7ff9605159b0>,\n",
       " <matplotlib.text.Text at 0x7ff9605193c8>,\n",
       " <matplotlib.text.Text at 0x7ff960519da0>,\n",
       " <matplotlib.text.Text at 0x7ff96051f7b8>,\n",
       " <matplotlib.text.Text at 0x7ff9605231d0>]"
      ]
     },
     "execution_count": 13,
     "metadata": {},
     "output_type": "execute_result"
    },
    {
     "data": {
      "image/png": "[encoded data removed]",
      "text/plain": [
       "<matplotlib.figure.Figure at 0x7ff960a14978>"
      ]
     },
     "metadata": {},
     "output_type": "display_data"
    }
   ],
   "source": [
    "plot = sns.countplot(x=columns[7], data=data)\n",
    "locs, labels = plt.xticks()\n",
    "plot.set_xticklabels(labels ,rotation=90)"
   ]
  },
  {
   "cell_type": "markdown",
   "metadata": {},
   "source": [
    "### _splitting date into three columns  of month , day & year_"
   ]
  },
  {
   "cell_type": "code",
   "execution_count": 3,
   "metadata": {
    "collapsed": true
   },
   "outputs": [],
   "source": [
    "# initialising an empty list \n",
    "month = []\n",
    "day = []\n",
    "year = []"
   ]
  },
  {
   "cell_type": "code",
   "execution_count": 4,
   "metadata": {
    "collapsed": true
   },
   "outputs": [],
   "source": [
    "# iterating over the date column to split up the date and store in the list\n",
    "for i in range(0 , len(data)):\n",
    "    month.append(int(data['Date'][i].split(\" \")[0].split(\"/\")[0]))\n",
    "    day.append(int(data['Date'][i].split(\" \")[0].split(\"/\")[1]))\n",
    "    year.append(int(data['Date'][i].split(\" \")[0].split(\"/\")[2]))"
   ]
  },
  {
   "cell_type": "markdown",
   "metadata": {},
   "source": [
    "#### _merging the obtained list of day , month & year into the dataset_"
   ]
  },
  {
   "cell_type": "code",
   "execution_count": 5,
   "metadata": {
    "collapsed": true
   },
   "outputs": [],
   "source": [
    "data = pd.concat([data,pd.DataFrame({'Month':month ,'Day':day , 'CrimeYear' : year})]  , axis=1)"
   ]
  },
  {
   "cell_type": "code",
   "execution_count": 6,
   "metadata": {},
   "outputs": [
    {
     "data": {
      "text/plain": [
       "(6714444, 25)"
      ]
     },
     "execution_count": 6,
     "metadata": {},
     "output_type": "execute_result"
    }
   ],
   "source": [
    "data.shape "
   ]
  },
  {
   "cell_type": "code",
   "execution_count": 9,
   "metadata": {},
   "outputs": [
    {
     "data": {
      "text/plain": [
       "array(['ID', 'Case Number', 'Date', 'Block', 'IUCR', 'Primary Type',\n",
       "       'Description', 'Location Description', 'Arrest', 'Domestic', 'Beat',\n",
       "       'District', 'Ward', 'Community Area', 'FBI Code', 'X Coordinate',\n",
       "       'Y Coordinate', 'Year', 'Updated On', 'Latitude', 'Longitude',\n",
       "       'Location', 'CrimeYear', 'Day', 'Month'], dtype=object)"
      ]
     },
     "execution_count": 9,
     "metadata": {},
     "output_type": "execute_result"
    }
   ],
   "source": [
    "data.columns.values"
   ]
  },
  {
   "cell_type": "code",
   "execution_count": 10,
   "metadata": {},
   "outputs": [
    {
     "data": {
      "text/plain": [
       "['ID',\n",
       " 'Case Number',\n",
       " 'Date',\n",
       " 'Block',\n",
       " 'IUCR',\n",
       " 'Primary Type',\n",
       " 'Description',\n",
       " 'Location Description',\n",
       " 'Arrest',\n",
       " 'Domestic',\n",
       " 'Beat',\n",
       " 'District',\n",
       " 'Ward',\n",
       " 'Community Area',\n",
       " 'FBI Code',\n",
       " 'X Coordinate',\n",
       " 'Y Coordinate',\n",
       " 'Year',\n",
       " 'Updated On',\n",
       " 'Latitude',\n",
       " 'Longitude',\n",
       " 'Location',\n",
       " 'CrimeYear',\n",
       " 'Day',\n",
       " 'Month']"
      ]
     },
     "execution_count": 10,
     "metadata": {},
     "output_type": "execute_result"
    }
   ],
   "source": [
    "columns = data.columns.get_values().tolist()\n",
    "columns "
   ]
  },
  {
   "cell_type": "markdown",
   "metadata": {},
   "source": [
    "## Year \n",
    "### _Year wise crime occurings recorded._"
   ]
  },
  {
   "cell_type": "code",
   "execution_count": 20,
   "metadata": {},
   "outputs": [
    {
     "data": {
      "text/plain": [
       "[<matplotlib.text.Text at 0x7ff9791b09b0>,\n",
       " <matplotlib.text.Text at 0x7ff9604ef710>,\n",
       " <matplotlib.text.Text at 0x7ff9465687f0>,\n",
       " <matplotlib.text.Text at 0x7ff94656c208>,\n",
       " <matplotlib.text.Text at 0x7ff94656cbe0>,\n",
       " <matplotlib.text.Text at 0x7ff94656f5f8>,\n",
       " <matplotlib.text.Text at 0x7ff94656ffd0>,\n",
       " <matplotlib.text.Text at 0x7ff9465749e8>,\n",
       " <matplotlib.text.Text at 0x7ff946578400>,\n",
       " <matplotlib.text.Text at 0x7ff960b15be0>,\n",
       " <matplotlib.text.Text at 0x7ff9608fd9e8>,\n",
       " <matplotlib.text.Text at 0x7ff9609e9fd0>,\n",
       " <matplotlib.text.Text at 0x7ff946578b00>,\n",
       " <matplotlib.text.Text at 0x7ff94657e400>,\n",
       " <matplotlib.text.Text at 0x7ff94657edd8>,\n",
       " <matplotlib.text.Text at 0x7ff9465817f0>,\n",
       " <matplotlib.text.Text at 0x7ff946586208>,\n",
       " <matplotlib.text.Text at 0x7ff946586be0>]"
      ]
     },
     "execution_count": 20,
     "metadata": {},
     "output_type": "execute_result"
    },
    {
     "data": {
      "image/png": "[encoded data removed]",
      "text/plain": [
       "<matplotlib.figure.Figure at 0x7ff9609485f8>"
      ]
     },
     "metadata": {},
     "output_type": "display_data"
    }
   ],
   "source": [
    "plot = sns.countplot(x=columns[22], data=data)\n",
    "locs, labels = plt.xticks()\n",
    "plot.set_xticklabels(labels ,rotation=90)"
   ]
  },
  {
   "cell_type": "markdown",
   "metadata": {},
   "source": [
    "## Month \n",
    "### _Month wise crime occurings recorded._"
   ]
  },
  {
   "cell_type": "code",
   "execution_count": 21,
   "metadata": {},
   "outputs": [
    {
     "data": {
      "text/plain": [
       "[<matplotlib.text.Text at 0x7ff94658ba90>,\n",
       " <matplotlib.text.Text at 0x7ff96059b6d8>,\n",
       " <matplotlib.text.Text at 0x7ff96069cf98>,\n",
       " <matplotlib.text.Text at 0x7ff96068f9b0>,\n",
       " <matplotlib.text.Text at 0x7ff9607066d8>,\n",
       " <matplotlib.text.Text at 0x7ff9606fb470>,\n",
       " <matplotlib.text.Text at 0x7ff9606f20f0>,\n",
       " <matplotlib.text.Text at 0x7ff9606e2a20>,\n",
       " <matplotlib.text.Text at 0x7ff9606daf60>,\n",
       " <matplotlib.text.Text at 0x7ff9606cfeb8>,\n",
       " <matplotlib.text.Text at 0x7ff960745780>,\n",
       " <matplotlib.text.Text at 0x7ff96073a160>]"
      ]
     },
     "execution_count": 21,
     "metadata": {},
     "output_type": "execute_result"
    },
    {
     "data": {
      "image/png": "[encoded data removed]",
      "text/plain": [
       "<matplotlib.figure.Figure at 0x7ff960b547b8>"
      ]
     },
     "metadata": {},
     "output_type": "display_data"
    }
   ],
   "source": [
    "plot = sns.countplot(x=columns[24], data=data)\n",
    "locs, labels = plt.xticks()\n",
    "plot.set_xticklabels(labels ,rotation=90)"
   ]
  },
  {
   "cell_type": "markdown",
   "metadata": {},
   "source": [
    "## Day \n",
    "### _Day wise crime occurings recorded._"
   ]
  },
  {
   "cell_type": "code",
   "execution_count": 22,
   "metadata": {},
   "outputs": [
    {
     "data": {
      "text/plain": [
       "[<matplotlib.text.Text at 0x7ff96070b2b0>,\n",
       " <matplotlib.text.Text at 0x7ff96070e5c0>,\n",
       " <matplotlib.text.Text at 0x7ff9464eb438>,\n",
       " <matplotlib.text.Text at 0x7ff9464ebe10>,\n",
       " <matplotlib.text.Text at 0x7ff9464f1828>,\n",
       " <matplotlib.text.Text at 0x7ff9464f4240>,\n",
       " <matplotlib.text.Text at 0x7ff9464f4c18>,\n",
       " <matplotlib.text.Text at 0x7ff9464f9630>,\n",
       " <matplotlib.text.Text at 0x7ff9464fd048>,\n",
       " <matplotlib.text.Text at 0x7ff9464fda20>,\n",
       " <matplotlib.text.Text at 0x7ff946502438>,\n",
       " <matplotlib.text.Text at 0x7ff946502e10>,\n",
       " <matplotlib.text.Text at 0x7ff946508828>,\n",
       " <matplotlib.text.Text at 0x7ff94650c240>,\n",
       " <matplotlib.text.Text at 0x7ff94650cc18>,\n",
       " <matplotlib.text.Text at 0x7ff946512630>,\n",
       " <matplotlib.text.Text at 0x7ff946517048>,\n",
       " <matplotlib.text.Text at 0x7ff946517a20>,\n",
       " <matplotlib.text.Text at 0x7ff94651c438>,\n",
       " <matplotlib.text.Text at 0x7ff94651ce10>,\n",
       " <matplotlib.text.Text at 0x7ff946523828>,\n",
       " <matplotlib.text.Text at 0x7ff9464a7240>,\n",
       " <matplotlib.text.Text at 0x7ff9464a7c18>,\n",
       " <matplotlib.text.Text at 0x7ff9464ac630>,\n",
       " <matplotlib.text.Text at 0x7ff9464b0048>,\n",
       " <matplotlib.text.Text at 0x7ff9464b0a20>,\n",
       " <matplotlib.text.Text at 0x7ff9464b5438>,\n",
       " <matplotlib.text.Text at 0x7ff9464b5e10>,\n",
       " <matplotlib.text.Text at 0x7ff9464ba828>,\n",
       " <matplotlib.text.Text at 0x7ff9464bf240>,\n",
       " <matplotlib.text.Text at 0x7ff9464bfc18>]"
      ]
     },
     "execution_count": 22,
     "metadata": {},
     "output_type": "execute_result"
    },
    {
     "data": {
      "image/png": "[encoded data removed]",
      "text/plain": [
       "<matplotlib.figure.Figure at 0x7ff946568710>"
      ]
     },
     "metadata": {},
     "output_type": "display_data"
    }
   ],
   "source": [
    "plot = sns.countplot(x=columns[23], data=data)\n",
    "locs, labels = plt.xticks()\n",
    "plot.set_xticklabels(labels ,rotation=90)"
   ]
  },
  {
   "cell_type": "markdown",
   "metadata": {},
   "source": [
    "# Preprocessing of the dataset"
   ]
  },
  {
   "cell_type": "markdown",
   "metadata": {},
   "source": [
    "### _removing unnessecary columns from the data set _"
   ]
  },
  {
   "cell_type": "code",
   "execution_count": 7,
   "metadata": {
    "collapsed": true
   },
   "outputs": [],
   "source": [
    "data.drop(['ID' ,'Case Number' ,'IUCR' ,'FBI Code' ,'X Coordinate', \n",
    "           'Y Coordinate' ,'Updated On' ,'Location'] ,axis=1 ,inplace =True)"
   ]
  },
  {
   "cell_type": "code",
   "execution_count": 8,
   "metadata": {},
   "outputs": [
    {
     "data": {
      "text/plain": [
       "\"\\ndata.drop(['Beat' ,'District' ,'Block' ] ,axis=1 ,inplace =True)\\n\""
      ]
     },
     "execution_count": 8,
     "metadata": {},
     "output_type": "execute_result"
    }
   ],
   "source": [
    "data.drop(['Community Area' \n",
    "           ,'Ward' ] ,axis=1 ,inplace =True)\n",
    "\"\"\"\n",
    "data.drop(['Beat' ,'District' ,'Block' ] ,axis=1 ,inplace =True)\n",
    "\"\"\"           "
   ]
  },
  {
   "cell_type": "markdown",
   "metadata": {},
   "source": [
    "#### _removing the unnecesssary date entries_"
   ]
  },
  {
   "cell_type": "code",
   "execution_count": 9,
   "metadata": {
    "collapsed": true
   },
   "outputs": [],
   "source": [
    "data.drop(['Date','CrimeYear'] ,axis = 1 ,inplace =True)"
   ]
  },
  {
   "cell_type": "code",
   "execution_count": 19,
   "metadata": {},
   "outputs": [
    {
     "data": {
      "text/plain": [
       "array(['Block', 'Primary Type', 'Description', 'Location Description',\n",
       "       'Arrest', 'Domestic', 'Beat', 'District', 'Year', 'Latitude',\n",
       "       'Longitude', 'Day', 'Month'], dtype=object)"
      ]
     },
     "execution_count": 19,
     "metadata": {},
     "output_type": "execute_result"
    }
   ],
   "source": [
    "data.columns.values"
   ]
  },
  {
   "cell_type": "code",
   "execution_count": 20,
   "metadata": {},
   "outputs": [
    {
     "data": {
      "text/plain": [
       "(6714444, 13)"
      ]
     },
     "execution_count": 20,
     "metadata": {},
     "output_type": "execute_result"
    }
   ],
   "source": [
    "data.shape"
   ]
  },
  {
   "cell_type": "code",
   "execution_count": 10,
   "metadata": {},
   "outputs": [
    {
     "data": {
      "text/html": [
       "<div>\n",
       "<style>\n",
       "    .dataframe thead tr:only-child th {\n",
       "        text-align: right;\n",
       "    }\n",
       "\n",
       "    .dataframe thead th {\n",
       "        text-align: left;\n",
       "    }\n",
       "\n",
       "    .dataframe tbody tr th {\n",
       "        vertical-align: top;\n",
       "    }\n",
       "</style>\n",
       "<table border=\"1\" class=\"dataframe\">\n",
       "  <thead>\n",
       "    <tr style=\"text-align: right;\">\n",
       "      <th></th>\n",
       "      <th>Block</th>\n",
       "      <th>Primary Type</th>\n",
       "      <th>Description</th>\n",
       "      <th>Location Description</th>\n",
       "      <th>Arrest</th>\n",
       "      <th>Domestic</th>\n",
       "      <th>Beat</th>\n",
       "      <th>District</th>\n",
       "      <th>Year</th>\n",
       "      <th>Latitude</th>\n",
       "      <th>Longitude</th>\n",
       "      <th>Day</th>\n",
       "      <th>Month</th>\n",
       "    </tr>\n",
       "  </thead>\n",
       "  <tbody>\n",
       "    <tr>\n",
       "      <th>0</th>\n",
       "      <td>047XX W OHIO ST</td>\n",
       "      <td>BATTERY</td>\n",
       "      <td>AGGRAVATED: HANDGUN</td>\n",
       "      <td>STREET</td>\n",
       "      <td>False</td>\n",
       "      <td>False</td>\n",
       "      <td>1111</td>\n",
       "      <td>11.0</td>\n",
       "      <td>2015</td>\n",
       "      <td>41.891399</td>\n",
       "      <td>-87.744385</td>\n",
       "      <td>18</td>\n",
       "      <td>3</td>\n",
       "    </tr>\n",
       "    <tr>\n",
       "      <th>1</th>\n",
       "      <td>066XX S MARSHFIELD AVE</td>\n",
       "      <td>OTHER OFFENSE</td>\n",
       "      <td>PAROLE VIOLATION</td>\n",
       "      <td>STREET</td>\n",
       "      <td>True</td>\n",
       "      <td>False</td>\n",
       "      <td>725</td>\n",
       "      <td>7.0</td>\n",
       "      <td>2015</td>\n",
       "      <td>41.773372</td>\n",
       "      <td>-87.665319</td>\n",
       "      <td>18</td>\n",
       "      <td>3</td>\n",
       "    </tr>\n",
       "    <tr>\n",
       "      <th>2</th>\n",
       "      <td>044XX S LAKE PARK AVE</td>\n",
       "      <td>BATTERY</td>\n",
       "      <td>DOMESTIC BATTERY SIMPLE</td>\n",
       "      <td>APARTMENT</td>\n",
       "      <td>False</td>\n",
       "      <td>True</td>\n",
       "      <td>222</td>\n",
       "      <td>2.0</td>\n",
       "      <td>2015</td>\n",
       "      <td>41.813861</td>\n",
       "      <td>-87.596643</td>\n",
       "      <td>18</td>\n",
       "      <td>3</td>\n",
       "    </tr>\n",
       "    <tr>\n",
       "      <th>3</th>\n",
       "      <td>051XX S MICHIGAN AVE</td>\n",
       "      <td>BATTERY</td>\n",
       "      <td>SIMPLE</td>\n",
       "      <td>APARTMENT</td>\n",
       "      <td>False</td>\n",
       "      <td>False</td>\n",
       "      <td>225</td>\n",
       "      <td>2.0</td>\n",
       "      <td>2015</td>\n",
       "      <td>41.800802</td>\n",
       "      <td>-87.622619</td>\n",
       "      <td>18</td>\n",
       "      <td>3</td>\n",
       "    </tr>\n",
       "    <tr>\n",
       "      <th>4</th>\n",
       "      <td>047XX W ADAMS ST</td>\n",
       "      <td>ROBBERY</td>\n",
       "      <td>ARMED: HANDGUN</td>\n",
       "      <td>SIDEWALK</td>\n",
       "      <td>False</td>\n",
       "      <td>False</td>\n",
       "      <td>1113</td>\n",
       "      <td>11.0</td>\n",
       "      <td>2015</td>\n",
       "      <td>41.878065</td>\n",
       "      <td>-87.743354</td>\n",
       "      <td>18</td>\n",
       "      <td>3</td>\n",
       "    </tr>\n",
       "  </tbody>\n",
       "</table>\n",
       "</div>"
      ],
      "text/plain": [
       "                    Block   Primary Type              Description  \\\n",
       "0         047XX W OHIO ST        BATTERY      AGGRAVATED: HANDGUN   \n",
       "1  066XX S MARSHFIELD AVE  OTHER OFFENSE         PAROLE VIOLATION   \n",
       "2   044XX S LAKE PARK AVE        BATTERY  DOMESTIC BATTERY SIMPLE   \n",
       "3    051XX S MICHIGAN AVE        BATTERY                   SIMPLE   \n",
       "4        047XX W ADAMS ST        ROBBERY           ARMED: HANDGUN   \n",
       "\n",
       "  Location Description  Arrest  Domestic  Beat  District  Year   Latitude  \\\n",
       "0               STREET   False     False  1111      11.0  2015  41.891399   \n",
       "1               STREET    True     False   725       7.0  2015  41.773372   \n",
       "2            APARTMENT   False      True   222       2.0  2015  41.813861   \n",
       "3            APARTMENT   False     False   225       2.0  2015  41.800802   \n",
       "4             SIDEWALK   False     False  1113      11.0  2015  41.878065   \n",
       "\n",
       "   Longitude  Day  Month  \n",
       "0 -87.744385   18      3  \n",
       "1 -87.665319   18      3  \n",
       "2 -87.596643   18      3  \n",
       "3 -87.622619   18      3  \n",
       "4 -87.743354   18      3  "
      ]
     },
     "execution_count": 10,
     "metadata": {},
     "output_type": "execute_result"
    }
   ],
   "source": [
    "data.head(5)"
   ]
  },
  {
   "cell_type": "code",
   "execution_count": 22,
   "metadata": {},
   "outputs": [
    {
     "name": "stdout",
     "output_type": "stream",
     "text": [
      "No of columns in data dataset: 13\n"
     ]
    }
   ],
   "source": [
    "print(\"No of columns in data dataset: \"+str(len(data.columns.values)))"
   ]
  },
  {
   "cell_type": "markdown",
   "metadata": {},
   "source": [
    "#### handling the null entries of the data set"
   ]
  },
  {
   "cell_type": "code",
   "execution_count": 11,
   "metadata": {},
   "outputs": [
    {
     "data": {
      "text/plain": [
       "Block                       0\n",
       "Primary Type                0\n",
       "Description                 0\n",
       "Location Description     3923\n",
       "Arrest                      0\n",
       "Domestic                    0\n",
       "Beat                        0\n",
       "District                   47\n",
       "Year                        0\n",
       "Latitude                59968\n",
       "Longitude               59968\n",
       "Day                         0\n",
       "Month                       0\n",
       "dtype: int64"
      ]
     },
     "execution_count": 11,
     "metadata": {},
     "output_type": "execute_result"
    }
   ],
   "source": [
    "data.isnull().sum()"
   ]
  },
  {
   "cell_type": "markdown",
   "metadata": {},
   "source": [
    "##### drop null values"
   ]
  },
  {
   "cell_type": "code",
   "execution_count": 12,
   "metadata": {
    "collapsed": true
   },
   "outputs": [],
   "source": [
    "data = data.dropna(axis=0 ,subset=['Latitude' , 'Longitude'])"
   ]
  },
  {
   "cell_type": "markdown",
   "metadata": {},
   "source": [
    "##### drop remaining null values"
   ]
  },
  {
   "cell_type": "code",
   "execution_count": 13,
   "metadata": {
    "collapsed": true
   },
   "outputs": [],
   "source": [
    "data = data.dropna(axis=0 , subset= ['Location Description'])\n"
   ]
  },
  {
   "cell_type": "code",
   "execution_count": 14,
   "metadata": {
    "collapsed": true
   },
   "outputs": [],
   "source": [
    "data = data.dropna(axis=0 , subset= ['District'])"
   ]
  },
  {
   "cell_type": "code",
   "execution_count": 15,
   "metadata": {},
   "outputs": [
    {
     "data": {
      "text/plain": [
       "Block                   0\n",
       "Primary Type            0\n",
       "Description             0\n",
       "Location Description    0\n",
       "Arrest                  0\n",
       "Domestic                0\n",
       "Beat                    0\n",
       "District                0\n",
       "Year                    0\n",
       "Latitude                0\n",
       "Longitude               0\n",
       "Day                     0\n",
       "Month                   0\n",
       "dtype: int64"
      ]
     },
     "execution_count": 15,
     "metadata": {},
     "output_type": "execute_result"
    }
   ],
   "source": [
    "data.isnull().sum()"
   ]
  },
  {
   "cell_type": "markdown",
   "metadata": {},
   "source": [
    "##### _shuffling data and reseting the index_"
   ]
  },
  {
   "cell_type": "code",
   "execution_count": 16,
   "metadata": {
    "collapsed": true
   },
   "outputs": [],
   "source": [
    "from sklearn.utils import shuffle\n",
    "data = shuffle(data)\n",
    "data=data.reset_index(drop=True)"
   ]
  },
  {
   "cell_type": "markdown",
   "metadata": {},
   "source": [
    "### Data Segregation"
   ]
  },
  {
   "cell_type": "markdown",
   "metadata": {},
   "source": [
    "#### Data for January"
   ]
  },
  {
   "cell_type": "code",
   "execution_count": 17,
   "metadata": {
    "collapsed": true
   },
   "outputs": [],
   "source": [
    "data_January =data[data['Month']==1]"
   ]
  },
  {
   "cell_type": "code",
   "execution_count": 18,
   "metadata": {},
   "outputs": [
    {
     "data": {
      "text/html": [
       "<div>\n",
       "<style>\n",
       "    .dataframe thead tr:only-child th {\n",
       "        text-align: right;\n",
       "    }\n",
       "\n",
       "    .dataframe thead th {\n",
       "        text-align: left;\n",
       "    }\n",
       "\n",
       "    .dataframe tbody tr th {\n",
       "        vertical-align: top;\n",
       "    }\n",
       "</style>\n",
       "<table border=\"1\" class=\"dataframe\">\n",
       "  <thead>\n",
       "    <tr style=\"text-align: right;\">\n",
       "      <th></th>\n",
       "      <th>Block</th>\n",
       "      <th>Primary Type</th>\n",
       "      <th>Description</th>\n",
       "      <th>Location Description</th>\n",
       "      <th>Arrest</th>\n",
       "      <th>Domestic</th>\n",
       "      <th>Beat</th>\n",
       "      <th>District</th>\n",
       "      <th>Year</th>\n",
       "      <th>Latitude</th>\n",
       "      <th>Longitude</th>\n",
       "      <th>Day</th>\n",
       "      <th>Month</th>\n",
       "    </tr>\n",
       "  </thead>\n",
       "  <tbody>\n",
       "    <tr>\n",
       "      <th>0</th>\n",
       "      <td>080XX S RHODES AVE</td>\n",
       "      <td>OTHER OFFENSE</td>\n",
       "      <td>HARASSMENT BY TELEPHONE</td>\n",
       "      <td>RESIDENCE</td>\n",
       "      <td>False</td>\n",
       "      <td>False</td>\n",
       "      <td>631</td>\n",
       "      <td>6.0</td>\n",
       "      <td>2004</td>\n",
       "      <td>41.748598</td>\n",
       "      <td>-87.611223</td>\n",
       "      <td>1</td>\n",
       "      <td>1</td>\n",
       "    </tr>\n",
       "    <tr>\n",
       "      <th>1</th>\n",
       "      <td>045XX W JACKSON BLVD</td>\n",
       "      <td>THEFT</td>\n",
       "      <td>$500 AND UNDER</td>\n",
       "      <td>VACANT LOT/LAND</td>\n",
       "      <td>False</td>\n",
       "      <td>False</td>\n",
       "      <td>1131</td>\n",
       "      <td>11.0</td>\n",
       "      <td>2013</td>\n",
       "      <td>41.876929</td>\n",
       "      <td>-87.738569</td>\n",
       "      <td>7</td>\n",
       "      <td>1</td>\n",
       "    </tr>\n",
       "    <tr>\n",
       "      <th>2</th>\n",
       "      <td>063XX S DR MARTIN LUTHER KING JR DR</td>\n",
       "      <td>THEFT</td>\n",
       "      <td>OVER $500</td>\n",
       "      <td>VACANT LOT/LAND</td>\n",
       "      <td>False</td>\n",
       "      <td>False</td>\n",
       "      <td>312</td>\n",
       "      <td>3.0</td>\n",
       "      <td>2003</td>\n",
       "      <td>41.779277</td>\n",
       "      <td>-87.615601</td>\n",
       "      <td>13</td>\n",
       "      <td>1</td>\n",
       "    </tr>\n",
       "    <tr>\n",
       "      <th>3</th>\n",
       "      <td>017XX W NORTH AVE</td>\n",
       "      <td>PROSTITUTION</td>\n",
       "      <td>SOLICIT ON PUBLIC WAY</td>\n",
       "      <td>STREET</td>\n",
       "      <td>True</td>\n",
       "      <td>False</td>\n",
       "      <td>1433</td>\n",
       "      <td>14.0</td>\n",
       "      <td>2003</td>\n",
       "      <td>41.910575</td>\n",
       "      <td>-87.671661</td>\n",
       "      <td>31</td>\n",
       "      <td>1</td>\n",
       "    </tr>\n",
       "    <tr>\n",
       "      <th>4</th>\n",
       "      <td>005XX N GREEN ST</td>\n",
       "      <td>THEFT</td>\n",
       "      <td>$500 AND UNDER</td>\n",
       "      <td>STREET</td>\n",
       "      <td>False</td>\n",
       "      <td>False</td>\n",
       "      <td>1323</td>\n",
       "      <td>12.0</td>\n",
       "      <td>2005</td>\n",
       "      <td>41.891459</td>\n",
       "      <td>-87.648797</td>\n",
       "      <td>9</td>\n",
       "      <td>1</td>\n",
       "    </tr>\n",
       "  </tbody>\n",
       "</table>\n",
       "</div>"
      ],
      "text/plain": [
       "                                 Block   Primary Type  \\\n",
       "0                   080XX S RHODES AVE  OTHER OFFENSE   \n",
       "1                 045XX W JACKSON BLVD          THEFT   \n",
       "2  063XX S DR MARTIN LUTHER KING JR DR          THEFT   \n",
       "3                    017XX W NORTH AVE   PROSTITUTION   \n",
       "4                     005XX N GREEN ST          THEFT   \n",
       "\n",
       "               Description Location Description  Arrest  Domestic  Beat  \\\n",
       "0  HARASSMENT BY TELEPHONE            RESIDENCE   False     False   631   \n",
       "1           $500 AND UNDER      VACANT LOT/LAND   False     False  1131   \n",
       "2                OVER $500      VACANT LOT/LAND   False     False   312   \n",
       "3    SOLICIT ON PUBLIC WAY               STREET    True     False  1433   \n",
       "4           $500 AND UNDER               STREET   False     False  1323   \n",
       "\n",
       "   District  Year   Latitude  Longitude  Day  Month  \n",
       "0       6.0  2004  41.748598 -87.611223    1      1  \n",
       "1      11.0  2013  41.876929 -87.738569    7      1  \n",
       "2       3.0  2003  41.779277 -87.615601   13      1  \n",
       "3      14.0  2003  41.910575 -87.671661   31      1  \n",
       "4      12.0  2005  41.891459 -87.648797    9      1  "
      ]
     },
     "execution_count": 18,
     "metadata": {},
     "output_type": "execute_result"
    }
   ],
   "source": [
    "data_January = shuffle(data_January)\n",
    "data_January=data_January.reset_index(drop=True)\n",
    "data_January.head(5)"
   ]
  },
  {
   "cell_type": "code",
   "execution_count": 19,
   "metadata": {},
   "outputs": [
    {
     "data": {
      "text/plain": [
       "(520745, 13)"
      ]
     },
     "execution_count": 19,
     "metadata": {},
     "output_type": "execute_result"
    }
   ],
   "source": [
    "data_January.shape"
   ]
  },
  {
   "cell_type": "code",
   "execution_count": 20,
   "metadata": {
    "collapsed": true
   },
   "outputs": [],
   "source": [
    "data_January.to_csv(\"January_Data.csv\", sep='\\t')"
   ]
  },
  {
   "cell_type": "markdown",
   "metadata": {},
   "source": [
    "##### Data for Febuary"
   ]
  },
  {
   "cell_type": "code",
   "execution_count": 21,
   "metadata": {
    "collapsed": true
   },
   "outputs": [],
   "source": [
    "data_Febuary =data[data['Month']==2]"
   ]
  },
  {
   "cell_type": "code",
   "execution_count": 22,
   "metadata": {},
   "outputs": [
    {
     "data": {
      "text/html": [
       "<div>\n",
       "<style>\n",
       "    .dataframe thead tr:only-child th {\n",
       "        text-align: right;\n",
       "    }\n",
       "\n",
       "    .dataframe thead th {\n",
       "        text-align: left;\n",
       "    }\n",
       "\n",
       "    .dataframe tbody tr th {\n",
       "        vertical-align: top;\n",
       "    }\n",
       "</style>\n",
       "<table border=\"1\" class=\"dataframe\">\n",
       "  <thead>\n",
       "    <tr style=\"text-align: right;\">\n",
       "      <th></th>\n",
       "      <th>Block</th>\n",
       "      <th>Primary Type</th>\n",
       "      <th>Description</th>\n",
       "      <th>Location Description</th>\n",
       "      <th>Arrest</th>\n",
       "      <th>Domestic</th>\n",
       "      <th>Beat</th>\n",
       "      <th>District</th>\n",
       "      <th>Year</th>\n",
       "      <th>Latitude</th>\n",
       "      <th>Longitude</th>\n",
       "      <th>Day</th>\n",
       "      <th>Month</th>\n",
       "    </tr>\n",
       "  </thead>\n",
       "  <tbody>\n",
       "    <tr>\n",
       "      <th>0</th>\n",
       "      <td>018XX E 87TH ST</td>\n",
       "      <td>BATTERY</td>\n",
       "      <td>PRO EMP HANDS NO/MIN INJURY</td>\n",
       "      <td>CTA BUS STOP</td>\n",
       "      <td>True</td>\n",
       "      <td>False</td>\n",
       "      <td>412</td>\n",
       "      <td>4.0</td>\n",
       "      <td>2014</td>\n",
       "      <td>41.736991</td>\n",
       "      <td>-87.580269</td>\n",
       "      <td>10</td>\n",
       "      <td>2</td>\n",
       "    </tr>\n",
       "    <tr>\n",
       "      <th>1</th>\n",
       "      <td>054XX W HADDON AVE</td>\n",
       "      <td>NARCOTICS</td>\n",
       "      <td>POSS: CANNABIS 30GMS OR LESS</td>\n",
       "      <td>SIDEWALK</td>\n",
       "      <td>True</td>\n",
       "      <td>False</td>\n",
       "      <td>1524</td>\n",
       "      <td>15.0</td>\n",
       "      <td>2008</td>\n",
       "      <td>41.901271</td>\n",
       "      <td>-87.761985</td>\n",
       "      <td>15</td>\n",
       "      <td>2</td>\n",
       "    </tr>\n",
       "    <tr>\n",
       "      <th>2</th>\n",
       "      <td>016XX W 80TH ST</td>\n",
       "      <td>CRIMINAL DAMAGE</td>\n",
       "      <td>TO PROPERTY</td>\n",
       "      <td>APARTMENT</td>\n",
       "      <td>False</td>\n",
       "      <td>False</td>\n",
       "      <td>611</td>\n",
       "      <td>6.0</td>\n",
       "      <td>2004</td>\n",
       "      <td>41.748523</td>\n",
       "      <td>-87.664086</td>\n",
       "      <td>14</td>\n",
       "      <td>2</td>\n",
       "    </tr>\n",
       "    <tr>\n",
       "      <th>3</th>\n",
       "      <td>055XX W CHICAGO AVE</td>\n",
       "      <td>ROBBERY</td>\n",
       "      <td>ARMED: HANDGUN</td>\n",
       "      <td>SIDEWALK</td>\n",
       "      <td>False</td>\n",
       "      <td>False</td>\n",
       "      <td>1524</td>\n",
       "      <td>15.0</td>\n",
       "      <td>2004</td>\n",
       "      <td>41.894861</td>\n",
       "      <td>-87.764341</td>\n",
       "      <td>18</td>\n",
       "      <td>2</td>\n",
       "    </tr>\n",
       "    <tr>\n",
       "      <th>4</th>\n",
       "      <td>010XX N SPRINGFIELD AVE</td>\n",
       "      <td>BATTERY</td>\n",
       "      <td>DOMESTIC BATTERY SIMPLE</td>\n",
       "      <td>RESIDENCE</td>\n",
       "      <td>False</td>\n",
       "      <td>True</td>\n",
       "      <td>1112</td>\n",
       "      <td>11.0</td>\n",
       "      <td>2004</td>\n",
       "      <td>41.899686</td>\n",
       "      <td>-87.723771</td>\n",
       "      <td>6</td>\n",
       "      <td>2</td>\n",
       "    </tr>\n",
       "  </tbody>\n",
       "</table>\n",
       "</div>"
      ],
      "text/plain": [
       "                     Block     Primary Type                   Description  \\\n",
       "0          018XX E 87TH ST          BATTERY   PRO EMP HANDS NO/MIN INJURY   \n",
       "1       054XX W HADDON AVE        NARCOTICS  POSS: CANNABIS 30GMS OR LESS   \n",
       "2          016XX W 80TH ST  CRIMINAL DAMAGE                   TO PROPERTY   \n",
       "3      055XX W CHICAGO AVE          ROBBERY                ARMED: HANDGUN   \n",
       "4  010XX N SPRINGFIELD AVE          BATTERY       DOMESTIC BATTERY SIMPLE   \n",
       "\n",
       "  Location Description  Arrest  Domestic  Beat  District  Year   Latitude  \\\n",
       "0         CTA BUS STOP    True     False   412       4.0  2014  41.736991   \n",
       "1             SIDEWALK    True     False  1524      15.0  2008  41.901271   \n",
       "2            APARTMENT   False     False   611       6.0  2004  41.748523   \n",
       "3             SIDEWALK   False     False  1524      15.0  2004  41.894861   \n",
       "4            RESIDENCE   False      True  1112      11.0  2004  41.899686   \n",
       "\n",
       "   Longitude  Day  Month  \n",
       "0 -87.580269   10      2  \n",
       "1 -87.761985   15      2  \n",
       "2 -87.664086   14      2  \n",
       "3 -87.764341   18      2  \n",
       "4 -87.723771    6      2  "
      ]
     },
     "execution_count": 22,
     "metadata": {},
     "output_type": "execute_result"
    }
   ],
   "source": [
    "data_Febuary = shuffle(data_Febuary)\n",
    "data_Febuary=data_Febuary.reset_index(drop=True)\n",
    "data_Febuary.head(5)"
   ]
  },
  {
   "cell_type": "code",
   "execution_count": 23,
   "metadata": {},
   "outputs": [
    {
     "data": {
      "text/plain": [
       "(458879, 13)"
      ]
     },
     "execution_count": 23,
     "metadata": {},
     "output_type": "execute_result"
    }
   ],
   "source": [
    "data_Febuary.shape"
   ]
  },
  {
   "cell_type": "code",
   "execution_count": 24,
   "metadata": {
    "collapsed": true
   },
   "outputs": [],
   "source": [
    "data_Febuary.to_csv(\"Febuary_Data.csv\", sep='\\t')"
   ]
  },
  {
   "cell_type": "markdown",
   "metadata": {},
   "source": [
    "#### Data for March"
   ]
  },
  {
   "cell_type": "code",
   "execution_count": 25,
   "metadata": {},
   "outputs": [
    {
     "data": {
      "text/html": [
       "<div>\n",
       "<style>\n",
       "    .dataframe thead tr:only-child th {\n",
       "        text-align: right;\n",
       "    }\n",
       "\n",
       "    .dataframe thead th {\n",
       "        text-align: left;\n",
       "    }\n",
       "\n",
       "    .dataframe tbody tr th {\n",
       "        vertical-align: top;\n",
       "    }\n",
       "</style>\n",
       "<table border=\"1\" class=\"dataframe\">\n",
       "  <thead>\n",
       "    <tr style=\"text-align: right;\">\n",
       "      <th></th>\n",
       "      <th>Block</th>\n",
       "      <th>Primary Type</th>\n",
       "      <th>Description</th>\n",
       "      <th>Location Description</th>\n",
       "      <th>Arrest</th>\n",
       "      <th>Domestic</th>\n",
       "      <th>Beat</th>\n",
       "      <th>District</th>\n",
       "      <th>Year</th>\n",
       "      <th>Latitude</th>\n",
       "      <th>Longitude</th>\n",
       "      <th>Day</th>\n",
       "      <th>Month</th>\n",
       "    </tr>\n",
       "  </thead>\n",
       "  <tbody>\n",
       "    <tr>\n",
       "      <th>0</th>\n",
       "      <td>0000X W ROOT ST</td>\n",
       "      <td>ASSAULT</td>\n",
       "      <td>SIMPLE</td>\n",
       "      <td>SCHOOL, PUBLIC, BUILDING</td>\n",
       "      <td>False</td>\n",
       "      <td>False</td>\n",
       "      <td>214</td>\n",
       "      <td>2.0</td>\n",
       "      <td>2011</td>\n",
       "      <td>41.819193</td>\n",
       "      <td>-87.626752</td>\n",
       "      <td>4</td>\n",
       "      <td>3</td>\n",
       "    </tr>\n",
       "    <tr>\n",
       "      <th>1</th>\n",
       "      <td>028XX W DIVERSEY AVE</td>\n",
       "      <td>DECEPTIVE PRACTICE</td>\n",
       "      <td>THEFT OF LABOR/SERVICES</td>\n",
       "      <td>RESTAURANT</td>\n",
       "      <td>False</td>\n",
       "      <td>False</td>\n",
       "      <td>1411</td>\n",
       "      <td>14.0</td>\n",
       "      <td>2004</td>\n",
       "      <td>41.932092</td>\n",
       "      <td>-87.698351</td>\n",
       "      <td>23</td>\n",
       "      <td>3</td>\n",
       "    </tr>\n",
       "    <tr>\n",
       "      <th>2</th>\n",
       "      <td>024XX W 63RD ST</td>\n",
       "      <td>NARCOTICS</td>\n",
       "      <td>POSS: CRACK</td>\n",
       "      <td>SIDEWALK</td>\n",
       "      <td>True</td>\n",
       "      <td>False</td>\n",
       "      <td>825</td>\n",
       "      <td>8.0</td>\n",
       "      <td>2004</td>\n",
       "      <td>41.779237</td>\n",
       "      <td>-87.685170</td>\n",
       "      <td>28</td>\n",
       "      <td>3</td>\n",
       "    </tr>\n",
       "    <tr>\n",
       "      <th>3</th>\n",
       "      <td>022XX S RIDGEWAY AVE</td>\n",
       "      <td>CRIMINAL DAMAGE</td>\n",
       "      <td>TO VEHICLE</td>\n",
       "      <td>OTHER</td>\n",
       "      <td>False</td>\n",
       "      <td>True</td>\n",
       "      <td>1013</td>\n",
       "      <td>10.0</td>\n",
       "      <td>2003</td>\n",
       "      <td>41.851148</td>\n",
       "      <td>-87.718639</td>\n",
       "      <td>4</td>\n",
       "      <td>3</td>\n",
       "    </tr>\n",
       "    <tr>\n",
       "      <th>4</th>\n",
       "      <td>127XX S PEORIA ST</td>\n",
       "      <td>BATTERY</td>\n",
       "      <td>AGGRAVATED DOMESTIC BATTERY: OTHER DANG WEAPON</td>\n",
       "      <td>STREET</td>\n",
       "      <td>False</td>\n",
       "      <td>False</td>\n",
       "      <td>523</td>\n",
       "      <td>5.0</td>\n",
       "      <td>2017</td>\n",
       "      <td>41.662429</td>\n",
       "      <td>-87.643840</td>\n",
       "      <td>23</td>\n",
       "      <td>3</td>\n",
       "    </tr>\n",
       "  </tbody>\n",
       "</table>\n",
       "</div>"
      ],
      "text/plain": [
       "                  Block        Primary Type  \\\n",
       "0       0000X W ROOT ST             ASSAULT   \n",
       "1  028XX W DIVERSEY AVE  DECEPTIVE PRACTICE   \n",
       "2       024XX W 63RD ST           NARCOTICS   \n",
       "3  022XX S RIDGEWAY AVE     CRIMINAL DAMAGE   \n",
       "4     127XX S PEORIA ST             BATTERY   \n",
       "\n",
       "                                      Description      Location Description  \\\n",
       "0                                          SIMPLE  SCHOOL, PUBLIC, BUILDING   \n",
       "1                         THEFT OF LABOR/SERVICES                RESTAURANT   \n",
       "2                                     POSS: CRACK                  SIDEWALK   \n",
       "3                                      TO VEHICLE                     OTHER   \n",
       "4  AGGRAVATED DOMESTIC BATTERY: OTHER DANG WEAPON                    STREET   \n",
       "\n",
       "   Arrest  Domestic  Beat  District  Year   Latitude  Longitude  Day  Month  \n",
       "0   False     False   214       2.0  2011  41.819193 -87.626752    4      3  \n",
       "1   False     False  1411      14.0  2004  41.932092 -87.698351   23      3  \n",
       "2    True     False   825       8.0  2004  41.779237 -87.685170   28      3  \n",
       "3   False      True  1013      10.0  2003  41.851148 -87.718639    4      3  \n",
       "4   False     False   523       5.0  2017  41.662429 -87.643840   23      3  "
      ]
     },
     "execution_count": 25,
     "metadata": {},
     "output_type": "execute_result"
    }
   ],
   "source": [
    "data_March =data[data['Month']==3]\n",
    "data_March = shuffle(data_March)\n",
    "data_March=data_March.reset_index(drop=True)\n",
    "data_March.head(5)"
   ]
  },
  {
   "cell_type": "code",
   "execution_count": 26,
   "metadata": {},
   "outputs": [
    {
     "name": "stdout",
     "output_type": "stream",
     "text": [
      "(552433, 13)\n"
     ]
    }
   ],
   "source": [
    "print(data_March.shape)\n",
    "data_March.to_csv(\"March_Data.csv\", sep='\\t')"
   ]
  },
  {
   "cell_type": "markdown",
   "metadata": {},
   "source": [
    "###### Data for April"
   ]
  },
  {
   "cell_type": "code",
   "execution_count": 27,
   "metadata": {},
   "outputs": [
    {
     "data": {
      "text/html": [
       "<div>\n",
       "<style>\n",
       "    .dataframe thead tr:only-child th {\n",
       "        text-align: right;\n",
       "    }\n",
       "\n",
       "    .dataframe thead th {\n",
       "        text-align: left;\n",
       "    }\n",
       "\n",
       "    .dataframe tbody tr th {\n",
       "        vertical-align: top;\n",
       "    }\n",
       "</style>\n",
       "<table border=\"1\" class=\"dataframe\">\n",
       "  <thead>\n",
       "    <tr style=\"text-align: right;\">\n",
       "      <th></th>\n",
       "      <th>Block</th>\n",
       "      <th>Primary Type</th>\n",
       "      <th>Description</th>\n",
       "      <th>Location Description</th>\n",
       "      <th>Arrest</th>\n",
       "      <th>Domestic</th>\n",
       "      <th>Beat</th>\n",
       "      <th>District</th>\n",
       "      <th>Year</th>\n",
       "      <th>Latitude</th>\n",
       "      <th>Longitude</th>\n",
       "      <th>Day</th>\n",
       "      <th>Month</th>\n",
       "    </tr>\n",
       "  </thead>\n",
       "  <tbody>\n",
       "    <tr>\n",
       "      <th>0</th>\n",
       "      <td>063XX S CICERO AVE</td>\n",
       "      <td>CRIMINAL DAMAGE</td>\n",
       "      <td>TO VEHICLE</td>\n",
       "      <td>STREET</td>\n",
       "      <td>True</td>\n",
       "      <td>False</td>\n",
       "      <td>813</td>\n",
       "      <td>8.0</td>\n",
       "      <td>2013</td>\n",
       "      <td>41.777786</td>\n",
       "      <td>-87.742272</td>\n",
       "      <td>30</td>\n",
       "      <td>4</td>\n",
       "    </tr>\n",
       "    <tr>\n",
       "      <th>1</th>\n",
       "      <td>037XX W CHICAGO AVE</td>\n",
       "      <td>NARCOTICS</td>\n",
       "      <td>POSS: CANNABIS 30GMS OR LESS</td>\n",
       "      <td>PARKING LOT/GARAGE(NON.RESID.)</td>\n",
       "      <td>True</td>\n",
       "      <td>False</td>\n",
       "      <td>1112</td>\n",
       "      <td>11.0</td>\n",
       "      <td>2013</td>\n",
       "      <td>41.895421</td>\n",
       "      <td>-87.720539</td>\n",
       "      <td>26</td>\n",
       "      <td>4</td>\n",
       "    </tr>\n",
       "    <tr>\n",
       "      <th>2</th>\n",
       "      <td>064XX S SANGAMON ST</td>\n",
       "      <td>MOTOR VEHICLE THEFT</td>\n",
       "      <td>AUTOMOBILE</td>\n",
       "      <td>STREET</td>\n",
       "      <td>False</td>\n",
       "      <td>False</td>\n",
       "      <td>723</td>\n",
       "      <td>7.0</td>\n",
       "      <td>2008</td>\n",
       "      <td>41.777237</td>\n",
       "      <td>-87.648363</td>\n",
       "      <td>23</td>\n",
       "      <td>4</td>\n",
       "    </tr>\n",
       "    <tr>\n",
       "      <th>3</th>\n",
       "      <td>026XX S PULASKI RD</td>\n",
       "      <td>ROBBERY</td>\n",
       "      <td>ARMED: OTHER DANGEROUS WEAPON</td>\n",
       "      <td>STREET</td>\n",
       "      <td>False</td>\n",
       "      <td>False</td>\n",
       "      <td>1031</td>\n",
       "      <td>10.0</td>\n",
       "      <td>2013</td>\n",
       "      <td>41.843680</td>\n",
       "      <td>-87.724531</td>\n",
       "      <td>10</td>\n",
       "      <td>4</td>\n",
       "    </tr>\n",
       "    <tr>\n",
       "      <th>4</th>\n",
       "      <td>003XX S HOMAN AVE</td>\n",
       "      <td>OTHER OFFENSE</td>\n",
       "      <td>SEX OFFENDER: FAIL REG NEW ADD</td>\n",
       "      <td>APARTMENT</td>\n",
       "      <td>True</td>\n",
       "      <td>False</td>\n",
       "      <td>1133</td>\n",
       "      <td>11.0</td>\n",
       "      <td>2011</td>\n",
       "      <td>41.876458</td>\n",
       "      <td>-87.710854</td>\n",
       "      <td>20</td>\n",
       "      <td>4</td>\n",
       "    </tr>\n",
       "  </tbody>\n",
       "</table>\n",
       "</div>"
      ],
      "text/plain": [
       "                 Block         Primary Type                     Description  \\\n",
       "0   063XX S CICERO AVE      CRIMINAL DAMAGE                      TO VEHICLE   \n",
       "1  037XX W CHICAGO AVE            NARCOTICS    POSS: CANNABIS 30GMS OR LESS   \n",
       "2  064XX S SANGAMON ST  MOTOR VEHICLE THEFT                      AUTOMOBILE   \n",
       "3   026XX S PULASKI RD              ROBBERY   ARMED: OTHER DANGEROUS WEAPON   \n",
       "4    003XX S HOMAN AVE        OTHER OFFENSE  SEX OFFENDER: FAIL REG NEW ADD   \n",
       "\n",
       "             Location Description  Arrest  Domestic  Beat  District  Year  \\\n",
       "0                          STREET    True     False   813       8.0  2013   \n",
       "1  PARKING LOT/GARAGE(NON.RESID.)    True     False  1112      11.0  2013   \n",
       "2                          STREET   False     False   723       7.0  2008   \n",
       "3                          STREET   False     False  1031      10.0  2013   \n",
       "4                       APARTMENT    True     False  1133      11.0  2011   \n",
       "\n",
       "    Latitude  Longitude  Day  Month  \n",
       "0  41.777786 -87.742272   30      4  \n",
       "1  41.895421 -87.720539   26      4  \n",
       "2  41.777237 -87.648363   23      4  \n",
       "3  41.843680 -87.724531   10      4  \n",
       "4  41.876458 -87.710854   20      4  "
      ]
     },
     "execution_count": 27,
     "metadata": {},
     "output_type": "execute_result"
    }
   ],
   "source": [
    "data_April =data[data['Month']==4]\n",
    "data_April = shuffle(data_April)\n",
    "data_April=data_April.reset_index(drop=True)\n",
    "data_April.head(5)"
   ]
  },
  {
   "cell_type": "code",
   "execution_count": 28,
   "metadata": {},
   "outputs": [
    {
     "name": "stdout",
     "output_type": "stream",
     "text": [
      "(553859, 13)\n"
     ]
    }
   ],
   "source": [
    "print(data_April.shape)\n",
    "data_April.to_csv(\"April_Data.csv\", sep='\\t')"
   ]
  },
  {
   "cell_type": "markdown",
   "metadata": {},
   "source": [
    "#### Data for May"
   ]
  },
  {
   "cell_type": "code",
   "execution_count": 29,
   "metadata": {},
   "outputs": [
    {
     "data": {
      "text/html": [
       "<div>\n",
       "<style>\n",
       "    .dataframe thead tr:only-child th {\n",
       "        text-align: right;\n",
       "    }\n",
       "\n",
       "    .dataframe thead th {\n",
       "        text-align: left;\n",
       "    }\n",
       "\n",
       "    .dataframe tbody tr th {\n",
       "        vertical-align: top;\n",
       "    }\n",
       "</style>\n",
       "<table border=\"1\" class=\"dataframe\">\n",
       "  <thead>\n",
       "    <tr style=\"text-align: right;\">\n",
       "      <th></th>\n",
       "      <th>Block</th>\n",
       "      <th>Primary Type</th>\n",
       "      <th>Description</th>\n",
       "      <th>Location Description</th>\n",
       "      <th>Arrest</th>\n",
       "      <th>Domestic</th>\n",
       "      <th>Beat</th>\n",
       "      <th>District</th>\n",
       "      <th>Year</th>\n",
       "      <th>Latitude</th>\n",
       "      <th>Longitude</th>\n",
       "      <th>Day</th>\n",
       "      <th>Month</th>\n",
       "    </tr>\n",
       "  </thead>\n",
       "  <tbody>\n",
       "    <tr>\n",
       "      <th>0</th>\n",
       "      <td>0000X W JACKSON BLVD</td>\n",
       "      <td>OTHER OFFENSE</td>\n",
       "      <td>OTHER VEHICLE OFFENSE</td>\n",
       "      <td>STREET</td>\n",
       "      <td>True</td>\n",
       "      <td>False</td>\n",
       "      <td>112</td>\n",
       "      <td>1.0</td>\n",
       "      <td>2003</td>\n",
       "      <td>41.878155</td>\n",
       "      <td>-87.630131</td>\n",
       "      <td>27</td>\n",
       "      <td>5</td>\n",
       "    </tr>\n",
       "    <tr>\n",
       "      <th>1</th>\n",
       "      <td>075XX S LOWE ST</td>\n",
       "      <td>THEFT</td>\n",
       "      <td>$500 AND UNDER</td>\n",
       "      <td>PARK PROPERTY</td>\n",
       "      <td>False</td>\n",
       "      <td>False</td>\n",
       "      <td>621</td>\n",
       "      <td>6.0</td>\n",
       "      <td>2008</td>\n",
       "      <td>41.757363</td>\n",
       "      <td>-87.640570</td>\n",
       "      <td>13</td>\n",
       "      <td>5</td>\n",
       "    </tr>\n",
       "    <tr>\n",
       "      <th>2</th>\n",
       "      <td>034XX S HAMILTON AVE</td>\n",
       "      <td>NARCOTICS</td>\n",
       "      <td>POSS: CANNABIS 30GMS OR LESS</td>\n",
       "      <td>PARK PROPERTY</td>\n",
       "      <td>True</td>\n",
       "      <td>False</td>\n",
       "      <td>912</td>\n",
       "      <td>9.0</td>\n",
       "      <td>2013</td>\n",
       "      <td>41.831297</td>\n",
       "      <td>-87.678976</td>\n",
       "      <td>7</td>\n",
       "      <td>5</td>\n",
       "    </tr>\n",
       "    <tr>\n",
       "      <th>3</th>\n",
       "      <td>048XX W HURON ST</td>\n",
       "      <td>MOTOR VEHICLE THEFT</td>\n",
       "      <td>AUTOMOBILE</td>\n",
       "      <td>STREET</td>\n",
       "      <td>False</td>\n",
       "      <td>False</td>\n",
       "      <td>1531</td>\n",
       "      <td>15.0</td>\n",
       "      <td>2003</td>\n",
       "      <td>41.893153</td>\n",
       "      <td>-87.746631</td>\n",
       "      <td>11</td>\n",
       "      <td>5</td>\n",
       "    </tr>\n",
       "    <tr>\n",
       "      <th>4</th>\n",
       "      <td>036XX N CLARK ST</td>\n",
       "      <td>ASSAULT</td>\n",
       "      <td>AGGRAVATED: OTHER DANG WEAPON</td>\n",
       "      <td>RESTAURANT</td>\n",
       "      <td>True</td>\n",
       "      <td>False</td>\n",
       "      <td>1923</td>\n",
       "      <td>19.0</td>\n",
       "      <td>2003</td>\n",
       "      <td>41.947769</td>\n",
       "      <td>-87.656966</td>\n",
       "      <td>14</td>\n",
       "      <td>5</td>\n",
       "    </tr>\n",
       "  </tbody>\n",
       "</table>\n",
       "</div>"
      ],
      "text/plain": [
       "                  Block         Primary Type                    Description  \\\n",
       "0  0000X W JACKSON BLVD        OTHER OFFENSE          OTHER VEHICLE OFFENSE   \n",
       "1       075XX S LOWE ST                THEFT                 $500 AND UNDER   \n",
       "2  034XX S HAMILTON AVE            NARCOTICS   POSS: CANNABIS 30GMS OR LESS   \n",
       "3      048XX W HURON ST  MOTOR VEHICLE THEFT                     AUTOMOBILE   \n",
       "4      036XX N CLARK ST              ASSAULT  AGGRAVATED: OTHER DANG WEAPON   \n",
       "\n",
       "  Location Description  Arrest  Domestic  Beat  District  Year   Latitude  \\\n",
       "0               STREET    True     False   112       1.0  2003  41.878155   \n",
       "1        PARK PROPERTY   False     False   621       6.0  2008  41.757363   \n",
       "2        PARK PROPERTY    True     False   912       9.0  2013  41.831297   \n",
       "3               STREET   False     False  1531      15.0  2003  41.893153   \n",
       "4           RESTAURANT    True     False  1923      19.0  2003  41.947769   \n",
       "\n",
       "   Longitude  Day  Month  \n",
       "0 -87.630131   27      5  \n",
       "1 -87.640570   13      5  \n",
       "2 -87.678976    7      5  \n",
       "3 -87.746631   11      5  \n",
       "4 -87.656966   14      5  "
      ]
     },
     "execution_count": 29,
     "metadata": {},
     "output_type": "execute_result"
    }
   ],
   "source": [
    "data_May =data[data['Month']==5]\n",
    "data_May = shuffle(data_May)\n",
    "data_May=data_May.reset_index(drop=True)\n",
    "data_May.head(5)"
   ]
  },
  {
   "cell_type": "code",
   "execution_count": 30,
   "metadata": {},
   "outputs": [
    {
     "name": "stdout",
     "output_type": "stream",
     "text": [
      "(598996, 13)\n"
     ]
    }
   ],
   "source": [
    "print(data_May.shape)\n",
    "data_May.to_csv(\"May_Data.csv\", sep='\\t')"
   ]
  },
  {
   "cell_type": "markdown",
   "metadata": {},
   "source": [
    "#### Data for June"
   ]
  },
  {
   "cell_type": "code",
   "execution_count": 32,
   "metadata": {},
   "outputs": [
    {
     "data": {
      "text/html": [
       "<div>\n",
       "<style>\n",
       "    .dataframe thead tr:only-child th {\n",
       "        text-align: right;\n",
       "    }\n",
       "\n",
       "    .dataframe thead th {\n",
       "        text-align: left;\n",
       "    }\n",
       "\n",
       "    .dataframe tbody tr th {\n",
       "        vertical-align: top;\n",
       "    }\n",
       "</style>\n",
       "<table border=\"1\" class=\"dataframe\">\n",
       "  <thead>\n",
       "    <tr style=\"text-align: right;\">\n",
       "      <th></th>\n",
       "      <th>Block</th>\n",
       "      <th>Primary Type</th>\n",
       "      <th>Description</th>\n",
       "      <th>Location Description</th>\n",
       "      <th>Arrest</th>\n",
       "      <th>Domestic</th>\n",
       "      <th>Beat</th>\n",
       "      <th>District</th>\n",
       "      <th>Year</th>\n",
       "      <th>Latitude</th>\n",
       "      <th>Longitude</th>\n",
       "      <th>Day</th>\n",
       "      <th>Month</th>\n",
       "    </tr>\n",
       "  </thead>\n",
       "  <tbody>\n",
       "    <tr>\n",
       "      <th>0</th>\n",
       "      <td>008XX N STATE ST</td>\n",
       "      <td>THEFT</td>\n",
       "      <td>RETAIL THEFT</td>\n",
       "      <td>SMALL RETAIL STORE</td>\n",
       "      <td>False</td>\n",
       "      <td>False</td>\n",
       "      <td>1833</td>\n",
       "      <td>18.0</td>\n",
       "      <td>2006</td>\n",
       "      <td>41.897805</td>\n",
       "      <td>-87.628230</td>\n",
       "      <td>21</td>\n",
       "      <td>6</td>\n",
       "    </tr>\n",
       "    <tr>\n",
       "      <th>1</th>\n",
       "      <td>073XX N SHERIDAN RD</td>\n",
       "      <td>THEFT</td>\n",
       "      <td>OVER $500</td>\n",
       "      <td>STREET</td>\n",
       "      <td>False</td>\n",
       "      <td>False</td>\n",
       "      <td>2423</td>\n",
       "      <td>24.0</td>\n",
       "      <td>2006</td>\n",
       "      <td>42.014216</td>\n",
       "      <td>-87.664229</td>\n",
       "      <td>24</td>\n",
       "      <td>6</td>\n",
       "    </tr>\n",
       "    <tr>\n",
       "      <th>2</th>\n",
       "      <td>065XX S NORMAL BLVD</td>\n",
       "      <td>NARCOTICS</td>\n",
       "      <td>ATTEMPT POSSESSION NARCOTICS</td>\n",
       "      <td>STREET</td>\n",
       "      <td>True</td>\n",
       "      <td>False</td>\n",
       "      <td>722</td>\n",
       "      <td>7.0</td>\n",
       "      <td>2007</td>\n",
       "      <td>41.776109</td>\n",
       "      <td>-87.636908</td>\n",
       "      <td>21</td>\n",
       "      <td>6</td>\n",
       "    </tr>\n",
       "    <tr>\n",
       "      <th>3</th>\n",
       "      <td>020XX N BINGHAM ST</td>\n",
       "      <td>CRIMINAL DAMAGE</td>\n",
       "      <td>TO VEHICLE</td>\n",
       "      <td>STREET</td>\n",
       "      <td>False</td>\n",
       "      <td>False</td>\n",
       "      <td>1431</td>\n",
       "      <td>14.0</td>\n",
       "      <td>2001</td>\n",
       "      <td>41.917914</td>\n",
       "      <td>-87.691140</td>\n",
       "      <td>13</td>\n",
       "      <td>6</td>\n",
       "    </tr>\n",
       "    <tr>\n",
       "      <th>4</th>\n",
       "      <td>053XX S CALUMET AVE</td>\n",
       "      <td>CRIMINAL DAMAGE</td>\n",
       "      <td>TO PROPERTY</td>\n",
       "      <td>APARTMENT</td>\n",
       "      <td>False</td>\n",
       "      <td>False</td>\n",
       "      <td>232</td>\n",
       "      <td>2.0</td>\n",
       "      <td>2009</td>\n",
       "      <td>41.797759</td>\n",
       "      <td>-87.617680</td>\n",
       "      <td>20</td>\n",
       "      <td>6</td>\n",
       "    </tr>\n",
       "  </tbody>\n",
       "</table>\n",
       "</div>"
      ],
      "text/plain": [
       "                 Block     Primary Type                   Description  \\\n",
       "0     008XX N STATE ST            THEFT                  RETAIL THEFT   \n",
       "1  073XX N SHERIDAN RD            THEFT                     OVER $500   \n",
       "2  065XX S NORMAL BLVD        NARCOTICS  ATTEMPT POSSESSION NARCOTICS   \n",
       "3   020XX N BINGHAM ST  CRIMINAL DAMAGE                    TO VEHICLE   \n",
       "4  053XX S CALUMET AVE  CRIMINAL DAMAGE                   TO PROPERTY   \n",
       "\n",
       "  Location Description  Arrest  Domestic  Beat  District  Year   Latitude  \\\n",
       "0   SMALL RETAIL STORE   False     False  1833      18.0  2006  41.897805   \n",
       "1               STREET   False     False  2423      24.0  2006  42.014216   \n",
       "2               STREET    True     False   722       7.0  2007  41.776109   \n",
       "3               STREET   False     False  1431      14.0  2001  41.917914   \n",
       "4            APARTMENT   False     False   232       2.0  2009  41.797759   \n",
       "\n",
       "   Longitude  Day  Month  \n",
       "0 -87.628230   21      6  \n",
       "1 -87.664229   24      6  \n",
       "2 -87.636908   21      6  \n",
       "3 -87.691140   13      6  \n",
       "4 -87.617680   20      6  "
      ]
     },
     "execution_count": 32,
     "metadata": {},
     "output_type": "execute_result"
    }
   ],
   "source": [
    "data_June =data[data['Month']==6]\n",
    "data_June = shuffle(data_June)\n",
    "data_June=data_June.reset_index(drop=True)\n",
    "data_June.head(5)"
   ]
  },
  {
   "cell_type": "code",
   "execution_count": 33,
   "metadata": {},
   "outputs": [
    {
     "name": "stdout",
     "output_type": "stream",
     "text": [
      "(594811, 13)\n"
     ]
    }
   ],
   "source": [
    "print(data_June.shape)\n",
    "data_June.to_csv(\"June_Data.csv\", sep='\\t')"
   ]
  },
  {
   "cell_type": "markdown",
   "metadata": {},
   "source": [
    "#### Data for July"
   ]
  },
  {
   "cell_type": "code",
   "execution_count": 34,
   "metadata": {},
   "outputs": [
    {
     "data": {
      "text/html": [
       "<div>\n",
       "<style>\n",
       "    .dataframe thead tr:only-child th {\n",
       "        text-align: right;\n",
       "    }\n",
       "\n",
       "    .dataframe thead th {\n",
       "        text-align: left;\n",
       "    }\n",
       "\n",
       "    .dataframe tbody tr th {\n",
       "        vertical-align: top;\n",
       "    }\n",
       "</style>\n",
       "<table border=\"1\" class=\"dataframe\">\n",
       "  <thead>\n",
       "    <tr style=\"text-align: right;\">\n",
       "      <th></th>\n",
       "      <th>Block</th>\n",
       "      <th>Primary Type</th>\n",
       "      <th>Description</th>\n",
       "      <th>Location Description</th>\n",
       "      <th>Arrest</th>\n",
       "      <th>Domestic</th>\n",
       "      <th>Beat</th>\n",
       "      <th>District</th>\n",
       "      <th>Year</th>\n",
       "      <th>Latitude</th>\n",
       "      <th>Longitude</th>\n",
       "      <th>Day</th>\n",
       "      <th>Month</th>\n",
       "    </tr>\n",
       "  </thead>\n",
       "  <tbody>\n",
       "    <tr>\n",
       "      <th>0</th>\n",
       "      <td>042XX W MONROE ST</td>\n",
       "      <td>CRIMINAL DAMAGE</td>\n",
       "      <td>TO PROPERTY</td>\n",
       "      <td>RESIDENCE</td>\n",
       "      <td>False</td>\n",
       "      <td>False</td>\n",
       "      <td>1115</td>\n",
       "      <td>11.0</td>\n",
       "      <td>2017</td>\n",
       "      <td>41.879693</td>\n",
       "      <td>-87.731353</td>\n",
       "      <td>7</td>\n",
       "      <td>7</td>\n",
       "    </tr>\n",
       "    <tr>\n",
       "      <th>1</th>\n",
       "      <td>038XX W 51ST ST</td>\n",
       "      <td>BURGLARY</td>\n",
       "      <td>FORCIBLE ENTRY</td>\n",
       "      <td>RESIDENCE-GARAGE</td>\n",
       "      <td>False</td>\n",
       "      <td>False</td>\n",
       "      <td>822</td>\n",
       "      <td>8.0</td>\n",
       "      <td>2003</td>\n",
       "      <td>41.800599</td>\n",
       "      <td>-87.720160</td>\n",
       "      <td>16</td>\n",
       "      <td>7</td>\n",
       "    </tr>\n",
       "    <tr>\n",
       "      <th>2</th>\n",
       "      <td>003XX N MAY ST</td>\n",
       "      <td>THEFT</td>\n",
       "      <td>OVER $500</td>\n",
       "      <td>STREET</td>\n",
       "      <td>False</td>\n",
       "      <td>False</td>\n",
       "      <td>1212</td>\n",
       "      <td>12.0</td>\n",
       "      <td>2003</td>\n",
       "      <td>41.887136</td>\n",
       "      <td>-87.655685</td>\n",
       "      <td>5</td>\n",
       "      <td>7</td>\n",
       "    </tr>\n",
       "    <tr>\n",
       "      <th>3</th>\n",
       "      <td>057XX N RIDGE AVE</td>\n",
       "      <td>OTHER OFFENSE</td>\n",
       "      <td>VIOLATE ORDER OF PROTECTION</td>\n",
       "      <td>APARTMENT</td>\n",
       "      <td>True</td>\n",
       "      <td>True</td>\n",
       "      <td>2013</td>\n",
       "      <td>20.0</td>\n",
       "      <td>2018</td>\n",
       "      <td>41.987262</td>\n",
       "      <td>-87.666009</td>\n",
       "      <td>7</td>\n",
       "      <td>7</td>\n",
       "    </tr>\n",
       "    <tr>\n",
       "      <th>4</th>\n",
       "      <td>039XX W DIVISION ST</td>\n",
       "      <td>OTHER OFFENSE</td>\n",
       "      <td>PAROLE VIOLATION</td>\n",
       "      <td>STREET</td>\n",
       "      <td>True</td>\n",
       "      <td>False</td>\n",
       "      <td>2535</td>\n",
       "      <td>25.0</td>\n",
       "      <td>2013</td>\n",
       "      <td>41.902687</td>\n",
       "      <td>-87.724518</td>\n",
       "      <td>23</td>\n",
       "      <td>7</td>\n",
       "    </tr>\n",
       "  </tbody>\n",
       "</table>\n",
       "</div>"
      ],
      "text/plain": [
       "                 Block     Primary Type                  Description  \\\n",
       "0    042XX W MONROE ST  CRIMINAL DAMAGE                  TO PROPERTY   \n",
       "1      038XX W 51ST ST         BURGLARY               FORCIBLE ENTRY   \n",
       "2       003XX N MAY ST            THEFT                    OVER $500   \n",
       "3    057XX N RIDGE AVE    OTHER OFFENSE  VIOLATE ORDER OF PROTECTION   \n",
       "4  039XX W DIVISION ST    OTHER OFFENSE             PAROLE VIOLATION   \n",
       "\n",
       "  Location Description  Arrest  Domestic  Beat  District  Year   Latitude  \\\n",
       "0            RESIDENCE   False     False  1115      11.0  2017  41.879693   \n",
       "1     RESIDENCE-GARAGE   False     False   822       8.0  2003  41.800599   \n",
       "2               STREET   False     False  1212      12.0  2003  41.887136   \n",
       "3            APARTMENT    True      True  2013      20.0  2018  41.987262   \n",
       "4               STREET    True     False  2535      25.0  2013  41.902687   \n",
       "\n",
       "   Longitude  Day  Month  \n",
       "0 -87.731353    7      7  \n",
       "1 -87.720160   16      7  \n",
       "2 -87.655685    5      7  \n",
       "3 -87.666009    7      7  \n",
       "4 -87.724518   23      7  "
      ]
     },
     "execution_count": 34,
     "metadata": {},
     "output_type": "execute_result"
    }
   ],
   "source": [
    "data_July =data[data['Month']==7]\n",
    "data_July = shuffle(data_July)\n",
    "data_July=data_July.reset_index(drop=True)\n",
    "data_July.head(5)"
   ]
  },
  {
   "cell_type": "code",
   "execution_count": 35,
   "metadata": {},
   "outputs": [
    {
     "name": "stdout",
     "output_type": "stream",
     "text": [
      "(625277, 13)\n"
     ]
    }
   ],
   "source": [
    "print(data_July.shape)\n",
    "data_July.to_csv(\"July_Data.csv\", sep='\\t')"
   ]
  },
  {
   "cell_type": "markdown",
   "metadata": {},
   "source": [
    "#### Data for August"
   ]
  },
  {
   "cell_type": "code",
   "execution_count": 50,
   "metadata": {},
   "outputs": [
    {
     "data": {
      "text/html": [
       "<div>\n",
       "<style>\n",
       "    .dataframe thead tr:only-child th {\n",
       "        text-align: right;\n",
       "    }\n",
       "\n",
       "    .dataframe thead th {\n",
       "        text-align: left;\n",
       "    }\n",
       "\n",
       "    .dataframe tbody tr th {\n",
       "        vertical-align: top;\n",
       "    }\n",
       "</style>\n",
       "<table border=\"1\" class=\"dataframe\">\n",
       "  <thead>\n",
       "    <tr style=\"text-align: right;\">\n",
       "      <th></th>\n",
       "      <th>Block</th>\n",
       "      <th>Primary Type</th>\n",
       "      <th>Description</th>\n",
       "      <th>Location Description</th>\n",
       "      <th>Arrest</th>\n",
       "      <th>Domestic</th>\n",
       "      <th>Beat</th>\n",
       "      <th>District</th>\n",
       "      <th>Year</th>\n",
       "      <th>Latitude</th>\n",
       "      <th>Longitude</th>\n",
       "      <th>Day</th>\n",
       "      <th>Month</th>\n",
       "    </tr>\n",
       "  </thead>\n",
       "  <tbody>\n",
       "    <tr>\n",
       "      <th>0</th>\n",
       "      <td>011XX S LAFLIN ST</td>\n",
       "      <td>BATTERY</td>\n",
       "      <td>AGG PO HANDS NO/MIN INJURY</td>\n",
       "      <td>DRIVEWAY - RESIDENTIAL</td>\n",
       "      <td>True</td>\n",
       "      <td>False</td>\n",
       "      <td>1231</td>\n",
       "      <td>12.0</td>\n",
       "      <td>2006</td>\n",
       "      <td>41.868220</td>\n",
       "      <td>-87.664047</td>\n",
       "      <td>16</td>\n",
       "      <td>8</td>\n",
       "    </tr>\n",
       "    <tr>\n",
       "      <th>1</th>\n",
       "      <td>022XX E 67TH ST</td>\n",
       "      <td>MOTOR VEHICLE THEFT</td>\n",
       "      <td>AUTOMOBILE</td>\n",
       "      <td>STREET</td>\n",
       "      <td>False</td>\n",
       "      <td>False</td>\n",
       "      <td>331</td>\n",
       "      <td>3.0</td>\n",
       "      <td>2009</td>\n",
       "      <td>41.773511</td>\n",
       "      <td>-87.570959</td>\n",
       "      <td>1</td>\n",
       "      <td>8</td>\n",
       "    </tr>\n",
       "    <tr>\n",
       "      <th>2</th>\n",
       "      <td>071XX S MARSHFIELD AVE</td>\n",
       "      <td>BATTERY</td>\n",
       "      <td>DOMESTIC BATTERY SIMPLE</td>\n",
       "      <td>RESIDENCE</td>\n",
       "      <td>True</td>\n",
       "      <td>True</td>\n",
       "      <td>735</td>\n",
       "      <td>7.0</td>\n",
       "      <td>2018</td>\n",
       "      <td>41.763902</td>\n",
       "      <td>-87.665007</td>\n",
       "      <td>19</td>\n",
       "      <td>8</td>\n",
       "    </tr>\n",
       "    <tr>\n",
       "      <th>3</th>\n",
       "      <td>037XX S RHODES AVE</td>\n",
       "      <td>NARCOTICS</td>\n",
       "      <td>POSS: HEROIN(WHITE)</td>\n",
       "      <td>OTHER</td>\n",
       "      <td>True</td>\n",
       "      <td>False</td>\n",
       "      <td>212</td>\n",
       "      <td>2.0</td>\n",
       "      <td>2005</td>\n",
       "      <td>41.827278</td>\n",
       "      <td>-87.614438</td>\n",
       "      <td>31</td>\n",
       "      <td>8</td>\n",
       "    </tr>\n",
       "    <tr>\n",
       "      <th>4</th>\n",
       "      <td>105XX S LA SALLE ST</td>\n",
       "      <td>NARCOTICS</td>\n",
       "      <td>POSS: CANNABIS 30GMS OR LESS</td>\n",
       "      <td>STREET</td>\n",
       "      <td>True</td>\n",
       "      <td>False</td>\n",
       "      <td>512</td>\n",
       "      <td>5.0</td>\n",
       "      <td>2009</td>\n",
       "      <td>41.702973</td>\n",
       "      <td>-87.626972</td>\n",
       "      <td>7</td>\n",
       "      <td>8</td>\n",
       "    </tr>\n",
       "  </tbody>\n",
       "</table>\n",
       "</div>"
      ],
      "text/plain": [
       "                    Block         Primary Type                   Description  \\\n",
       "0       011XX S LAFLIN ST              BATTERY    AGG PO HANDS NO/MIN INJURY   \n",
       "1         022XX E 67TH ST  MOTOR VEHICLE THEFT                    AUTOMOBILE   \n",
       "2  071XX S MARSHFIELD AVE              BATTERY       DOMESTIC BATTERY SIMPLE   \n",
       "3      037XX S RHODES AVE            NARCOTICS           POSS: HEROIN(WHITE)   \n",
       "4     105XX S LA SALLE ST            NARCOTICS  POSS: CANNABIS 30GMS OR LESS   \n",
       "\n",
       "     Location Description  Arrest  Domestic  Beat  District  Year   Latitude  \\\n",
       "0  DRIVEWAY - RESIDENTIAL    True     False  1231      12.0  2006  41.868220   \n",
       "1                  STREET   False     False   331       3.0  2009  41.773511   \n",
       "2               RESIDENCE    True      True   735       7.0  2018  41.763902   \n",
       "3                   OTHER    True     False   212       2.0  2005  41.827278   \n",
       "4                  STREET    True     False   512       5.0  2009  41.702973   \n",
       "\n",
       "   Longitude  Day  Month  \n",
       "0 -87.664047   16      8  \n",
       "1 -87.570959    1      8  \n",
       "2 -87.665007   19      8  \n",
       "3 -87.614438   31      8  \n",
       "4 -87.626972    7      8  "
      ]
     },
     "execution_count": 50,
     "metadata": {},
     "output_type": "execute_result"
    }
   ],
   "source": [
    "data_August=data[data['Month']==8]\n",
    "data_August = shuffle(data_August)\n",
    "data_August=data_August.reset_index(drop=True)\n",
    "data_August.head(5)"
   ]
  },
  {
   "cell_type": "code",
   "execution_count": 51,
   "metadata": {},
   "outputs": [
    {
     "name": "stdout",
     "output_type": "stream",
     "text": [
      "(618623, 13)\n"
     ]
    }
   ],
   "source": [
    "print(data_August.shape)\n",
    "data_August.to_csv(\"August_Data.csv\", sep='\\t')"
   ]
  },
  {
   "cell_type": "markdown",
   "metadata": {},
   "source": [
    "#### Data for September"
   ]
  },
  {
   "cell_type": "code",
   "execution_count": 53,
   "metadata": {},
   "outputs": [
    {
     "data": {
      "text/html": [
       "<div>\n",
       "<style>\n",
       "    .dataframe thead tr:only-child th {\n",
       "        text-align: right;\n",
       "    }\n",
       "\n",
       "    .dataframe thead th {\n",
       "        text-align: left;\n",
       "    }\n",
       "\n",
       "    .dataframe tbody tr th {\n",
       "        vertical-align: top;\n",
       "    }\n",
       "</style>\n",
       "<table border=\"1\" class=\"dataframe\">\n",
       "  <thead>\n",
       "    <tr style=\"text-align: right;\">\n",
       "      <th></th>\n",
       "      <th>Block</th>\n",
       "      <th>Primary Type</th>\n",
       "      <th>Description</th>\n",
       "      <th>Location Description</th>\n",
       "      <th>Arrest</th>\n",
       "      <th>Domestic</th>\n",
       "      <th>Beat</th>\n",
       "      <th>District</th>\n",
       "      <th>Year</th>\n",
       "      <th>Latitude</th>\n",
       "      <th>Longitude</th>\n",
       "      <th>Day</th>\n",
       "      <th>Month</th>\n",
       "    </tr>\n",
       "  </thead>\n",
       "  <tbody>\n",
       "    <tr>\n",
       "      <th>0</th>\n",
       "      <td>005XX S STATE ST</td>\n",
       "      <td>DECEPTIVE PRACTICE</td>\n",
       "      <td>FRAUD OR CONFIDENCE GAME</td>\n",
       "      <td>RESIDENCE</td>\n",
       "      <td>False</td>\n",
       "      <td>False</td>\n",
       "      <td>123</td>\n",
       "      <td>1.0</td>\n",
       "      <td>2015</td>\n",
       "      <td>41.875233</td>\n",
       "      <td>-87.627619</td>\n",
       "      <td>24</td>\n",
       "      <td>9</td>\n",
       "    </tr>\n",
       "    <tr>\n",
       "      <th>1</th>\n",
       "      <td>050XX N CLARK ST</td>\n",
       "      <td>CRIMINAL TRESPASS</td>\n",
       "      <td>TO LAND</td>\n",
       "      <td>BAR OR TAVERN</td>\n",
       "      <td>True</td>\n",
       "      <td>False</td>\n",
       "      <td>2033</td>\n",
       "      <td>20.0</td>\n",
       "      <td>2005</td>\n",
       "      <td>41.972976</td>\n",
       "      <td>-87.668000</td>\n",
       "      <td>20</td>\n",
       "      <td>9</td>\n",
       "    </tr>\n",
       "    <tr>\n",
       "      <th>2</th>\n",
       "      <td>056XX S MICHIGAN AVE</td>\n",
       "      <td>WEAPONS VIOLATION</td>\n",
       "      <td>UNLAWFUL POSS OF HANDGUN</td>\n",
       "      <td>APARTMENT</td>\n",
       "      <td>True</td>\n",
       "      <td>False</td>\n",
       "      <td>225</td>\n",
       "      <td>2.0</td>\n",
       "      <td>2016</td>\n",
       "      <td>41.792277</td>\n",
       "      <td>-87.622402</td>\n",
       "      <td>22</td>\n",
       "      <td>9</td>\n",
       "    </tr>\n",
       "    <tr>\n",
       "      <th>3</th>\n",
       "      <td>085XX S ASHLAND AVE</td>\n",
       "      <td>BATTERY</td>\n",
       "      <td>SIMPLE</td>\n",
       "      <td>GAS STATION</td>\n",
       "      <td>False</td>\n",
       "      <td>False</td>\n",
       "      <td>614</td>\n",
       "      <td>6.0</td>\n",
       "      <td>2002</td>\n",
       "      <td>41.738978</td>\n",
       "      <td>-87.663144</td>\n",
       "      <td>14</td>\n",
       "      <td>9</td>\n",
       "    </tr>\n",
       "    <tr>\n",
       "      <th>4</th>\n",
       "      <td>008XX W 34TH PL</td>\n",
       "      <td>BURGLARY</td>\n",
       "      <td>FORCIBLE ENTRY</td>\n",
       "      <td>APARTMENT</td>\n",
       "      <td>False</td>\n",
       "      <td>False</td>\n",
       "      <td>924</td>\n",
       "      <td>9.0</td>\n",
       "      <td>2004</td>\n",
       "      <td>41.831765</td>\n",
       "      <td>-87.647210</td>\n",
       "      <td>25</td>\n",
       "      <td>9</td>\n",
       "    </tr>\n",
       "  </tbody>\n",
       "</table>\n",
       "</div>"
      ],
      "text/plain": [
       "                  Block        Primary Type               Description  \\\n",
       "0      005XX S STATE ST  DECEPTIVE PRACTICE  FRAUD OR CONFIDENCE GAME   \n",
       "1      050XX N CLARK ST   CRIMINAL TRESPASS                   TO LAND   \n",
       "2  056XX S MICHIGAN AVE   WEAPONS VIOLATION  UNLAWFUL POSS OF HANDGUN   \n",
       "3   085XX S ASHLAND AVE             BATTERY                    SIMPLE   \n",
       "4       008XX W 34TH PL            BURGLARY            FORCIBLE ENTRY   \n",
       "\n",
       "  Location Description  Arrest  Domestic  Beat  District  Year   Latitude  \\\n",
       "0            RESIDENCE   False     False   123       1.0  2015  41.875233   \n",
       "1        BAR OR TAVERN    True     False  2033      20.0  2005  41.972976   \n",
       "2            APARTMENT    True     False   225       2.0  2016  41.792277   \n",
       "3          GAS STATION   False     False   614       6.0  2002  41.738978   \n",
       "4            APARTMENT   False     False   924       9.0  2004  41.831765   \n",
       "\n",
       "   Longitude  Day  Month  \n",
       "0 -87.627619   24      9  \n",
       "1 -87.668000   20      9  \n",
       "2 -87.622402   22      9  \n",
       "3 -87.663144   14      9  \n",
       "4 -87.647210   25      9  "
      ]
     },
     "execution_count": 53,
     "metadata": {},
     "output_type": "execute_result"
    }
   ],
   "source": [
    "data_September=data[data['Month']==9]\n",
    "data_September = shuffle(data_September)\n",
    "data_September=data_September.reset_index(drop=True)\n",
    "data_September.head(5)"
   ]
  },
  {
   "cell_type": "code",
   "execution_count": 54,
   "metadata": {},
   "outputs": [
    {
     "name": "stdout",
     "output_type": "stream",
     "text": [
      "(578364, 13)\n"
     ]
    }
   ],
   "source": [
    "print(data_September.shape)\n",
    "data_September.to_csv(\"September_Data.csv\", sep='\\t')"
   ]
  },
  {
   "cell_type": "markdown",
   "metadata": {},
   "source": [
    "#### Data for October "
   ]
  },
  {
   "cell_type": "code",
   "execution_count": 56,
   "metadata": {},
   "outputs": [
    {
     "data": {
      "text/html": [
       "<div>\n",
       "<style>\n",
       "    .dataframe thead tr:only-child th {\n",
       "        text-align: right;\n",
       "    }\n",
       "\n",
       "    .dataframe thead th {\n",
       "        text-align: left;\n",
       "    }\n",
       "\n",
       "    .dataframe tbody tr th {\n",
       "        vertical-align: top;\n",
       "    }\n",
       "</style>\n",
       "<table border=\"1\" class=\"dataframe\">\n",
       "  <thead>\n",
       "    <tr style=\"text-align: right;\">\n",
       "      <th></th>\n",
       "      <th>Block</th>\n",
       "      <th>Primary Type</th>\n",
       "      <th>Description</th>\n",
       "      <th>Location Description</th>\n",
       "      <th>Arrest</th>\n",
       "      <th>Domestic</th>\n",
       "      <th>Beat</th>\n",
       "      <th>District</th>\n",
       "      <th>Year</th>\n",
       "      <th>Latitude</th>\n",
       "      <th>Longitude</th>\n",
       "      <th>Day</th>\n",
       "      <th>Month</th>\n",
       "    </tr>\n",
       "  </thead>\n",
       "  <tbody>\n",
       "    <tr>\n",
       "      <th>0</th>\n",
       "      <td>121XX S STEWART AVE</td>\n",
       "      <td>GAMBLING</td>\n",
       "      <td>GAME/DICE</td>\n",
       "      <td>ALLEY</td>\n",
       "      <td>True</td>\n",
       "      <td>False</td>\n",
       "      <td>523</td>\n",
       "      <td>5.0</td>\n",
       "      <td>2003</td>\n",
       "      <td>41.673357</td>\n",
       "      <td>-87.632138</td>\n",
       "      <td>11</td>\n",
       "      <td>10</td>\n",
       "    </tr>\n",
       "    <tr>\n",
       "      <th>1</th>\n",
       "      <td>027XX W AUGUSTA BLVD</td>\n",
       "      <td>BATTERY</td>\n",
       "      <td>SIMPLE</td>\n",
       "      <td>SIDEWALK</td>\n",
       "      <td>True</td>\n",
       "      <td>False</td>\n",
       "      <td>1311</td>\n",
       "      <td>12.0</td>\n",
       "      <td>2011</td>\n",
       "      <td>41.899291</td>\n",
       "      <td>-87.695110</td>\n",
       "      <td>15</td>\n",
       "      <td>10</td>\n",
       "    </tr>\n",
       "    <tr>\n",
       "      <th>2</th>\n",
       "      <td>026XX N WESTERN AVE</td>\n",
       "      <td>CRIMINAL DAMAGE</td>\n",
       "      <td>TO VEHICLE</td>\n",
       "      <td>STREET</td>\n",
       "      <td>False</td>\n",
       "      <td>False</td>\n",
       "      <td>1432</td>\n",
       "      <td>14.0</td>\n",
       "      <td>2010</td>\n",
       "      <td>41.929717</td>\n",
       "      <td>-87.687813</td>\n",
       "      <td>8</td>\n",
       "      <td>10</td>\n",
       "    </tr>\n",
       "    <tr>\n",
       "      <th>3</th>\n",
       "      <td>001XX E PEARSON ST</td>\n",
       "      <td>THEFT</td>\n",
       "      <td>FROM BUILDING</td>\n",
       "      <td>HOTEL/MOTEL</td>\n",
       "      <td>False</td>\n",
       "      <td>False</td>\n",
       "      <td>1833</td>\n",
       "      <td>18.0</td>\n",
       "      <td>2002</td>\n",
       "      <td>41.897596</td>\n",
       "      <td>-87.623218</td>\n",
       "      <td>15</td>\n",
       "      <td>10</td>\n",
       "    </tr>\n",
       "    <tr>\n",
       "      <th>4</th>\n",
       "      <td>015XX N KOLIN AVE</td>\n",
       "      <td>ASSAULT</td>\n",
       "      <td>SIMPLE</td>\n",
       "      <td>SIDEWALK</td>\n",
       "      <td>False</td>\n",
       "      <td>True</td>\n",
       "      <td>2534</td>\n",
       "      <td>25.0</td>\n",
       "      <td>2017</td>\n",
       "      <td>41.908351</td>\n",
       "      <td>-87.735074</td>\n",
       "      <td>11</td>\n",
       "      <td>10</td>\n",
       "    </tr>\n",
       "  </tbody>\n",
       "</table>\n",
       "</div>"
      ],
      "text/plain": [
       "                  Block     Primary Type    Description Location Description  \\\n",
       "0   121XX S STEWART AVE         GAMBLING      GAME/DICE                ALLEY   \n",
       "1  027XX W AUGUSTA BLVD          BATTERY         SIMPLE             SIDEWALK   \n",
       "2   026XX N WESTERN AVE  CRIMINAL DAMAGE     TO VEHICLE               STREET   \n",
       "3    001XX E PEARSON ST            THEFT  FROM BUILDING          HOTEL/MOTEL   \n",
       "4     015XX N KOLIN AVE          ASSAULT         SIMPLE             SIDEWALK   \n",
       "\n",
       "   Arrest  Domestic  Beat  District  Year   Latitude  Longitude  Day  Month  \n",
       "0    True     False   523       5.0  2003  41.673357 -87.632138   11     10  \n",
       "1    True     False  1311      12.0  2011  41.899291 -87.695110   15     10  \n",
       "2   False     False  1432      14.0  2010  41.929717 -87.687813    8     10  \n",
       "3   False     False  1833      18.0  2002  41.897596 -87.623218   15     10  \n",
       "4   False      True  2534      25.0  2017  41.908351 -87.735074   11     10  "
      ]
     },
     "execution_count": 56,
     "metadata": {},
     "output_type": "execute_result"
    }
   ],
   "source": [
    "data_October=data[data['Month']==10]\n",
    "data_October = shuffle(data_October)\n",
    "data_October=data_October.reset_index(drop=True)\n",
    "data_October.head(5)"
   ]
  },
  {
   "cell_type": "code",
   "execution_count": 57,
   "metadata": {},
   "outputs": [
    {
     "name": "stdout",
     "output_type": "stream",
     "text": [
      "(564064, 13)\n"
     ]
    }
   ],
   "source": [
    "print(data_October.shape)\n",
    "data_October.to_csv(\"October_Data.csv\", sep='\\t')"
   ]
  },
  {
   "cell_type": "markdown",
   "metadata": {},
   "source": [
    "#### Data for November"
   ]
  },
  {
   "cell_type": "code",
   "execution_count": 58,
   "metadata": {},
   "outputs": [
    {
     "data": {
      "text/html": [
       "<div>\n",
       "<style>\n",
       "    .dataframe thead tr:only-child th {\n",
       "        text-align: right;\n",
       "    }\n",
       "\n",
       "    .dataframe thead th {\n",
       "        text-align: left;\n",
       "    }\n",
       "\n",
       "    .dataframe tbody tr th {\n",
       "        vertical-align: top;\n",
       "    }\n",
       "</style>\n",
       "<table border=\"1\" class=\"dataframe\">\n",
       "  <thead>\n",
       "    <tr style=\"text-align: right;\">\n",
       "      <th></th>\n",
       "      <th>Block</th>\n",
       "      <th>Primary Type</th>\n",
       "      <th>Description</th>\n",
       "      <th>Location Description</th>\n",
       "      <th>Arrest</th>\n",
       "      <th>Domestic</th>\n",
       "      <th>Beat</th>\n",
       "      <th>District</th>\n",
       "      <th>Year</th>\n",
       "      <th>Latitude</th>\n",
       "      <th>Longitude</th>\n",
       "      <th>Day</th>\n",
       "      <th>Month</th>\n",
       "    </tr>\n",
       "  </thead>\n",
       "  <tbody>\n",
       "    <tr>\n",
       "      <th>0</th>\n",
       "      <td>021XX N CICERO AVE</td>\n",
       "      <td>OTHER OFFENSE</td>\n",
       "      <td>OTHER VEHICLE OFFENSE</td>\n",
       "      <td>STREET</td>\n",
       "      <td>True</td>\n",
       "      <td>False</td>\n",
       "      <td>2522</td>\n",
       "      <td>25.0</td>\n",
       "      <td>2007</td>\n",
       "      <td>41.918985</td>\n",
       "      <td>-87.746174</td>\n",
       "      <td>2</td>\n",
       "      <td>11</td>\n",
       "    </tr>\n",
       "    <tr>\n",
       "      <th>1</th>\n",
       "      <td>104XX S PARNELL AV</td>\n",
       "      <td>THEFT</td>\n",
       "      <td>OVER $500</td>\n",
       "      <td>STREET</td>\n",
       "      <td>False</td>\n",
       "      <td>False</td>\n",
       "      <td>2233</td>\n",
       "      <td>22.0</td>\n",
       "      <td>2001</td>\n",
       "      <td>41.705133</td>\n",
       "      <td>-87.636880</td>\n",
       "      <td>5</td>\n",
       "      <td>11</td>\n",
       "    </tr>\n",
       "    <tr>\n",
       "      <th>2</th>\n",
       "      <td>013XX N ASHLAND AVE</td>\n",
       "      <td>THEFT</td>\n",
       "      <td>RETAIL THEFT</td>\n",
       "      <td>DEPARTMENT STORE</td>\n",
       "      <td>False</td>\n",
       "      <td>False</td>\n",
       "      <td>1433</td>\n",
       "      <td>14.0</td>\n",
       "      <td>2007</td>\n",
       "      <td>41.906133</td>\n",
       "      <td>-87.667567</td>\n",
       "      <td>12</td>\n",
       "      <td>11</td>\n",
       "    </tr>\n",
       "    <tr>\n",
       "      <th>3</th>\n",
       "      <td>002XX N STATE ST</td>\n",
       "      <td>BATTERY</td>\n",
       "      <td>SIMPLE</td>\n",
       "      <td>STREET</td>\n",
       "      <td>True</td>\n",
       "      <td>False</td>\n",
       "      <td>122</td>\n",
       "      <td>1.0</td>\n",
       "      <td>2001</td>\n",
       "      <td>41.885777</td>\n",
       "      <td>-87.627797</td>\n",
       "      <td>10</td>\n",
       "      <td>11</td>\n",
       "    </tr>\n",
       "    <tr>\n",
       "      <th>4</th>\n",
       "      <td>051XX W MAYPOLE AVE</td>\n",
       "      <td>NARCOTICS</td>\n",
       "      <td>POSS: CANNABIS 30GMS OR LESS</td>\n",
       "      <td>SIDEWALK</td>\n",
       "      <td>True</td>\n",
       "      <td>False</td>\n",
       "      <td>1532</td>\n",
       "      <td>15.0</td>\n",
       "      <td>2009</td>\n",
       "      <td>41.884334</td>\n",
       "      <td>-87.754313</td>\n",
       "      <td>28</td>\n",
       "      <td>11</td>\n",
       "    </tr>\n",
       "  </tbody>\n",
       "</table>\n",
       "</div>"
      ],
      "text/plain": [
       "                 Block   Primary Type                   Description  \\\n",
       "0   021XX N CICERO AVE  OTHER OFFENSE         OTHER VEHICLE OFFENSE   \n",
       "1   104XX S PARNELL AV          THEFT                     OVER $500   \n",
       "2  013XX N ASHLAND AVE          THEFT                  RETAIL THEFT   \n",
       "3     002XX N STATE ST        BATTERY                        SIMPLE   \n",
       "4  051XX W MAYPOLE AVE      NARCOTICS  POSS: CANNABIS 30GMS OR LESS   \n",
       "\n",
       "  Location Description  Arrest  Domestic  Beat  District  Year   Latitude  \\\n",
       "0               STREET    True     False  2522      25.0  2007  41.918985   \n",
       "1               STREET   False     False  2233      22.0  2001  41.705133   \n",
       "2     DEPARTMENT STORE   False     False  1433      14.0  2007  41.906133   \n",
       "3               STREET    True     False   122       1.0  2001  41.885777   \n",
       "4             SIDEWALK    True     False  1532      15.0  2009  41.884334   \n",
       "\n",
       "   Longitude  Day  Month  \n",
       "0 -87.746174    2     11  \n",
       "1 -87.636880    5     11  \n",
       "2 -87.667567   12     11  \n",
       "3 -87.627797   10     11  \n",
       "4 -87.754313   28     11  "
      ]
     },
     "execution_count": 58,
     "metadata": {},
     "output_type": "execute_result"
    }
   ],
   "source": [
    "data_November=data[data['Month']==11]\n",
    "data_November = shuffle(data_November)\n",
    "data_November=data_November.reset_index(drop=True)\n",
    "data_November.head(5)"
   ]
  },
  {
   "cell_type": "code",
   "execution_count": 59,
   "metadata": {},
   "outputs": [
    {
     "name": "stdout",
     "output_type": "stream",
     "text": [
      "(507626, 13)\n"
     ]
    }
   ],
   "source": [
    "print(data_November.shape)\n",
    "data_November.to_csv(\"November_Data.csv\", sep='\\t')"
   ]
  },
  {
   "cell_type": "markdown",
   "metadata": {},
   "source": [
    "##### Data for December"
   ]
  },
  {
   "cell_type": "code",
   "execution_count": 60,
   "metadata": {},
   "outputs": [
    {
     "data": {
      "text/html": [
       "<div>\n",
       "<style>\n",
       "    .dataframe thead tr:only-child th {\n",
       "        text-align: right;\n",
       "    }\n",
       "\n",
       "    .dataframe thead th {\n",
       "        text-align: left;\n",
       "    }\n",
       "\n",
       "    .dataframe tbody tr th {\n",
       "        vertical-align: top;\n",
       "    }\n",
       "</style>\n",
       "<table border=\"1\" class=\"dataframe\">\n",
       "  <thead>\n",
       "    <tr style=\"text-align: right;\">\n",
       "      <th></th>\n",
       "      <th>Block</th>\n",
       "      <th>Primary Type</th>\n",
       "      <th>Description</th>\n",
       "      <th>Location Description</th>\n",
       "      <th>Arrest</th>\n",
       "      <th>Domestic</th>\n",
       "      <th>Beat</th>\n",
       "      <th>District</th>\n",
       "      <th>Year</th>\n",
       "      <th>Latitude</th>\n",
       "      <th>Longitude</th>\n",
       "      <th>Day</th>\n",
       "      <th>Month</th>\n",
       "    </tr>\n",
       "  </thead>\n",
       "  <tbody>\n",
       "    <tr>\n",
       "      <th>0</th>\n",
       "      <td>079XX S MARYLAND AVE</td>\n",
       "      <td>OTHER OFFENSE</td>\n",
       "      <td>TELEPHONE THREAT</td>\n",
       "      <td>RESIDENCE</td>\n",
       "      <td>False</td>\n",
       "      <td>True</td>\n",
       "      <td>624</td>\n",
       "      <td>6.0</td>\n",
       "      <td>2008</td>\n",
       "      <td>41.750638</td>\n",
       "      <td>-87.603948</td>\n",
       "      <td>10</td>\n",
       "      <td>12</td>\n",
       "    </tr>\n",
       "    <tr>\n",
       "      <th>1</th>\n",
       "      <td>038XX W 57TH PL</td>\n",
       "      <td>BURGLARY</td>\n",
       "      <td>FORCIBLE ENTRY</td>\n",
       "      <td>RESIDENCE</td>\n",
       "      <td>False</td>\n",
       "      <td>False</td>\n",
       "      <td>822</td>\n",
       "      <td>8.0</td>\n",
       "      <td>2012</td>\n",
       "      <td>41.788726</td>\n",
       "      <td>-87.719367</td>\n",
       "      <td>24</td>\n",
       "      <td>12</td>\n",
       "    </tr>\n",
       "    <tr>\n",
       "      <th>2</th>\n",
       "      <td>049XX W PALMER ST</td>\n",
       "      <td>MOTOR VEHICLE THEFT</td>\n",
       "      <td>AUTOMOBILE</td>\n",
       "      <td>DRIVEWAY - RESIDENTIAL</td>\n",
       "      <td>True</td>\n",
       "      <td>False</td>\n",
       "      <td>2522</td>\n",
       "      <td>25.0</td>\n",
       "      <td>2001</td>\n",
       "      <td>41.920632</td>\n",
       "      <td>-87.751068</td>\n",
       "      <td>27</td>\n",
       "      <td>12</td>\n",
       "    </tr>\n",
       "    <tr>\n",
       "      <th>3</th>\n",
       "      <td>048XX S WOLCOTT AVE</td>\n",
       "      <td>BATTERY</td>\n",
       "      <td>SIMPLE</td>\n",
       "      <td>STREET</td>\n",
       "      <td>False</td>\n",
       "      <td>False</td>\n",
       "      <td>931</td>\n",
       "      <td>9.0</td>\n",
       "      <td>2017</td>\n",
       "      <td>41.806241</td>\n",
       "      <td>-87.672196</td>\n",
       "      <td>11</td>\n",
       "      <td>12</td>\n",
       "    </tr>\n",
       "    <tr>\n",
       "      <th>4</th>\n",
       "      <td>013XX N MASSASOIT AVE</td>\n",
       "      <td>KIDNAPPING</td>\n",
       "      <td>CHILD ABDUCTION/STRANGER</td>\n",
       "      <td>VEHICLE NON-COMMERCIAL</td>\n",
       "      <td>False</td>\n",
       "      <td>False</td>\n",
       "      <td>2531</td>\n",
       "      <td>25.0</td>\n",
       "      <td>2008</td>\n",
       "      <td>41.904631</td>\n",
       "      <td>-87.769382</td>\n",
       "      <td>15</td>\n",
       "      <td>12</td>\n",
       "    </tr>\n",
       "  </tbody>\n",
       "</table>\n",
       "</div>"
      ],
      "text/plain": [
       "                   Block         Primary Type               Description  \\\n",
       "0   079XX S MARYLAND AVE        OTHER OFFENSE          TELEPHONE THREAT   \n",
       "1        038XX W 57TH PL             BURGLARY            FORCIBLE ENTRY   \n",
       "2      049XX W PALMER ST  MOTOR VEHICLE THEFT                AUTOMOBILE   \n",
       "3    048XX S WOLCOTT AVE              BATTERY                    SIMPLE   \n",
       "4  013XX N MASSASOIT AVE           KIDNAPPING  CHILD ABDUCTION/STRANGER   \n",
       "\n",
       "     Location Description  Arrest  Domestic  Beat  District  Year   Latitude  \\\n",
       "0               RESIDENCE   False      True   624       6.0  2008  41.750638   \n",
       "1               RESIDENCE   False     False   822       8.0  2012  41.788726   \n",
       "2  DRIVEWAY - RESIDENTIAL    True     False  2522      25.0  2001  41.920632   \n",
       "3                  STREET   False     False   931       9.0  2017  41.806241   \n",
       "4  VEHICLE NON-COMMERCIAL   False     False  2531      25.0  2008  41.904631   \n",
       "\n",
       "   Longitude  Day  Month  \n",
       "0 -87.603948   10     12  \n",
       "1 -87.719367   24     12  \n",
       "2 -87.751068   27     12  \n",
       "3 -87.672196   11     12  \n",
       "4 -87.769382   15     12  "
      ]
     },
     "execution_count": 60,
     "metadata": {},
     "output_type": "execute_result"
    }
   ],
   "source": [
    "data_December=data[data['Month']==12]\n",
    "data_December = shuffle(data_December)\n",
    "data_December=data_December.reset_index(drop=True)\n",
    "data_December.head(5)"
   ]
  },
  {
   "cell_type": "code",
   "execution_count": 61,
   "metadata": {},
   "outputs": [
    {
     "name": "stdout",
     "output_type": "stream",
     "text": [
      "(477854, 13)\n"
     ]
    }
   ],
   "source": [
    "print(data_December.shape)\n",
    "data_December.to_csv(\"December_Data.csv\", sep='\\t')"
   ]
  },
  {
   "cell_type": "code",
   "execution_count": null,
   "metadata": {
    "collapsed": true
   },
   "outputs": [],
   "source": []
  },
  {
   "cell_type": "code",
   "execution_count": null,
   "metadata": {
    "collapsed": true
   },
   "outputs": [],
   "source": []
  }
 ],
 "metadata": {
  "kernelspec": {
   "display_name": "Python 3",
   "language": "python",
   "name": "python3"
  },
  "language_info": {
   "codemirror_mode": {
    "name": "ipython",
    "version": 3
   },
   "file_extension": ".py",
   "mimetype": "text/x-python",
   "name": "python",
   "nbconvert_exporter": "python",
   "pygments_lexer": "ipython3",
   "version": "3.5.4"
  }
 },
 "nbformat": 4,
 "nbformat_minor": 2
}
